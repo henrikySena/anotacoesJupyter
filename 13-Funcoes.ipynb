{
 "cells": [
  {
   "cell_type": "markdown",
   "metadata": {},
   "source": [
    "# <font color='green'>Python Fundamentos - Funções</font>"
   ]
  },
  {
   "cell_type": "code",
   "execution_count": null,
   "metadata": {},
   "outputs": [],
   "source": [
    "# Versão da Linguagem Python\n",
    "from platform import python_version\n",
    "print('Versão da Linguagem Python Usada Neste Jupyter Notebook:', python_version())"
   ]
  },
  {
   "cell_type": "markdown",
   "metadata": {},
   "source": [
    "## Funções\n",
    "<details>\n",
    "    <summary>\n",
    "        <a class=\"btnfire small stroke\"><em class=\"fas fa-chevron-circle-down\"></em>&nbsp;&nbsp;Clique para mais detalhes</a>\n",
    "    </summary>\n",
    "    <br>\n",
    "\n",
    "Uma função, em programação de computadores, **é um conjunto de comandos que realiza uma tarefa específica.** <br>\n",
    "A ideia básica de uma função é encapsular um código que poderá ser invocado/chamado em qualquer outro trecho do programa, ou até mesmo em projetos diferentes. <br>\n",
    "Permite a reutilização de código. <br>\n",
    "Uma função pode ter ou não parâmetros. <br>\n",
    "A diferença entre funções e métodos é que um método pertence a uma classe e é utilizado somente para manipular objetos. Enquanto que uma função pode ser utilizada em qualquer parte do código. <br>\n",
    "Uma função pode retornar ou não valores. Uma função que não retorna valores também pode ser chamada de procedimento. <br>\n",
    "    \n",
    "</details>\n"
   ]
  },
  {
   "cell_type": "code",
   "execution_count": 1,
   "metadata": {},
   "outputs": [],
   "source": [
    "# Definindo uma função\n",
    "def minhaFuncao():\n",
    "    print('Meu objetivo é ser um Cientista de Dados')"
   ]
  },
  {
   "cell_type": "code",
   "execution_count": 2,
   "metadata": {},
   "outputs": [
    {
     "name": "stdout",
     "output_type": "stream",
     "text": [
      "Meu objetivo é ser um Cientista de Dados\n"
     ]
    }
   ],
   "source": [
    "# Chamando uma função\n",
    "minhaFuncao()"
   ]
  },
  {
   "cell_type": "code",
   "execution_count": 3,
   "metadata": {
    "tags": []
   },
   "outputs": [],
   "source": [
    "# Definindo uma função com parâmetros\n",
    "def soma(a, b):\n",
    "    print(\"A soma dos números é igual a\", a + b)"
   ]
  },
  {
   "cell_type": "code",
   "execution_count": 4,
   "metadata": {},
   "outputs": [
    {
     "name": "stdout",
     "output_type": "stream",
     "text": [
      "A soma dos números é igual a 9\n"
     ]
    }
   ],
   "source": [
    "# Chamando uma função\n",
    "x = 4\n",
    "y = 5\n",
    "soma(x, y)"
   ]
  },
  {
   "cell_type": "code",
   "execution_count": 5,
   "metadata": {},
   "outputs": [
    {
     "ename": "TypeError",
     "evalue": "soma() missing 1 required positional argument: 'b'",
     "output_type": "error",
     "traceback": [
      "\u001b[1;31m---------------------------------------------------------------------------\u001b[0m",
      "\u001b[1;31mTypeError\u001b[0m                                 Traceback (most recent call last)",
      "\u001b[1;32m~\\AppData\\Local\\Temp\\ipykernel_5284\\4231127962.py\u001b[0m in \u001b[0;36m<module>\u001b[1;34m\u001b[0m\n\u001b[0;32m      1\u001b[0m \u001b[1;31m# É obrigatório informar todos os parâmetros de uma função. Caso contrário, o interpretador acusará erro.\u001b[0m\u001b[1;33m\u001b[0m\u001b[1;33m\u001b[0m\u001b[0m\n\u001b[1;32m----> 2\u001b[1;33m \u001b[0msoma\u001b[0m\u001b[1;33m(\u001b[0m\u001b[0mx\u001b[0m\u001b[1;33m)\u001b[0m\u001b[1;33m\u001b[0m\u001b[1;33m\u001b[0m\u001b[0m\n\u001b[0m",
      "\u001b[1;31mTypeError\u001b[0m: soma() missing 1 required positional argument: 'b'"
     ]
    }
   ],
   "source": [
    "# É obrigatório informar todos os parâmetros de uma função. Caso contrário, o interpretador acusará erro.\n",
    "soma(x)"
   ]
  },
  {
   "cell_type": "code",
   "execution_count": 6,
   "metadata": {},
   "outputs": [
    {
     "name": "stdout",
     "output_type": "stream",
     "text": [
      "A soma dos números é igual a 5\n"
     ]
    }
   ],
   "source": [
    "# Informando argumentos sem utilizar variáveis.\n",
    "soma(3, 2)"
   ]
  },
  {
   "cell_type": "code",
   "execution_count": 8,
   "metadata": {},
   "outputs": [],
   "source": [
    "# Função que retorna um valor\n",
    "def multiplica(numero1, numero2):\n",
    "    return numero1 * numero2"
   ]
  },
  {
   "cell_type": "code",
   "execution_count": 9,
   "metadata": {},
   "outputs": [
    {
     "data": {
      "text/plain": [
       "42"
      ]
     },
     "execution_count": 9,
     "metadata": {},
     "output_type": "execute_result"
    }
   ],
   "source": [
    "# Chamando uma função\n",
    "multiplica(6, 7)"
   ]
  },
  {
   "cell_type": "code",
   "execution_count": 10,
   "metadata": {},
   "outputs": [],
   "source": [
    "# Atribuindo o retorno de uma função a uma variável\n",
    "resultado = multiplica(9, 8)"
   ]
  },
  {
   "cell_type": "code",
   "execution_count": 11,
   "metadata": {},
   "outputs": [
    {
     "data": {
      "text/plain": [
       "72"
      ]
     },
     "execution_count": 11,
     "metadata": {},
     "output_type": "execute_result"
    }
   ],
   "source": [
    "# Imprimindo uma variável\n",
    "resultado"
   ]
  },
  {
   "cell_type": "code",
   "execution_count": 12,
   "metadata": {},
   "outputs": [],
   "source": [
    "# Uma função pode retornar vários valores\n",
    "def subtrair(num1, num2):\n",
    "    return num1 - num2, num1, num2"
   ]
  },
  {
   "cell_type": "code",
   "execution_count": 14,
   "metadata": {},
   "outputs": [],
   "source": [
    "# Retornando diferentes valores para variáveis distintas\n",
    "resultado, argumento1, argumento2 = subtrair(20, 15)"
   ]
  },
  {
   "cell_type": "code",
   "execution_count": 15,
   "metadata": {},
   "outputs": [
    {
     "data": {
      "text/plain": [
       "5"
      ]
     },
     "execution_count": 15,
     "metadata": {},
     "output_type": "execute_result"
    }
   ],
   "source": [
    "# Imprimindo uma variável\n",
    "resultado"
   ]
  },
  {
   "cell_type": "code",
   "execution_count": 16,
   "metadata": {},
   "outputs": [
    {
     "data": {
      "text/plain": [
       "20"
      ]
     },
     "execution_count": 16,
     "metadata": {},
     "output_type": "execute_result"
    }
   ],
   "source": [
    "# Imprimindo uma variável\n",
    "argumento1"
   ]
  },
  {
   "cell_type": "code",
   "execution_count": 17,
   "metadata": {},
   "outputs": [
    {
     "data": {
      "text/plain": [
       "15"
      ]
     },
     "execution_count": 17,
     "metadata": {},
     "output_type": "execute_result"
    }
   ],
   "source": [
    "# Imprimindo uma variável\n",
    "argumento2"
   ]
  },
  {
   "cell_type": "code",
   "execution_count": 18,
   "metadata": {},
   "outputs": [
    {
     "data": {
      "text/plain": [
       "(5, 20, 15)"
      ]
     },
     "execution_count": 18,
     "metadata": {},
     "output_type": "execute_result"
    }
   ],
   "source": [
    "# Chamando uma função\n",
    "subtrair(20, 15)"
   ]
  },
  {
   "cell_type": "code",
   "execution_count": 19,
   "metadata": {},
   "outputs": [
    {
     "data": {
      "text/plain": [
       "(5, 20, 15)"
      ]
     },
     "execution_count": 19,
     "metadata": {},
     "output_type": "execute_result"
    }
   ],
   "source": [
    "# Atribuindo todos os retornos a uma variável\n",
    "retornoTotal = subtrair(20, 15)\n",
    "retornoTotal"
   ]
  },
  {
   "cell_type": "code",
   "execution_count": 20,
   "metadata": {},
   "outputs": [
    {
     "data": {
      "text/plain": [
       "tuple"
      ]
     },
     "execution_count": 20,
     "metadata": {},
     "output_type": "execute_result"
    }
   ],
   "source": [
    "# Verificando o tipo de dado da variável\n",
    "type(retornoTotal)"
   ]
  },
  {
   "cell_type": "code",
   "execution_count": 21,
   "metadata": {},
   "outputs": [],
   "source": [
    "# Função com número indefinido de parâmetros\n",
    "# Só pode existir um único parâmetro declarado com asterisco e ele precisa ser o último posicionado na declaração da função\n",
    "def umaFuncao(primeiroParametro, *variosParametros):\n",
    "   # Imprimindo o valor do primeiro parâmetro\n",
    "    print (\"Primeiro argumento:\", primeiroParametro)\n",
    "   \n",
    "   # Imprimindo o valor dos outros parâmetros \n",
    "    for k in variosParametros:\n",
    "        print (\"O argumento passado foi:\", k)"
   ]
  },
  {
   "cell_type": "code",
   "execution_count": 22,
   "metadata": {},
   "outputs": [
    {
     "name": "stdout",
     "output_type": "stream",
     "text": [
      "Primeiro argumento: Cientista\n",
      "O argumento passado foi: Python\n",
      "O argumento passado foi: Pandas\n",
      "O argumento passado foi: Previsão\n",
      "O argumento passado foi: Acurácia\n"
     ]
    }
   ],
   "source": [
    "# Chamando uma função\n",
    "umaFuncao(\"Cientista\", \"Python\", \"Pandas\", \"Previsão\", \"Acurácia\")"
   ]
  },
  {
   "cell_type": "code",
   "execution_count": 23,
   "metadata": {},
   "outputs": [],
   "source": [
    "# Variável Global\n",
    "variavelGlobal = 10\n",
    "\n",
    "def divisao(parametro1, parametro2):\n",
    "    if (parametro2 != 0):\n",
    "        variavelLocal = parametro1 / parametro2\n",
    "        return variavelLocal\n",
    "    else:\n",
    "        print(\"Não é possível realizar divisão por zero\")"
   ]
  },
  {
   "cell_type": "code",
   "execution_count": 24,
   "metadata": {},
   "outputs": [
    {
     "data": {
      "text/plain": [
       "5.0"
      ]
     },
     "execution_count": 24,
     "metadata": {},
     "output_type": "execute_result"
    }
   ],
   "source": [
    "# Chamando uma função\n",
    "divisao(30, 6)"
   ]
  },
  {
   "cell_type": "code",
   "execution_count": 25,
   "metadata": {},
   "outputs": [
    {
     "data": {
      "text/plain": [
       "10"
      ]
     },
     "execution_count": 25,
     "metadata": {},
     "output_type": "execute_result"
    }
   ],
   "source": [
    "# Imprimindo uma variável global\n",
    "variavelGlobal"
   ]
  },
  {
   "cell_type": "code",
   "execution_count": 26,
   "metadata": {
    "tags": []
   },
   "outputs": [
    {
     "ename": "NameError",
     "evalue": "name 'variavelLocal' is not defined",
     "output_type": "error",
     "traceback": [
      "\u001b[1;31m---------------------------------------------------------------------------\u001b[0m",
      "\u001b[1;31mNameError\u001b[0m                                 Traceback (most recent call last)",
      "\u001b[1;32m~\\AppData\\Local\\Temp\\ipykernel_5284\\2093929025.py\u001b[0m in \u001b[0;36m<module>\u001b[1;34m\u001b[0m\n\u001b[0;32m      1\u001b[0m \u001b[1;31m# Não é possível imprimir uma variável local\u001b[0m\u001b[1;33m\u001b[0m\u001b[1;33m\u001b[0m\u001b[0m\n\u001b[1;32m----> 2\u001b[1;33m \u001b[0mvariavelLocal\u001b[0m\u001b[1;33m\u001b[0m\u001b[1;33m\u001b[0m\u001b[0m\n\u001b[0m",
      "\u001b[1;31mNameError\u001b[0m: name 'variavelLocal' is not defined"
     ]
    }
   ],
   "source": [
    "# Não é possível imprimir uma variável local\n",
    "variavelLocal"
   ]
  },
  {
   "cell_type": "code",
   "execution_count": 27,
   "metadata": {
    "tags": []
   },
   "outputs": [
    {
     "ename": "NameError",
     "evalue": "name 'parametro1' is not defined",
     "output_type": "error",
     "traceback": [
      "\u001b[1;31m---------------------------------------------------------------------------\u001b[0m",
      "\u001b[1;31mNameError\u001b[0m                                 Traceback (most recent call last)",
      "\u001b[1;32m~\\AppData\\Local\\Temp\\ipykernel_5284\\2610053630.py\u001b[0m in \u001b[0;36m<module>\u001b[1;34m\u001b[0m\n\u001b[0;32m      1\u001b[0m \u001b[1;31m# Não é possível imprimir uma variável local\u001b[0m\u001b[1;33m\u001b[0m\u001b[1;33m\u001b[0m\u001b[0m\n\u001b[1;32m----> 2\u001b[1;33m \u001b[0mparametro1\u001b[0m\u001b[1;33m\u001b[0m\u001b[1;33m\u001b[0m\u001b[0m\n\u001b[0m",
      "\u001b[1;31mNameError\u001b[0m: name 'parametro1' is not defined"
     ]
    }
   ],
   "source": [
    "# Não é possível imprimir uma variável local\n",
    "parametro1"
   ]
  },
  {
   "cell_type": "markdown",
   "metadata": {
    "tags": []
   },
   "source": [
    "### Exercícios"
   ]
  },
  {
   "cell_type": "markdown",
   "metadata": {},
   "source": [
    "1 - Faça uma função chamada somaImposto. A função possui dois parâmetros: taxaImposto, que é a quantia de imposto sobre vendas expressa em porcentagem, e custo, que é o custo de um produto sem imposto. A função deve somar o preço de custo com o imposto."
   ]
  },
  {
   "cell_type": "code",
   "execution_count": 41,
   "metadata": {},
   "outputs": [],
   "source": [
    "def somaImposto(taxaImposto, custo):\n",
    "    taxa = (taxaImposto / 100) * custo\n",
    "    return custo + taxa"
   ]
  },
  {
   "cell_type": "code",
   "execution_count": 42,
   "metadata": {},
   "outputs": [
    {
     "name": "stdin",
     "output_type": "stream",
     "text": [
      "Taxa de imposto (apenas números):  10\n",
      "Valor bruto do item (apenas números):  100\n"
     ]
    }
   ],
   "source": [
    "x = int(input('Taxa de imposto (apenas números): '))\n",
    "y = float(input('Valor bruto do item (apenas números): '))"
   ]
  },
  {
   "cell_type": "code",
   "execution_count": 44,
   "metadata": {},
   "outputs": [
    {
     "name": "stdout",
     "output_type": "stream",
     "text": [
      "O valor do item com a taxa de imposto será de R$110.0\n"
     ]
    }
   ],
   "source": [
    "print(f'O valor do item com a taxa de imposto será de R${somaImposto(x, y)}')"
   ]
  },
  {
   "cell_type": "code",
   "execution_count": null,
   "metadata": {},
   "outputs": [],
   "source": []
  },
  {
   "cell_type": "code",
   "execution_count": null,
   "metadata": {},
   "outputs": [],
   "source": []
  },
  {
   "cell_type": "code",
   "execution_count": 1,
   "metadata": {},
   "outputs": [],
   "source": [
    "# Função que soma o preço de custo com o imposto\n",
    "def somaImposto(taxaImposto, custo):\n",
    "    return custo + custo * (taxaImposto / 100)"
   ]
  },
  {
   "cell_type": "code",
   "execution_count": 2,
   "metadata": {},
   "outputs": [
    {
     "data": {
      "text/plain": [
       "110.0"
      ]
     },
     "execution_count": 2,
     "metadata": {},
     "output_type": "execute_result"
    }
   ],
   "source": [
    "# Variáveis\n",
    "imposto = 10\n",
    "precoDeCusto = 100\n",
    "\n",
    "# Somando o imposto\n",
    "somaImposto(imposto, precoDeCusto)"
   ]
  },
  {
   "cell_type": "markdown",
   "metadata": {},
   "source": [
    "2 - O IMC é a relação entre peso e altura e o cálculo é feito de acordo com a fórmula: IMC = peso/(altura x altura), devendo o peso estar em quilogramas e a altura em metro, e o resultado é dado em kg/m<sup>2</sup>. Depois de obter o resultado, é possível verificar em que faixa o IMC se encontra, podendo indicar: <br>\n",
    "Magreza, quando o resultado é menor que 18,5 kg/m<sup>2</sup>; <br>\n",
    "Normal, quando o resultado está entre 18,5 e 24,9 kg/m<sup>2</sup>; <br>\n",
    "Sobrepeso, quando o resultado está entre 24,9 e 30 kg/m<sup>2</sup>; <br>\n",
    "Obesidade, quando o resultado é maior que 30 kg/m<sup>2</sup>.<br>\n",
    "Faça uma função que calcule o IMC  de uma pessoa e retorne se ela está em situação de Magreza, Normal, Sobrepeso ou Obesidade."
   ]
  },
  {
   "cell_type": "code",
   "execution_count": 76,
   "metadata": {},
   "outputs": [],
   "source": [
    "def calculaIMC(peso, altura):\n",
    "    \n",
    "    imc = peso/(altura*altura)\n",
    "    \n",
    "    if imc < 18.5:\n",
    "        print(f'IMC = {imc:.2f}, Magreza')\n",
    "        \n",
    "    elif (imc >= 18.5) and (imc < 24.9):\n",
    "        print(f'IMC = {imc:.2f}, Normal')\n",
    "        \n",
    "    elif (imc >= 24.9) and (imc < 30):\n",
    "        print(f'IMC = {imc:.2f}, Sobrepeso')\n",
    "        \n",
    "    else:\n",
    "        print(f'IMC = {imc:.2f}, Obesidade')"
   ]
  },
  {
   "cell_type": "code",
   "execution_count": 82,
   "metadata": {},
   "outputs": [
    {
     "name": "stdout",
     "output_type": "stream",
     "text": [
      "IMC = 25.27, Sobrepeso\n"
     ]
    }
   ],
   "source": [
    "calculaIMC(76.5, 1.74)"
   ]
  },
  {
   "cell_type": "code",
   "execution_count": null,
   "metadata": {},
   "outputs": [],
   "source": []
  },
  {
   "cell_type": "code",
   "execution_count": null,
   "metadata": {},
   "outputs": [],
   "source": []
  },
  {
   "cell_type": "code",
   "execution_count": null,
   "metadata": {},
   "outputs": [],
   "source": []
  },
  {
   "cell_type": "code",
   "execution_count": 3,
   "metadata": {},
   "outputs": [],
   "source": [
    "# função que calcula o IMC\n",
    "def calculaImc(peso, altura):\n",
    "    imc = round(peso / (altura * altura), 2)\n",
    "    if (imc < 18.5):\n",
    "        print(\"IMC =\", imc, \"- Magreza\")\n",
    "    elif (imc >= 18.5) and (imc < 24.9):\n",
    "        print (\"IMC =\", imc, \"- Normal\")\n",
    "    elif (imc >= 24.9) and (imc < 30):\n",
    "        print(\"IMC =\", imc, \"- Sobrepeso\")\n",
    "    else:\n",
    "        print(\"IMC =\", imc, \"- Obesidade\")"
   ]
  },
  {
   "cell_type": "code",
   "execution_count": 4,
   "metadata": {},
   "outputs": [
    {
     "name": "stdout",
     "output_type": "stream",
     "text": [
      "IMC = 25.86 - Sobrepeso\n"
     ]
    }
   ],
   "source": [
    "# Variáveis\n",
    "umPeso = 73\n",
    "umaAltura = 1.68\n",
    "\n",
    "# Chamando função que calcula o IMC\n",
    "calculaImc(umPeso, umaAltura)"
   ]
  },
  {
   "cell_type": "markdown",
   "metadata": {},
   "source": [
    "3 - Escreva uma função que gere mil números aleatórios entre 1 e 100000 e retorne: <br>\n",
    "- o menor número; <br>\n",
    "- o maior número; <br>\n",
    "- a soma dos números; <br>\n",
    "- a média dos números. <br>\n",
    "Obs.: Crie o seu próprio código e não utilize funções Built-in para calcular o que foi solicitado. Você pode utilizar as funções range e randint e o método append de uma variável do tipo lista.  "
   ]
  },
  {
   "cell_type": "code",
   "execution_count": 126,
   "metadata": {},
   "outputs": [],
   "source": [
    "from random import randint\n",
    "\n",
    "def calc100k():\n",
    "    \n",
    "    # cria lista vazia\n",
    "    listaNum = []\n",
    "    \n",
    "    # gera números 100 aleatórios\n",
    "    for i in range(100):\n",
    "        listaNum.append(randint(1, 100000))\n",
    "    \n",
    "    # declara variáveis\n",
    "    menorN = maiorN = listaNum[0]    # confere o valor das varíaveis a um valor que será analisado no looping\n",
    "    soma = 0\n",
    "    media = 0\n",
    "    \n",
    "    # alálises e cálculos\n",
    "    for i in listaNum:\n",
    "        if i < menorN:\n",
    "            menorN = i\n",
    "        \n",
    "        elif i > maiorN:\n",
    "            maiorN = i\n",
    "\n",
    "        soma += i\n",
    "        \n",
    "    media = soma / 1000 \n",
    "\n",
    "    # retorna o valor usando um print (poderia usar o return tbm)\n",
    "    print(f'O menor número é: {menorN} \\nO maior número é {maiorN} \\nA soma dos números: {soma} \\nA média dos números: {media:.2f}')"
   ]
  },
  {
   "cell_type": "code",
   "execution_count": 128,
   "metadata": {},
   "outputs": [
    {
     "name": "stdout",
     "output_type": "stream",
     "text": [
      "O menor número é: 376 \n",
      "O maior número é 97681 \n",
      "A soma dos números: 5304637 \n",
      "A média dos números: 5304.64\n"
     ]
    }
   ],
   "source": [
    "calc100k()"
   ]
  },
  {
   "cell_type": "code",
   "execution_count": null,
   "metadata": {},
   "outputs": [],
   "source": [
    "# --------------------------------------------------------------------------------------------------------------- #"
   ]
  },
  {
   "cell_type": "code",
   "execution_count": 6,
   "metadata": {},
   "outputs": [],
   "source": [
    "# Importando a função randint\n",
    "from random import randint"
   ]
  },
  {
   "cell_type": "code",
   "execution_count": 107,
   "metadata": {},
   "outputs": [],
   "source": [
    "# Criando a função\n",
    "def geraNumeros():\n",
    "    # lista vazia\n",
    "    listaNumeros = []\n",
    "\n",
    "    # criando a lista de números aleatórios\n",
    "    for k in range(1000):\n",
    "        listaNumeros.append(randint(1, 100000))\n",
    "    \n",
    "    # Variáveis\n",
    "    menorNumero = maiorNumero = listaNumeros[0]\n",
    "    soma = 0\n",
    "    \n",
    "    # Verifica o menor número e o maior número e soma os valores\n",
    "    for item in listaNumeros:\n",
    "        if (item < menorNumero):\n",
    "            menorNumero = item\n",
    "        elif (item > maiorNumero):\n",
    "            maiorNumero = item\n",
    "        soma += item\n",
    "    \n",
    "    media = soma / 1000\n",
    "\n",
    "    return menorNumero, maiorNumero, soma, media"
   ]
  },
  {
   "cell_type": "code",
   "execution_count": 108,
   "metadata": {},
   "outputs": [],
   "source": [
    "# Chamando a função criada\n",
    "menor, maior, somaDosNumeros, mediaDosNumeros = geraNumeros()"
   ]
  },
  {
   "cell_type": "code",
   "execution_count": 109,
   "metadata": {},
   "outputs": [
    {
     "name": "stdout",
     "output_type": "stream",
     "text": [
      "O menor número é: 28\n"
     ]
    }
   ],
   "source": [
    "# Imprimindo o menor\n",
    "print(\"O menor número é:\", menor)"
   ]
  },
  {
   "cell_type": "code",
   "execution_count": 110,
   "metadata": {},
   "outputs": [
    {
     "name": "stdout",
     "output_type": "stream",
     "text": [
      "O maior número é: 99961\n"
     ]
    }
   ],
   "source": [
    "# Imprimindo o maior número\n",
    "print(\"O maior número é:\", maior)"
   ]
  },
  {
   "cell_type": "code",
   "execution_count": 111,
   "metadata": {},
   "outputs": [
    {
     "name": "stdout",
     "output_type": "stream",
     "text": [
      "A soma dos números é: 49818961\n"
     ]
    }
   ],
   "source": [
    "# Imprimindo a soma dos números\n",
    "print(\"A soma dos números é:\", somaDosNumeros)"
   ]
  },
  {
   "cell_type": "code",
   "execution_count": 112,
   "metadata": {},
   "outputs": [
    {
     "name": "stdout",
     "output_type": "stream",
     "text": [
      "A média dos números é: 49818.961\n"
     ]
    }
   ],
   "source": [
    "# Imprimindo a média dos números\n",
    "print(\"A média dos números é:\", mediaDosNumeros)"
   ]
  },
  {
   "cell_type": "code",
   "execution_count": null,
   "metadata": {},
   "outputs": [],
   "source": []
  }
 ],
 "metadata": {
  "kernelspec": {
   "display_name": "Python 3 (ipykernel)",
   "language": "python",
   "name": "python3"
  },
  "language_info": {
   "codemirror_mode": {
    "name": "ipython",
    "version": 3
   },
   "file_extension": ".py",
   "mimetype": "text/x-python",
   "name": "python",
   "nbconvert_exporter": "python",
   "pygments_lexer": "ipython3",
   "version": "3.9.13"
  }
 },
 "nbformat": 4,
 "nbformat_minor": 4
}
