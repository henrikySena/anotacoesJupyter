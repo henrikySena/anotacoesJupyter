{
 "cells": [
  {
   "cell_type": "markdown",
   "metadata": {},
   "source": [
    "# <font color='blue'>Estatística Descritiva Univariada quantitativa - parte 2</font>"
   ]
  },
  {
   "cell_type": "code",
   "execution_count": 1,
   "metadata": {},
   "outputs": [
    {
     "name": "stdout",
     "output_type": "stream",
     "text": [
      "Versão da Linguagem Python Usada Neste Jupyter Notebook: 3.9.13\n",
      "Pandas Version: 2.0.2\n"
     ]
    }
   ],
   "source": [
    "# Versão da Linguagem Python\n",
    "from platform import python_version\n",
    "print('Versão da Linguagem Python Usada Neste Jupyter Notebook:', python_version())\n",
    "\n",
    "# Verificando as versões dos pacotes instalados\n",
    "pandasVersion = !pip show Pandas\n",
    "print('Pandas', pandasVersion[1])"
   ]
  },
  {
   "cell_type": "markdown",
   "metadata": {},
   "source": [
    "### Medidas de dispersão ou variabilidade\n",
    "<details>\n",
    "    <summary>\n",
    "        <a class=\"btnfire small stroke\"><em class=\"fas fa-chevron-circle-down\"></em>&nbsp;&nbsp;Clique para mais detalhes</a>\n",
    "    </summary>\n",
    "    <br>\n",
    "\n",
    "As **medidas de dispersão**, também conhecidas como medidas de variabilidade, são utilizadas para caracterizar a dispersão ou variabilidade dos dados. Essas medidas nos ajudam a compreender o quão longe os dados se encontram em relação à média. <br>\n",
    "As medidas de dispersão mais comuns referem-se: <br>\n",
    "- Amplitude; <br>\n",
    "- Desvio-médio; <br>\n",
    "- Variância; <br>\n",
    "- Desvio-padrão; <br>\n",
    "- Erro-padrão; <br>\n",
    "- Coeficiente de variação.\n",
    "\n",
    "</details>"
   ]
  },
  {
   "cell_type": "markdown",
   "metadata": {},
   "source": [
    "### Amplitude\n",
    "A amplitude representa a diferença entre o maior e o menor valor do conjunto de observações;"
   ]
  },
  {
   "cell_type": "code",
   "execution_count": 1,
   "metadata": {},
   "outputs": [],
   "source": [
    "# Importando os pacotes\n",
    "import pandas as pd\n",
    "import numpy as np"
   ]
  },
  {
   "cell_type": "code",
   "execution_count": 9,
   "metadata": {},
   "outputs": [
    {
     "data": {
      "text/plain": [
       "array([ 5, 10, 15, 20, 25])"
      ]
     },
     "execution_count": 9,
     "metadata": {},
     "output_type": "execute_result"
    }
   ],
   "source": [
    "# Criando um array \n",
    "array = np.arange(5, 30, 5)\n",
    "array"
   ]
  },
  {
   "cell_type": "code",
   "execution_count": 10,
   "metadata": {},
   "outputs": [
    {
     "data": {
      "text/plain": [
       "20"
      ]
     },
     "execution_count": 10,
     "metadata": {},
     "output_type": "execute_result"
    }
   ],
   "source": [
    "# Calculando a amplitude\n",
    "amplitude = max(array) - min(array)\n",
    "amplitude"
   ]
  },
  {
   "cell_type": "markdown",
   "metadata": {},
   "source": [
    "### Desvio-médio\n",
    "O **desvio-médio** representa a média aritmética dos desvios absolutos. Sendo que o desvio absoluto é o módulo da diferença entre cada valor observado e a média da variável. <br>\n",
    "Quanto maior o desvio-médio, maior a dispersão dos dados."
   ]
  },
  {
   "cell_type": "code",
   "execution_count": 11,
   "metadata": {},
   "outputs": [
    {
     "data": {
      "text/plain": [
       "[12.4, 22.6, 18.9, 9.7, 14.5, 22.5, 26.3, 17.7, 31.2, 20.4]"
      ]
     },
     "execution_count": 11,
     "metadata": {},
     "output_type": "execute_result"
    }
   ],
   "source": [
    "# Criando uma lista com os km percorridos por um ciclista\n",
    "lista = [12.4, 22.6, 18.9, 9.7, 14.5, 22.5, 26.3, 17.7, 31.2, 20.4]\n",
    "lista"
   ]
  },
  {
   "cell_type": "code",
   "execution_count": 12,
   "metadata": {},
   "outputs": [
    {
     "data": {
      "text/plain": [
       "19.619999999999997"
      ]
     },
     "execution_count": 12,
     "metadata": {},
     "output_type": "execute_result"
    }
   ],
   "source": [
    "# Calculando a média\n",
    "media = np.mean(lista)\n",
    "media"
   ]
  },
  {
   "cell_type": "code",
   "execution_count": 13,
   "metadata": {},
   "outputs": [
    {
     "name": "stdout",
     "output_type": "stream",
     "text": [
      "[7.219999999999997, 2.980000000000004, 0.7199999999999989, 9.919999999999998, 5.119999999999997, 2.8800000000000026, 6.680000000000003, 1.9199999999999982, 11.580000000000002, 0.7800000000000011]\n"
     ]
    }
   ],
   "source": [
    "# Criando uma lista vazia\n",
    "listaDesviosAbsolutos = []\n",
    "\n",
    "# Calculando os desvios absolutos\n",
    "for i in lista:\n",
    "    diferenca = i - media\n",
    "    listaDesviosAbsolutos.append(np.absolute(diferenca)) \n",
    "else:\n",
    "    print(listaDesviosAbsolutos)"
   ]
  },
  {
   "cell_type": "code",
   "execution_count": 14,
   "metadata": {},
   "outputs": [
    {
     "data": {
      "text/plain": [
       "4.9799999999999995"
      ]
     },
     "execution_count": 14,
     "metadata": {},
     "output_type": "execute_result"
    }
   ],
   "source": [
    "# Calculando a média dos desvios absolutos para encontrar o desvio-médio \n",
    "# isso é a variabilidade dos dados (no caso, o quanto de variação nos km percorridos pelo ciclista)\n",
    "np.mean(listaDesviosAbsolutos)"
   ]
  },
  {
   "cell_type": "code",
   "execution_count": 15,
   "metadata": {},
   "outputs": [
    {
     "data": {
      "text/plain": [
       "4.9799999999999995"
      ]
     },
     "execution_count": 15,
     "metadata": {},
     "output_type": "execute_result"
    }
   ],
   "source": [
    "# Calculando o desvio-médio em apenas uma linha, tudo que está acima pode ser resumido por isso:\n",
    "desvioMedio = np.mean(np.absolute(lista - np.mean(lista)))\n",
    "desvioMedio"
   ]
  },
  {
   "cell_type": "code",
   "execution_count": 16,
   "metadata": {},
   "outputs": [
    {
     "data": {
      "text/html": [
       "<div>\n",
       "<style scoped>\n",
       "    .dataframe tbody tr th:only-of-type {\n",
       "        vertical-align: middle;\n",
       "    }\n",
       "\n",
       "    .dataframe tbody tr th {\n",
       "        vertical-align: top;\n",
       "    }\n",
       "\n",
       "    .dataframe thead th {\n",
       "        text-align: right;\n",
       "    }\n",
       "</style>\n",
       "<table border=\"1\" class=\"dataframe\">\n",
       "  <thead>\n",
       "    <tr style=\"text-align: right;\">\n",
       "      <th></th>\n",
       "      <th>Número de gols</th>\n",
       "      <th>Fi</th>\n",
       "    </tr>\n",
       "  </thead>\n",
       "  <tbody>\n",
       "    <tr>\n",
       "      <th>0</th>\n",
       "      <td>0</td>\n",
       "      <td>5</td>\n",
       "    </tr>\n",
       "    <tr>\n",
       "      <th>1</th>\n",
       "      <td>1</td>\n",
       "      <td>8</td>\n",
       "    </tr>\n",
       "    <tr>\n",
       "      <th>2</th>\n",
       "      <td>2</td>\n",
       "      <td>6</td>\n",
       "    </tr>\n",
       "    <tr>\n",
       "      <th>3</th>\n",
       "      <td>3</td>\n",
       "      <td>4</td>\n",
       "    </tr>\n",
       "    <tr>\n",
       "      <th>4</th>\n",
       "      <td>4</td>\n",
       "      <td>4</td>\n",
       "    </tr>\n",
       "    <tr>\n",
       "      <th>5</th>\n",
       "      <td>5</td>\n",
       "      <td>2</td>\n",
       "    </tr>\n",
       "    <tr>\n",
       "      <th>6</th>\n",
       "      <td>6</td>\n",
       "      <td>1</td>\n",
       "    </tr>\n",
       "  </tbody>\n",
       "</table>\n",
       "</div>"
      ],
      "text/plain": [
       "   Número de gols  Fi\n",
       "0               0   5\n",
       "1               1   8\n",
       "2               2   6\n",
       "3               3   4\n",
       "4               4   4\n",
       "5               5   2\n",
       "6               6   1"
      ]
     },
     "execution_count": 16,
     "metadata": {},
     "output_type": "execute_result"
    }
   ],
   "source": [
    "# Criando um dicionário\n",
    "dicionario = {\n",
    "    \"Número de gols\": [0, 1, 2, 3, 4, 5, 6],\n",
    "    \"Fi\": [5, 8, 6, 4, 4, 2, 1]\n",
    "}\n",
    "df = pd.DataFrame(dicionario)\n",
    "df"
   ]
  },
  {
   "cell_type": "code",
   "execution_count": 17,
   "metadata": {},
   "outputs": [
    {
     "data": {
      "text/plain": [
       "1.368888888888889"
      ]
     },
     "execution_count": 17,
     "metadata": {},
     "output_type": "execute_result"
    }
   ],
   "source": [
    "# Calculando o desvio-médio considerando a frequência absoluta dos dados, tomando como base a média ponderada\n",
    "desvioMedio = np.average(np.absolute(df[\"Número de gols\"] - np.average(df[\"Número de gols\"], weights=df.Fi)), weights=df.Fi)\n",
    "desvioMedio"
   ]
  },
  {
   "cell_type": "markdown",
   "metadata": {
    "tags": []
   },
   "source": [
    "### Variância\n",
    "A variância é uma medida de dispersão que avalia o quanto os dados estão dispersos em relação à média. <br>\n",
    "Quanto maior a variância, maior a dispersão dos dados. <br>\n",
    "Em vez de considerar a média dos desvios absolutos, conforme calculamos no desvio médio, a variância é calculada a partir da média dos desvios quadrados.  "
   ]
  },
  {
   "cell_type": "code",
   "execution_count": 18,
   "metadata": {},
   "outputs": [
    {
     "data": {
      "text/plain": [
       "[12.4, 22.6, 18.9, 9.7, 14.5, 22.5, 26.3, 17.7, 31.2, 20.4]"
      ]
     },
     "execution_count": 18,
     "metadata": {},
     "output_type": "execute_result"
    }
   ],
   "source": [
    "# Imprimindo a lista\n",
    "lista"
   ]
  },
  {
   "cell_type": "code",
   "execution_count": 19,
   "metadata": {
    "tags": []
   },
   "outputs": [
    {
     "name": "stdout",
     "output_type": "stream",
     "text": [
      "[52.12839999999996, 8.880400000000023, 0.5183999999999984, 98.40639999999996, 26.214399999999973, 8.294400000000016, 44.62240000000004, 3.686399999999993, 134.09640000000005, 0.6084000000000018]\n"
     ]
    }
   ],
   "source": [
    "# Criando uma lista vazia\n",
    "listaDesviosQuadrados = []\n",
    "\n",
    "# Calculando os desvios quadrados\n",
    "for i in lista:\n",
    "    diferenca = i - media\n",
    "    listaDesviosQuadrados.append(np.power(diferenca,2)) \n",
    "else:\n",
    "    print(listaDesviosQuadrados)"
   ]
  },
  {
   "cell_type": "code",
   "execution_count": 20,
   "metadata": {},
   "outputs": [
    {
     "data": {
      "text/plain": [
       "37.74560000000001"
      ]
     },
     "execution_count": 20,
     "metadata": {},
     "output_type": "execute_result"
    }
   ],
   "source": [
    "# Calculando a média dos desvios quadrados para encontrar a variância da população\n",
    "np.mean(listaDesviosQuadrados)"
   ]
  },
  {
   "cell_type": "code",
   "execution_count": 21,
   "metadata": {},
   "outputs": [
    {
     "data": {
      "text/plain": [
       "41.939555555555565"
      ]
     },
     "execution_count": 21,
     "metadata": {},
     "output_type": "execute_result"
    }
   ],
   "source": [
    "# Variância da amostra \n",
    "np.sum(listaDesviosQuadrados) / (np.size(lista) - 1)"
   ]
  },
  {
   "cell_type": "code",
   "execution_count": 22,
   "metadata": {},
   "outputs": [
    {
     "data": {
      "text/plain": [
       "37.74560000000001"
      ]
     },
     "execution_count": 22,
     "metadata": {},
     "output_type": "execute_result"
    }
   ],
   "source": [
    "# Variância da população em apenas uma linha, tudo que está acima pode ser resumido por isso:\n",
    "np.var(lista)"
   ]
  },
  {
   "cell_type": "code",
   "execution_count": 23,
   "metadata": {},
   "outputs": [
    {
     "data": {
      "text/plain": [
       "41.939555555555565"
      ]
     },
     "execution_count": 23,
     "metadata": {},
     "output_type": "execute_result"
    }
   ],
   "source": [
    "# Variância da amostra em apenas uma linha, tudo que está acima pode ser resumido por isso:\n",
    "np.var(lista, ddof=1)"
   ]
  },
  {
   "cell_type": "code",
   "execution_count": 24,
   "metadata": {},
   "outputs": [
    {
     "data": {
      "text/html": [
       "<div>\n",
       "<style scoped>\n",
       "    .dataframe tbody tr th:only-of-type {\n",
       "        vertical-align: middle;\n",
       "    }\n",
       "\n",
       "    .dataframe tbody tr th {\n",
       "        vertical-align: top;\n",
       "    }\n",
       "\n",
       "    .dataframe thead th {\n",
       "        text-align: right;\n",
       "    }\n",
       "</style>\n",
       "<table border=\"1\" class=\"dataframe\">\n",
       "  <thead>\n",
       "    <tr style=\"text-align: right;\">\n",
       "      <th></th>\n",
       "      <th>Número de gols</th>\n",
       "      <th>Fi</th>\n",
       "    </tr>\n",
       "  </thead>\n",
       "  <tbody>\n",
       "    <tr>\n",
       "      <th>0</th>\n",
       "      <td>0</td>\n",
       "      <td>5</td>\n",
       "    </tr>\n",
       "    <tr>\n",
       "      <th>1</th>\n",
       "      <td>1</td>\n",
       "      <td>8</td>\n",
       "    </tr>\n",
       "    <tr>\n",
       "      <th>2</th>\n",
       "      <td>2</td>\n",
       "      <td>6</td>\n",
       "    </tr>\n",
       "    <tr>\n",
       "      <th>3</th>\n",
       "      <td>3</td>\n",
       "      <td>4</td>\n",
       "    </tr>\n",
       "    <tr>\n",
       "      <th>4</th>\n",
       "      <td>4</td>\n",
       "      <td>4</td>\n",
       "    </tr>\n",
       "    <tr>\n",
       "      <th>5</th>\n",
       "      <td>5</td>\n",
       "      <td>2</td>\n",
       "    </tr>\n",
       "    <tr>\n",
       "      <th>6</th>\n",
       "      <td>6</td>\n",
       "      <td>1</td>\n",
       "    </tr>\n",
       "  </tbody>\n",
       "</table>\n",
       "</div>"
      ],
      "text/plain": [
       "   Número de gols  Fi\n",
       "0               0   5\n",
       "1               1   8\n",
       "2               2   6\n",
       "3               3   4\n",
       "4               4   4\n",
       "5               5   2\n",
       "6               6   1"
      ]
     },
     "execution_count": 24,
     "metadata": {},
     "output_type": "execute_result"
    }
   ],
   "source": [
    "# Visualizando o DataFrame\n",
    "df"
   ]
  },
  {
   "cell_type": "code",
   "execution_count": 25,
   "metadata": {},
   "outputs": [
    {
     "data": {
      "text/plain": [
       "2.7155555555555555"
      ]
     },
     "execution_count": 25,
     "metadata": {},
     "output_type": "execute_result"
    }
   ],
   "source": [
    "# Calculando a variância da população considerando a frequência absoluta dos dados, tomando como base a média ponderada\n",
    "variancia = np.average(np.power(df[\"Número de gols\"] - np.average(df[\"Número de gols\"], weights=df.Fi), 2), weights=df.Fi)\n",
    "variancia"
   ]
  },
  {
   "cell_type": "markdown",
   "metadata": {},
   "source": [
    "### Desvio-padrão\n",
    "Como a variância considera a média dos desvios quadrados, seu valor tende a ser muito grande e de difícil interpretação. Para resolver esse problema, nós extraímos a raiz quadrada da variância e encontramos o desvio padrão. Sendo assim, o desvio padrão é a raiz quadrada da variância. <br>\n",
    "O desvio-padrão é expresso na unidade dos dados com os quais estamos trabalhando e é a medida de dispersão utilizada com maior frequência."
   ]
  },
  {
   "cell_type": "code",
   "execution_count": 26,
   "metadata": {},
   "outputs": [
    {
     "data": {
      "text/plain": [
       "[12.4, 22.6, 18.9, 9.7, 14.5, 22.5, 26.3, 17.7, 31.2, 20.4]"
      ]
     },
     "execution_count": 26,
     "metadata": {},
     "output_type": "execute_result"
    }
   ],
   "source": [
    "# Imprimindo a lista\n",
    "lista"
   ]
  },
  {
   "cell_type": "code",
   "execution_count": 27,
   "metadata": {},
   "outputs": [
    {
     "data": {
      "text/plain": [
       "6.1437447863660495"
      ]
     },
     "execution_count": 27,
     "metadata": {},
     "output_type": "execute_result"
    }
   ],
   "source": [
    "# Desvio-padrão da população\n",
    "np.std(lista)"
   ]
  },
  {
   "cell_type": "code",
   "execution_count": null,
   "metadata": {},
   "outputs": [],
   "source": [
    "# Desvio-padrão da amostra\n",
    "np.std(lista, ddof=1)"
   ]
  },
  {
   "cell_type": "markdown",
   "metadata": {},
   "source": [
    "### Erro-padrão\n",
    "O erro-padrão é o desvio-padrão da média. É obtido dividindo-se o desvio-padrão pela raiz quadrada do tamanho da população ou amostra. <br>\n",
    "O erro-padrão é uma medida que ajuda a avaliar a confiabilidade da média calculada."
   ]
  },
  {
   "cell_type": "code",
   "execution_count": 28,
   "metadata": {},
   "outputs": [
    {
     "data": {
      "text/plain": [
       "[124, 111, 132, 142, 108, 127, 133, 144, 148, 105]"
      ]
     },
     "execution_count": 28,
     "metadata": {},
     "output_type": "execute_result"
    }
   ],
   "source": [
    "# Tempo de preparo, em segundos, do concreto em uma betoneira \n",
    "lista2 = [124, 111, 132, 142, 108, 127, 133, 144, 148, 105]\n",
    "lista2"
   ]
  },
  {
   "cell_type": "code",
   "execution_count": 29,
   "metadata": {},
   "outputs": [
    {
     "data": {
      "text/plain": [
       "4.609121391328286"
      ]
     },
     "execution_count": 29,
     "metadata": {},
     "output_type": "execute_result"
    }
   ],
   "source": [
    "# Calculando o erro-padrão da população\n",
    "erroPadrao = np.std(lista2) / np.sqrt(np.size(lista2))\n",
    "erroPadrao"
   ]
  },
  {
   "cell_type": "code",
   "execution_count": 30,
   "metadata": {},
   "outputs": [
    {
     "data": {
      "text/plain": [
       "4.858440536267213"
      ]
     },
     "execution_count": 30,
     "metadata": {},
     "output_type": "execute_result"
    }
   ],
   "source": [
    "# Calculando o erro-padrão da amostra\n",
    "erroPadrao = np.std(lista2, ddof=1) / np.sqrt(np.size(lista2))\n",
    "erroPadrao"
   ]
  },
  {
   "cell_type": "code",
   "execution_count": 31,
   "metadata": {
    "scrolled": true,
    "tags": []
   },
   "outputs": [
    {
     "data": {
      "text/plain": [
       "[125,\n",
       " 102,\n",
       " 135,\n",
       " 126,\n",
       " 132,\n",
       " 129,\n",
       " 156,\n",
       " 112,\n",
       " 108,\n",
       " 134,\n",
       " 126,\n",
       " 104,\n",
       " 143,\n",
       " 140,\n",
       " 138,\n",
       " 129,\n",
       " 119,\n",
       " 114,\n",
       " 107,\n",
       " 121,\n",
       " 124,\n",
       " 112,\n",
       " 148,\n",
       " 145,\n",
       " 130,\n",
       " 125,\n",
       " 120,\n",
       " 127,\n",
       " 106,\n",
       " 148]"
      ]
     },
     "execution_count": 31,
     "metadata": {},
     "output_type": "execute_result"
    }
   ],
   "source": [
    "lista3 = [125, 102, 135, 126, 132, 129, 156, 112, 108, 134, 126, 104, 143, 140, 138, 129, 119, 114, 107, 121, 124, 112, 148, 145, 130, 125, 120, 127, 106, 148]\n",
    "lista3"
   ]
  },
  {
   "cell_type": "code",
   "execution_count": 32,
   "metadata": {},
   "outputs": [
    {
     "data": {
      "text/plain": [
       "2.5539004302061987"
      ]
     },
     "execution_count": 32,
     "metadata": {},
     "output_type": "execute_result"
    }
   ],
   "source": [
    "# Calculando o erro padrão da população\n",
    "erroPadrao = np.std(lista3) / np.sqrt(np.size(lista3))\n",
    "erroPadrao"
   ]
  },
  {
   "cell_type": "markdown",
   "metadata": {},
   "source": [
    "### Coeficiente de variação\n",
    "O coeficiente de variação é uma medida de dispersão relativa que fornece a variação dos dados em relação à média. Quanto menor for o seu valor, mais homogêneos serão os dados, ou seja, menor será a variabilidade em torno da média. <br>\n",
    "Um coeficiente de variação pode ser considerado baixo, indicando um conjunto de dados razoavelmente homogêneo, quando for menor do que 30%. Por outro lado, se esse valor for acima de 30% o conjunto de dados pode ser considerado heterogêneo. <br>\n",
    "O coeficiente de variação é calculado dividindo-se o desvio padrão pela média dos elementos. E por ser um percentual, o resultado da divisão deve ser multiplicado por cem. "
   ]
  },
  {
   "cell_type": "code",
   "execution_count": 33,
   "metadata": {},
   "outputs": [
    {
     "data": {
      "text/plain": [
       "11.087150926653235"
      ]
     },
     "execution_count": 33,
     "metadata": {},
     "output_type": "execute_result"
    }
   ],
   "source": [
    "# Coeficiente de variação da população\n",
    "cvp = (np.std(lista3) / np.mean(lista3)) * 100\n",
    "cvp"
   ]
  },
  {
   "cell_type": "code",
   "execution_count": 34,
   "metadata": {},
   "outputs": [
    {
     "data": {
      "text/plain": [
       "11.276688603748811"
      ]
     },
     "execution_count": 34,
     "metadata": {},
     "output_type": "execute_result"
    }
   ],
   "source": [
    "# Coeficiente de variação da amostra\n",
    "cva = (np.std(lista3, ddof=1) / np.mean(lista3)) * 100\n",
    "cva"
   ]
  },
  {
   "cell_type": "markdown",
   "metadata": {},
   "source": [
    "### Comparando performance do NumPy versus SciPy"
   ]
  },
  {
   "cell_type": "code",
   "execution_count": 3,
   "metadata": {},
   "outputs": [],
   "source": [
    "# Importando pacote para calcular o tempo de execução de uma célula\n",
    "from datetime import datetime\n",
    "import scipy.stats as stat"
   ]
  },
  {
   "cell_type": "code",
   "execution_count": 4,
   "metadata": {},
   "outputs": [],
   "source": [
    "# Criando um array gigante\n",
    "array = np.arange(1, 999999999, 1)"
   ]
  },
  {
   "cell_type": "code",
   "execution_count": 5,
   "metadata": {},
   "outputs": [
    {
     "name": "stdout",
     "output_type": "stream",
     "text": [
      "Tempo Total SciPy: 0:00:22.654028\n",
      "Erro padrão:  9128.709282623904\n"
     ]
    }
   ],
   "source": [
    "# Marca o início da execução do cálculo do erro padrão da população com o SciPy.\n",
    "inicio = datetime.now()\n",
    "\n",
    "# Calcula o erro padrão da população com o SciPy \n",
    "erroPadraoSciPy = stat.sem(array, ddof=0)\n",
    "\n",
    "# Calcula o tempo decorrido\n",
    "tempoSciPy = datetime.now() - inicio\n",
    "\n",
    "# Imprime o tempo total\n",
    "print('Tempo Total SciPy:', tempoSciPy)\n",
    "print(\"Erro padrão: \", erroPadraoSciPy)"
   ]
  },
  {
   "cell_type": "code",
   "execution_count": 6,
   "metadata": {},
   "outputs": [
    {
     "name": "stdout",
     "output_type": "stream",
     "text": [
      "Tempo Total NumPy: 0:00:19.727743\n",
      "Erro padrão:  9128.709282623904\n"
     ]
    }
   ],
   "source": [
    "# Marca o início da execução do cálculo do erro padrão da população com o NumPy.\n",
    "inicio = datetime.now()\n",
    "\n",
    "# Calcula o erro padrão da população com o NumPy \n",
    "erroPadraoNumPy = np.std(array) / np.sqrt(np.size(array))\n",
    "\n",
    "# Calcula o tempo decorrido\n",
    "tempoNumPy = datetime.now() - inicio\n",
    "\n",
    "# Imprime o tempo total\n",
    "print('Tempo Total NumPy:', tempoNumPy)\n",
    "print(\"Erro padrão: \", erroPadraoNumPy)"
   ]
  },
  {
   "cell_type": "code",
   "execution_count": 7,
   "metadata": {},
   "outputs": [
    {
     "name": "stdout",
     "output_type": "stream",
     "text": [
      "O NumPy foi 0:00:02.926285 segundos mais rápido que o SciPy neste exemplo.\n"
     ]
    }
   ],
   "source": [
    "print(\"O NumPy foi\", tempoSciPy - tempoNumPy, \"segundos mais rápido que o SciPy neste exemplo.\")"
   ]
  },
  {
   "cell_type": "code",
   "execution_count": null,
   "metadata": {},
   "outputs": [],
   "source": []
  }
 ],
 "metadata": {
  "kernelspec": {
   "display_name": "Python 3 (ipykernel)",
   "language": "python",
   "name": "python3"
  },
  "language_info": {
   "codemirror_mode": {
    "name": "ipython",
    "version": 3
   },
   "file_extension": ".py",
   "mimetype": "text/x-python",
   "name": "python",
   "nbconvert_exporter": "python",
   "pygments_lexer": "ipython3",
   "version": "3.9.13"
  }
 },
 "nbformat": 4,
 "nbformat_minor": 4
}
