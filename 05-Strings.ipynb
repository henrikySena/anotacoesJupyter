{
 "cells": [
  {
   "cell_type": "markdown",
   "metadata": {},
   "source": [
    "# <font color='white'>Python Fundamentos - Strings</font>"
   ]
  },
  {
   "cell_type": "code",
   "execution_count": null,
   "metadata": {},
   "outputs": [],
   "source": [
    "# Versão da Linguagem Python\n",
    "from platform import python_version\n",
    "print('Versão da Linguagem Python Usada Neste Jupyter Notebook:', python_version())"
   ]
  },
  {
   "cell_type": "markdown",
   "metadata": {
    "tags": []
   },
   "source": [
    "## Strings\n",
    "<details>\n",
    "    <summary>\n",
    "        <a class=\"btnfire small stroke\"><em class=\"fas fa-chevron-circle-down\"></em>&nbsp;&nbsp;Clique para mais detalhes</a>\n",
    "    </summary>\n",
    "    <br>\n",
    "    \n",
    "Em Python, uma string é uma sequência de caracteres, onde cada elemento dessa sequência pode ser controlado. <br>\n",
    "Python entende a string “Alô mundo” como uma sequência de letras em uma ordem específica. <br>\n",
    "É possível extrair qualquer caracter pertencente a string a partir da sua indexação. <br>\n",
    "Indexação de string é a forma de organizar e encontrar uma letra dentro da sequência de caracteres através de índices. <br>\n",
    "**Indexação em Python inicia por zero.** <br>\n",
    "Strings são imutáveis, ou seja, os elementos que pertencem a ela não podem ser modificados.\n",
    "</details>"
   ]
  },
  {
   "cell_type": "markdown",
   "metadata": {
    "tags": []
   },
   "source": [
    "### Criando uma String\n",
    "Para criar uma string em Python você pode usar aspas simples, duplas ou triplas."
   ]
  },
  {
   "cell_type": "code",
   "execution_count": null,
   "metadata": {},
   "outputs": [],
   "source": [
    "# Uma única palavra. Observe que a palavra \"string\" não é uma palavra reservada\n",
    "string = 'Python'\n",
    "string"
   ]
  },
  {
   "cell_type": "code",
   "execution_count": null,
   "metadata": {},
   "outputs": [],
   "source": [
    "# Uma frase\n",
    "frase = 'Criando uma frase em Python'\n",
    "frase"
   ]
  },
  {
   "cell_type": "code",
   "execution_count": null,
   "metadata": {},
   "outputs": [],
   "source": [
    "# Usando aspas duplas\n",
    "aspasDuplas = \"Podemos usar aspas duplas ou simples para criar strings em Python\"\n",
    "aspasDuplas"
   ]
  },
  {
   "cell_type": "code",
   "execution_count": null,
   "metadata": {},
   "outputs": [],
   "source": [
    "# Combinando aspas duplas e simples\n",
    "aspasDuplasSimples = \"Frase com aspas 'duplas' e 'simples' em Python\"\n",
    "aspasDuplasSimples"
   ]
  },
  {
   "cell_type": "code",
   "execution_count": null,
   "metadata": {},
   "outputs": [],
   "source": [
    "# Aspas triplas permite criar string com múltiplas linhas\n",
    "aspasTriplas = \"\"\"Python e Ciência de Dados\"\"\", '''Projetos em Data Science'''\n",
    "aspasTriplas"
   ]
  },
  {
   "cell_type": "code",
   "execution_count": null,
   "metadata": {},
   "outputs": [],
   "source": [
    "# O interpretador ignora strings criadas com aspas triplas e que não foram atribuídas a uma variável\n",
    "\"\"\"\n",
    "Exemplo de string com aspas duplas e simples\n",
    "\"\"\"\n",
    "variavel = 'Mais uma \"frasse\" com aspas simples e duplas'\n",
    "variavel"
   ]
  },
  {
   "cell_type": "markdown",
   "metadata": {},
   "source": [
    "### Imprimindo uma String"
   ]
  },
  {
   "cell_type": "code",
   "execution_count": null,
   "metadata": {},
   "outputs": [],
   "source": [
    "# Imprimindo uma frase\n",
    "print('Aqui temos uma string')"
   ]
  },
  {
   "cell_type": "code",
   "execution_count": null,
   "metadata": {},
   "outputs": [],
   "source": [
    "# Imprimindo uma frase\n",
    "print('Aqui \\ntemos \\numa \\nstring')"
   ]
  },
  {
   "cell_type": "code",
   "execution_count": null,
   "metadata": {},
   "outputs": [],
   "source": [
    "# Imprimindo uma variável\n",
    "print(frase)"
   ]
  },
  {
   "cell_type": "markdown",
   "metadata": {},
   "source": [
    "### Concatenando Strings"
   ]
  },
  {
   "cell_type": "code",
   "execution_count": null,
   "metadata": {},
   "outputs": [],
   "source": [
    "# Definindo uma variável\n",
    "nome = \"Jorge\""
   ]
  },
  {
   "cell_type": "code",
   "execution_count": null,
   "metadata": {},
   "outputs": [],
   "source": [
    "# Definindo uma variável\n",
    "sobreNome = \"Costa\""
   ]
  },
  {
   "cell_type": "code",
   "execution_count": null,
   "metadata": {},
   "outputs": [],
   "source": [
    "# Concatenando strings\n",
    "nomeCompleto = nome + \" \" + sobreNome\n",
    "nomeCompleto"
   ]
  },
  {
   "cell_type": "markdown",
   "metadata": {
    "tags": []
   },
   "source": [
    "### Indexando Strings"
   ]
  },
  {
   "cell_type": "code",
   "execution_count": null,
   "metadata": {},
   "outputs": [],
   "source": [
    "# Definindo uma variável\n",
    "umaString = 'Ciência de Dados'\n",
    "umaString"
   ]
  },
  {
   "cell_type": "code",
   "execution_count": null,
   "metadata": {},
   "outputs": [],
   "source": [
    "# Primeiro elemento da string. \n",
    "umaString[0]"
   ]
  },
  {
   "cell_type": "code",
   "execution_count": null,
   "metadata": {},
   "outputs": [],
   "source": [
    "# Segundo elemento da string\n",
    "umaString[1]"
   ]
  },
  {
   "cell_type": "code",
   "execution_count": null,
   "metadata": {},
   "outputs": [],
   "source": [
    "# Terceiro elemento da string\n",
    "umaString[2]"
   ]
  },
  {
   "cell_type": "code",
   "execution_count": null,
   "metadata": {},
   "outputs": [],
   "source": [
    "# Uma string é imutável\n",
    "umaString[0] = \"w\"\n",
    "umaString"
   ]
  },
  {
   "cell_type": "code",
   "execution_count": null,
   "metadata": {},
   "outputs": [],
   "source": [
    "# É possível atribuir um novo valor para a variável do tipo string\n",
    "umaString = \"O Cientista de Dados deve ser bem remunerado\"\n",
    "umaString"
   ]
  },
  {
   "cell_type": "markdown",
   "metadata": {},
   "source": [
    "### Slicing\n",
    "Fatiar significa extrair elementos de uma string. <br>\n",
    "O sinal de : entre colchetes executa um slicing (fatiamento)."
   ]
  },
  {
   "cell_type": "code",
   "execution_count": null,
   "metadata": {},
   "outputs": [],
   "source": [
    "# Retorna todos os elementos da string, começando pela posição de índice 1 até o final da string.\n",
    "umaString[1:]"
   ]
  },
  {
   "cell_type": "code",
   "execution_count": null,
   "metadata": {},
   "outputs": [],
   "source": [
    "# A string original permanece inalterada\n",
    "umaString"
   ]
  },
  {
   "cell_type": "code",
   "execution_count": null,
   "metadata": {},
   "outputs": [],
   "source": [
    "# Retorna tudo até a posição 3\n",
    "umaString[:3]"
   ]
  },
  {
   "cell_type": "code",
   "execution_count": null,
   "metadata": {},
   "outputs": [],
   "source": [
    "# Retorna toda string\n",
    "umaString[:]"
   ]
  },
  {
   "cell_type": "code",
   "execution_count": null,
   "metadata": {},
   "outputs": [],
   "source": [
    "# Indexação negativa: lê de trás para frente. A posição inicial decrescente em Python é 1\n",
    "umaString[-5]"
   ]
  },
  {
   "cell_type": "code",
   "execution_count": null,
   "metadata": {},
   "outputs": [],
   "source": [
    "# Indexação negativa: lê de trás para frente. Exclui texto do final da frase até a posição -5 e retorna até a posição inicial 0\n",
    "umaString[0:-5]"
   ]
  },
  {
   "cell_type": "code",
   "execution_count": null,
   "metadata": {},
   "outputs": [],
   "source": [
    "# Retornar tudo, exceto a última letra\n",
    "umaString[:-1]"
   ]
  },
  {
   "cell_type": "code",
   "execution_count": null,
   "metadata": {},
   "outputs": [],
   "source": [
    "# Retorna todas as letras com UM salto a partir da primeira posição\n",
    "# slice da variável de i até j com salto de k. Caso não sejam informados valores para i e j, todos os elementos serão considerados\n",
    "# s[i:j:k]\n",
    "umaString[::1]"
   ]
  },
  {
   "cell_type": "code",
   "execution_count": null,
   "metadata": {},
   "outputs": [],
   "source": [
    "# Retorna todas as letras com DOIS saltos a partir da primeira posição\n",
    "umaString[::2]"
   ]
  },
  {
   "cell_type": "code",
   "execution_count": null,
   "metadata": {},
   "outputs": [],
   "source": [
    "# Retorna todas as letras com TRÊS saltos a partir da primeira posição\n",
    "umaString[::3]"
   ]
  },
  {
   "cell_type": "code",
   "execution_count": null,
   "metadata": {},
   "outputs": [],
   "source": [
    "# lê e imprime de trás para frente.\n",
    "umaString[::-1]"
   ]
  },
  {
   "cell_type": "markdown",
   "metadata": {},
   "source": [
    "### Operações com Strings"
   ]
  },
  {
   "cell_type": "code",
   "execution_count": null,
   "metadata": {},
   "outputs": [],
   "source": [
    "umaString"
   ]
  },
  {
   "cell_type": "code",
   "execution_count": null,
   "metadata": {},
   "outputs": [],
   "source": [
    "# Concatenação\n",
    "umaString += \" e é a profissão do futuro\"\n",
    "umaString"
   ]
  },
  {
   "cell_type": "code",
   "execution_count": null,
   "metadata": {},
   "outputs": [],
   "source": [
    "s = 'a'"
   ]
  },
  {
   "cell_type": "code",
   "execution_count": null,
   "metadata": {},
   "outputs": [],
   "source": [
    "# O sinal de multiplicação cria repetição\n",
    "s * 3"
   ]
  },
  {
   "cell_type": "code",
   "execution_count": null,
   "metadata": {},
   "outputs": [],
   "source": [
    "# Verifica se uma letra, ou palavra, ou frase pertence à string\n",
    "'futuro' in umaString"
   ]
  },
  {
   "cell_type": "markdown",
   "metadata": {},
   "source": [
    "### Métodos de uma String"
   ]
  },
  {
   "cell_type": "code",
   "execution_count": null,
   "metadata": {},
   "outputs": [],
   "source": [
    "# Utilizar a tecla TAB para visualizar os métodos\n",
    "# Coloca todas as letras em maiúsculas\n",
    "umaString.upper()"
   ]
  },
  {
   "cell_type": "code",
   "execution_count": null,
   "metadata": {},
   "outputs": [],
   "source": [
    "# Coloca todas as letras em minúsculas\n",
    "umaString.lower()"
   ]
  },
  {
   "cell_type": "code",
   "execution_count": null,
   "metadata": {},
   "outputs": [],
   "source": [
    "# Dividir uma string. O padrão é espaço em branco.\n",
    "umaString.split()"
   ]
  },
  {
   "cell_type": "code",
   "execution_count": null,
   "metadata": {},
   "outputs": [],
   "source": [
    "# Dividir uma string por um elemento específico\n",
    "umaString.split('é')"
   ]
  },
  {
   "cell_type": "code",
   "execution_count": null,
   "metadata": {},
   "outputs": [],
   "source": [
    "# A variável original não foi alterada\n",
    "umaString"
   ]
  },
  {
   "cell_type": "code",
   "execution_count": null,
   "metadata": {},
   "outputs": [],
   "source": [
    "# Conta quantas vezes a letra d minúscula aparece\n",
    "umaString.count('d')"
   ]
  },
  {
   "cell_type": "code",
   "execution_count": null,
   "metadata": {},
   "outputs": [],
   "source": [
    "# Conta quantas vezes a letra d MAIÚSCULA aparece\n",
    "umaString.count('D')"
   ]
  },
  {
   "cell_type": "code",
   "execution_count": null,
   "metadata": {},
   "outputs": [],
   "source": [
    "# Retorna o índice de uma posição de uma letra\n",
    "umaString.find('D')"
   ]
  },
  {
   "cell_type": "markdown",
   "metadata": {},
   "source": [
    "### Tamanho de uma String"
   ]
  },
  {
   "cell_type": "code",
   "execution_count": null,
   "metadata": {},
   "outputs": [],
   "source": [
    "# O tamanho é quantidade de letras\n",
    "len(umaString)"
   ]
  },
  {
   "cell_type": "markdown",
   "metadata": {},
   "source": [
    "### Comparando Strings"
   ]
  },
  {
   "cell_type": "code",
   "execution_count": 3,
   "metadata": {},
   "outputs": [
    {
     "data": {
      "text/plain": [
       "False"
      ]
     },
     "execution_count": 3,
     "metadata": {},
     "output_type": "execute_result"
    }
   ],
   "source": [
    "\"Python\" == \"Java\""
   ]
  },
  {
   "cell_type": "code",
   "execution_count": 4,
   "metadata": {},
   "outputs": [
    {
     "data": {
      "text/plain": [
       "True"
      ]
     },
     "execution_count": 4,
     "metadata": {},
     "output_type": "execute_result"
    }
   ],
   "source": [
    "\"Python\" == \"Python\""
   ]
  },
  {
   "cell_type": "markdown",
   "metadata": {},
   "source": [
    "Documentação sobre string: <br>\n",
    "https://docs.python.org/3.9/library/stdtypes.html#text-sequence-type-str"
   ]
  },
  {
   "cell_type": "markdown",
   "metadata": {
    "tags": []
   },
   "source": [
    "### Exercícios"
   ]
  },
  {
   "cell_type": "markdown",
   "metadata": {},
   "source": [
    "1 - Faça um programa que solicite duas strings ao usuário. O programa deverá informar o conteúdo e o comprimento das strings, como também deverá verificar se as duas strings possuem o mesmo comprimento e se são iguais ou diferentes no conteúdo.<br>\n",
    "2 - Faça um programa que permita ao usuário digitar o seu nome, em seguida o programa mostrará o nome informado de trás para frente, utilizando somente letras maiúsculas, e separando as palavras. <br>\n",
    "3 - Faça um programa que leia uma string e depois verifique quantas vezes o caracter espaço em branco aparece."
   ]
  },
  {
   "cell_type": "code",
   "execution_count": 9,
   "metadata": {},
   "outputs": [
    {
     "name": "stdin",
     "output_type": "stream",
     "text": [
      "Insira a primeira String:  coco\n",
      "Insira a segunda String:  coco\n"
     ]
    },
    {
     "name": "stdout",
     "output_type": "stream",
     "text": [
      "O tamanho da primeira string: coco é 4, e da segunda string: coco é 4\n",
      "As strings são iguais? True\n",
      "As strings são iguais em tamanho? True\n"
     ]
    }
   ],
   "source": [
    "'''\n",
    "1 - Faça um programa que solicite duas strings ao usuário. O programa deverá informar o conteúdo e o \n",
    "comprimento das strings, como também deverá verificar se as duas strings possuem o mesmo comprimento \n",
    "e se são iguais ou diferentes no conteúdo.\n",
    "'''\n",
    "\n",
    "s1 = str(input('Insira a primeira String: '))\n",
    "s2 = str(input('Insira a segunda String: '))\n",
    "\n",
    "tamanhoS1 = len(s1)\n",
    "tamanhoS2 = len(s2)\n",
    "\n",
    "comparaTamanho = tamanhoS1 == tamanhoS2\n",
    "comparaIgual = s1 == s2\n",
    "\n",
    "print(f'O tamanho da primeira string: {s1} é {tamanhoS1}, e da segunda string: {s2} é {tamanhoS2}')\n",
    "print(f'As strings são iguais? {comparaIgual}')\n",
    "print(f'As strings são iguais em tamanho? {comparaTamanho}')"
   ]
  },
  {
   "cell_type": "code",
   "execution_count": 20,
   "metadata": {},
   "outputs": [
    {
     "name": "stdin",
     "output_type": "stream",
     "text": [
      "Digite seu nome:  roberto alburquerque pereira\n"
     ]
    },
    {
     "data": {
      "text/plain": [
       "['ARIEREP', 'EUQREUQRUBLA', 'OTREBOR']"
      ]
     },
     "execution_count": 20,
     "metadata": {},
     "output_type": "execute_result"
    }
   ],
   "source": [
    "'''\n",
    "2 - Faça um programa que permita ao usuário digitar o seu nome, em seguida o programa mostrará o nome \n",
    "informado de trás para frente, utilizando somente letras maiúsculas, e separando as palavras.\n",
    "'''\n",
    "\n",
    "nomeUsuario = str(input('Digite seu nome: '))\n",
    "\n",
    "# String de trás para frente utilizando somente letras maiúsculas e com as palavras separadas\n",
    "nomeUsuario[::-1].upper().split()\n"
   ]
  },
  {
   "cell_type": "code",
   "execution_count": 22,
   "metadata": {},
   "outputs": [
    {
     "name": "stdin",
     "output_type": "stream",
     "text": [
      "digite um texto:  a al l  l l l l l l   l\n"
     ]
    },
    {
     "data": {
      "text/plain": [
       "12"
      ]
     },
     "execution_count": 22,
     "metadata": {},
     "output_type": "execute_result"
    }
   ],
   "source": [
    "'''\n",
    "3 - Faça um programa que leia uma string e depois verifique quantas vezes o caracter espaço em branco aparece.\n",
    "'''\n",
    "\n",
    "texto = str(input('digite um texto: '))\n",
    "\n",
    "texto.count(' ')"
   ]
  },
  {
   "cell_type": "markdown",
   "metadata": {
    "jp-MarkdownHeadingCollapsed": true,
    "tags": []
   },
   "source": [
    "### Respostas"
   ]
  },
  {
   "cell_type": "markdown",
   "metadata": {},
   "source": [
    "Proposta de solução para o exercício 1"
   ]
  },
  {
   "cell_type": "code",
   "execution_count": 1,
   "metadata": {
    "tags": []
   },
   "outputs": [
    {
     "name": "stdin",
     "output_type": "stream",
     "text": [
      "Digite um texto:  cientista\n"
     ]
    }
   ],
   "source": [
    "# Leitura da primeira string\n",
    "string1 = input(\"Digite um texto: \")"
   ]
  },
  {
   "cell_type": "code",
   "execution_count": 2,
   "metadata": {
    "tags": []
   },
   "outputs": [
    {
     "name": "stdin",
     "output_type": "stream",
     "text": [
      "Digite outro texto:  de dados\n"
     ]
    }
   ],
   "source": [
    "# Leitura da segunda string\n",
    "string2 = input(\"Digite outro texto: \")"
   ]
  },
  {
   "cell_type": "code",
   "execution_count": 3,
   "metadata": {
    "tags": []
   },
   "outputs": [],
   "source": [
    "# Tamanho das strings\n",
    "tamanho1 = len(string1)\n",
    "tamanho2 = len(string2)"
   ]
  },
  {
   "cell_type": "code",
   "execution_count": 4,
   "metadata": {
    "tags": []
   },
   "outputs": [
    {
     "name": "stdout",
     "output_type": "stream",
     "text": [
      "O comprimento do texto: 'cientista' é de 9 letras.\n"
     ]
    }
   ],
   "source": [
    "# Mensagem informado o tamanho da variável string1\n",
    "print(\"O comprimento do texto: '\" + string1 + \"' é de %d letras.\" %tamanho1)"
   ]
  },
  {
   "cell_type": "code",
   "execution_count": 5,
   "metadata": {
    "tags": []
   },
   "outputs": [
    {
     "name": "stdout",
     "output_type": "stream",
     "text": [
      "O comprimento do texto: 'de dados' é de 8 letras.\n"
     ]
    }
   ],
   "source": [
    "# Mensagem informado o tamanho da string2\n",
    "print(\"O comprimento do texto: '\" + string2 + \"' é de %d letras.\" %tamanho2)"
   ]
  },
  {
   "cell_type": "code",
   "execution_count": 7,
   "metadata": {
    "tags": []
   },
   "outputs": [
    {
     "data": {
      "text/plain": [
       "False"
      ]
     },
     "execution_count": 7,
     "metadata": {},
     "output_type": "execute_result"
    }
   ],
   "source": [
    "# Verifica se os tamanhos são iguais\n",
    "tamanho1 == tamanho2"
   ]
  },
  {
   "cell_type": "code",
   "execution_count": 8,
   "metadata": {
    "tags": []
   },
   "outputs": [
    {
     "data": {
      "text/plain": [
       "False"
      ]
     },
     "execution_count": 8,
     "metadata": {},
     "output_type": "execute_result"
    }
   ],
   "source": [
    "# Verifica se as strings são iguais\n",
    "string1 == string2"
   ]
  },
  {
   "cell_type": "markdown",
   "metadata": {},
   "source": [
    "Proposta de solução para o exercício 2"
   ]
  },
  {
   "cell_type": "code",
   "execution_count": 9,
   "metadata": {
    "tags": []
   },
   "outputs": [
    {
     "name": "stdin",
     "output_type": "stream",
     "text": [
      "Digite um texto:  Jorge Fabrício Lopes dos Santos\n"
     ]
    }
   ],
   "source": [
    "# Leitura da string\n",
    "texto = input(\"Digite um texto: \")"
   ]
  },
  {
   "cell_type": "code",
   "execution_count": 10,
   "metadata": {
    "tags": []
   },
   "outputs": [
    {
     "data": {
      "text/plain": [
       "['SOTNAS', 'SOD', 'SEPOL', 'OICÍRBAF', 'EGROJ']"
      ]
     },
     "execution_count": 10,
     "metadata": {},
     "output_type": "execute_result"
    }
   ],
   "source": [
    "# String de trás para frente utilizando somente letras maiúsculas e com as palavras separadas\n",
    "texto[::-1].upper().split()"
   ]
  },
  {
   "cell_type": "markdown",
   "metadata": {},
   "source": [
    "Proposta de solução para o exercício 3"
   ]
  },
  {
   "cell_type": "code",
   "execution_count": 11,
   "metadata": {
    "tags": []
   },
   "outputs": [
    {
     "name": "stdin",
     "output_type": "stream",
     "text": [
      "Digite um texto:  Ciência de Dados utiliza ferramentas de Inteligência Artificial\n"
     ]
    }
   ],
   "source": [
    "# Leitura da string\n",
    "s = input(\"Digite um texto: \")"
   ]
  },
  {
   "cell_type": "code",
   "execution_count": 12,
   "metadata": {
    "tags": []
   },
   "outputs": [
    {
     "name": "stdout",
     "output_type": "stream",
     "text": [
      "O espaço em branco aparece 7 vezes \n"
     ]
    }
   ],
   "source": [
    "print(\"O espaço em branco aparece %d vezes \" %s.count(' '))"
   ]
  },
  {
   "cell_type": "code",
   "execution_count": null,
   "metadata": {},
   "outputs": [],
   "source": []
  }
 ],
 "metadata": {
  "anaconda-cloud": {},
  "kernelspec": {
   "display_name": "Python 3 (ipykernel)",
   "language": "python",
   "name": "python3"
  },
  "language_info": {
   "codemirror_mode": {
    "name": "ipython",
    "version": 3
   },
   "file_extension": ".py",
   "mimetype": "text/x-python",
   "name": "python",
   "nbconvert_exporter": "python",
   "pygments_lexer": "ipython3",
   "version": "3.9.13"
  }
 },
 "nbformat": 4,
 "nbformat_minor": 4
}
