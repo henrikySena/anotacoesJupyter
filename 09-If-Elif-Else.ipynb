{
 "cells": [
  {
   "cell_type": "markdown",
   "metadata": {},
   "source": [
    "# <font color='blue'>Python Fundamentos - IF - ELIF - ELSE</font>"
   ]
  },
  {
   "cell_type": "code",
   "execution_count": null,
   "metadata": {},
   "outputs": [],
   "source": [
    "# Versão da Linguagem Python\n",
    "from platform import python_version\n",
    "print('Versão da Linguagem Python Usada Neste Jupyter Notebook:', python_version())"
   ]
  },
  {
   "cell_type": "markdown",
   "metadata": {},
   "source": [
    "## Estrutura condicional IF - ELIF - ELSE\n",
    "<details>\n",
    "    <summary>\n",
    "        <a class=\"btnfire small stroke\"><em class=\"fas fa-chevron-circle-down\"></em>&nbsp;&nbsp;Clique para mais detalhes</a>\n",
    "    </summary>\n",
    "    <br>\n",
    "   \n",
    "A estrutura condicional **if** executa um código ou bloco de código somente se uma determinada condição for verdadeira.<br>\n",
    "A estrutura condicional é chamada **simples** quando existe apenas uma condição. <br>\n",
    "A estrutura condicional é chamada **composta** quando o algoritmo executa um código quando a condição for verdadeira e outro código quando for falsa. <br>\n",
    "A estrutura condicional é chamada **aninhada** quando existem várias condições em cascata, ou seja, um **if** dentro de outro **if**. <br>\n",
    "Permite que o software tome decisões. <br>\n",
    "Exige indentação.\n",
    "\n",
    "</details>\n"
   ]
  },
  {
   "cell_type": "code",
   "execution_count": null,
   "metadata": {},
   "outputs": [],
   "source": [
    "# Estrutura Condicional SIMPLES\n",
    "a = 10\n",
    "b = 5\n",
    "if a > b: \n",
    "    print(\"O número %d é maior que o número %d\" %(a, b))"
   ]
  },
  {
   "cell_type": "code",
   "execution_count": null,
   "metadata": {},
   "outputs": [],
   "source": [
    "# Estrutura Condicional SIMPLES.\n",
    "a = 2\n",
    "b = 30\n",
    "if a > b:\n",
    "    print(\"O número %d é maior que o número %d\" %(a, b))"
   ]
  },
  {
   "cell_type": "code",
   "execution_count": null,
   "metadata": {},
   "outputs": [],
   "source": [
    "# Estrutura Condicional COMPOSTA\n",
    "a = 2\n",
    "b = 30\n",
    "if a > b:\n",
    "    print(\"O número %d é maior que o número %d\" %(a, b))\n",
    "else:\n",
    "    print(\"O número %d NÃO é maior que o número %d\" %(a, b))"
   ]
  },
  {
   "cell_type": "code",
   "execution_count": null,
   "metadata": {},
   "outputs": [],
   "source": [
    "# Estrutura Condicional ANINHADA\n",
    "a = 50\n",
    "b = 50\n",
    "if a > b:\n",
    "    print(\"O número %d é maior que o número %d\" %(a, b))\n",
    "elif a == b:\n",
    "    print(\"Os números são iguais\")\n",
    "else:\n",
    "    print(\"O número %d NÃO é maior que o número %d\" %(a, b))"
   ]
  },
  {
   "cell_type": "markdown",
   "metadata": {},
   "source": [
    "### Operadores Lógicos ou Booleanos\n",
    "<details>\n",
    "    <summary>\n",
    "        <a class=\"btnfire small stroke\"><em class=\"fas fa-chevron-circle-down\"></em>&nbsp;&nbsp;Clique para mais detalhes</a>\n",
    "    </summary>\n",
    "    <br>\n",
    "\n",
    "| Operador | Descrição |\n",
    "| :-: | :-: |\n",
    "| and | e | \n",
    "| or | ou |\n",
    "| not | não |\n",
    "</details>"
   ]
  },
  {
   "cell_type": "code",
   "execution_count": null,
   "metadata": {},
   "outputs": [],
   "source": [
    "# Usando mais de uma condição. Operador and\n",
    "nome = \"Pedro\"\n",
    "idade = 18\n",
    "if nome == \"Pedro\" and idade >= 18:\n",
    "    print(\"%s pode entrar na festa\" %nome)\n",
    "else:\n",
    "    print(\"%s está PROIBIDO entrar na festa\" %nome)"
   ]
  },
  {
   "cell_type": "code",
   "execution_count": null,
   "metadata": {},
   "outputs": [],
   "source": [
    "# Usando mais de uma condição e parênteses para cada condição. Operador and\n",
    "nome = \"Pedro\"\n",
    "idade = 16\n",
    "if (nome == \"Pedro\") and (idade >= 18):\n",
    "    print(\"%s pode entrar na festa\" %nome)\n",
    "else:\n",
    "    print(\"%s está PROIBIDO de entrar na festa\" %nome)"
   ]
  },
  {
   "cell_type": "code",
   "execution_count": null,
   "metadata": {},
   "outputs": [],
   "source": [
    "# Usando mais de uma condição. Operador and\n",
    "nome = \"José\"\n",
    "possuiTitulo = True\n",
    "idade = 17\n",
    "if possuiTitulo and (idade >= 16):\n",
    "    print(\"%s pode votar\" %nome)\n",
    "else:\n",
    "    print(\"%s está PROIBIDO de votar\" %nome)"
   ]
  },
  {
   "cell_type": "code",
   "execution_count": null,
   "metadata": {},
   "outputs": [],
   "source": [
    "# Usando mais de uma condição. Operador and\n",
    "nome = \"José\"\n",
    "possuiTitulo = False\n",
    "idade = 17\n",
    "if possuiTitulo and (idade >= 16):\n",
    "    print(\"%s pode votar\" %nome)\n",
    "else:\n",
    "    print(\"%s está PROIBIDO de votar\" %nome)"
   ]
  },
  {
   "cell_type": "code",
   "execution_count": null,
   "metadata": {},
   "outputs": [],
   "source": [
    "# Usando mais de uma condição. Operador or\n",
    "nome = \"Maria\"\n",
    "estaGravida = True\n",
    "idade = 16\n",
    "if estaGravida or idade >= 21:\n",
    "    print(\"%s pode ser vacinada\" %nome)\n",
    "else:\n",
    "    print(\"%s NÃO pode ser vacinada\" %nome)"
   ]
  },
  {
   "cell_type": "code",
   "execution_count": null,
   "metadata": {},
   "outputs": [],
   "source": [
    "# Usando mais de uma condição. Operador or\n",
    "nome = \"Maria\"\n",
    "estaGravida = False\n",
    "idade = 16\n",
    "possuiComorbidades = False\n",
    "if estaGravida or (idade >= 21) or possuiComorbidades:\n",
    "    print(\"%s pode ser vacinada\" %nome)\n",
    "else:\n",
    "    print(\"%s NÃO pode ser vacinada\" %nome)"
   ]
  },
  {
   "cell_type": "code",
   "execution_count": null,
   "metadata": {},
   "outputs": [],
   "source": [
    "# Operador not\n",
    "nome = \"Maria\"\n",
    "estaGravida = True\n",
    "if not estaGravida: \n",
    "    print(\"%s pode ser vacinada\" %nome)\n",
    "else:\n",
    "    print(\"%s NÃO pode ser vacinada\" %nome)"
   ]
  },
  {
   "cell_type": "code",
   "execution_count": null,
   "metadata": {},
   "outputs": [],
   "source": [
    "# Estrutura Condicional ANINHADA\n",
    "nome = \"Maria\"\n",
    "estaGravida = False\n",
    "idade = 16\n",
    "possuiComorbidades = False\n",
    "\n",
    "if estaGravida: print(\"Gravida pode ser vacinada\")\n",
    "elif idade >= 21: print(\"Já tem idade para ser vacinada\")\n",
    "elif possuiComorbidades: print(\"Pessoas com comorbidade pode ser vacinada\")\n",
    "else: print(\"%s NÃO pode ser vacinada\" %nome)            "
   ]
  },
  {
   "cell_type": "code",
   "execution_count": null,
   "metadata": {},
   "outputs": [],
   "source": [
    "# Estrutura condicional simples\n",
    "listaNomes = [\"Maria\", \"José\", \"Madalena\", \"Pedro\"]\n",
    "nome = \"Madalena\"\n",
    "if nome in listaNomes:\n",
    "    print(\"%s está na lista\" %nome)\n",
    "else:\n",
    "    print(\"%s NÃO está na lista\" %nome)"
   ]
  },
  {
   "cell_type": "code",
   "execution_count": null,
   "metadata": {},
   "outputs": [],
   "source": [
    "# Estrutura condicional simples\n",
    "listaNomes = [\"Maria\", \"José\", \"Madalena\", \"Pedro\"]\n",
    "if len(listaNomes) == 4:\n",
    "    print(\"A lista está completa\")"
   ]
  },
  {
   "cell_type": "code",
   "execution_count": null,
   "metadata": {},
   "outputs": [],
   "source": [
    "# Erro de indentação\n",
    "if 5 > 2:\n",
    "print(\"5 é maior que 2\")"
   ]
  },
  {
   "cell_type": "markdown",
   "metadata": {
    "tags": []
   },
   "source": [
    "### Exercícios"
   ]
  },
  {
   "cell_type": "markdown",
   "metadata": {},
   "source": [
    "1 - Faça um Programa que peça os 3 lados de um triângulo. O programa deve indicar se o mesmo é equilátero, isósceles ou escaleno. <br>\n",
    "Dicas: <br>\n",
    "- Triângulo Equilátero: três lados iguais; <br>\n",
    "- Triângulo Isósceles:  dois lados iguais; <br>\n",
    "- Triângulo Escaleno: três lados diferentes. <br>"
   ]
  },
  {
   "cell_type": "code",
   "execution_count": 1,
   "metadata": {},
   "outputs": [],
   "source": [
    "# Criando um dicionário vazio\n",
    "lados = {}"
   ]
  },
  {
   "cell_type": "code",
   "execution_count": 2,
   "metadata": {},
   "outputs": [
    {
     "name": "stdin",
     "output_type": "stream",
     "text": [
      "Lado 1: 3\n",
      "Lado 2: 4\n",
      "Lado 3: 5\n"
     ]
    }
   ],
   "source": [
    "# Lendo a partir do teclado os lados do triângulo e atribuindo ao dicionário\n",
    "lados[\"lado1\"] = int(input(\"Lado 1:\"))\n",
    "lados[\"lado2\"] = int(input(\"Lado 2:\"))\n",
    "lados[\"lado3\"] = int(input(\"Lado 3:\"))"
   ]
  },
  {
   "cell_type": "code",
   "execution_count": 3,
   "metadata": {},
   "outputs": [
    {
     "data": {
      "text/plain": [
       "{'lado1': 3, 'lado2': 4, 'lado3': 5}"
      ]
     },
     "execution_count": 3,
     "metadata": {},
     "output_type": "execute_result"
    }
   ],
   "source": [
    "# Imprimindo o dicionário\n",
    "lados"
   ]
  },
  {
   "cell_type": "code",
   "execution_count": 4,
   "metadata": {},
   "outputs": [
    {
     "name": "stdout",
     "output_type": "stream",
     "text": [
      "O triângulo é Escaleno\n"
     ]
    }
   ],
   "source": [
    "# Estrutura condicional\n",
    "if (lados[\"lado1\"] == lados[\"lado2\"]) and (lados[\"lado2\"] == lados[\"lado3\"]): # verifica se o triângulo é equilátero\n",
    "    print(\"O triângulo é Equilátero\")\n",
    "elif (lados[\"lado1\"] == lados[\"lado2\"]) or (lados[\"lado2\"] == lados[\"lado3\"]) or (lados[\"lado1\"] == lados[\"lado3\"]): # verifica se o triângulo é isósceles\n",
    "    print(\"O triângulo é Isósceles\")\n",
    "else:\n",
    "    print(\"O triângulo é Escaleno\")"
   ]
  },
  {
   "cell_type": "markdown",
   "metadata": {},
   "source": [
    "2 - Utilizando listas escreva um programa que faça 5 perguntas para uma pessoa sobre um crime. As perguntas são: <br>\n",
    "\"Telefonou para a vítima?\" <br>\n",
    "\"Esteve no local do crime?\" <br>\n",
    "\"Mora perto da vítima?\" <br>\n",
    "\"Devia dinheiro para a vítima?\" <br>\n",
    "\"Já trabalhou com a vítima?\" <br>\n",
    "O programa deve no final emitir uma classificação sobre a participação da pessoa no crime. Se a pessoa responder positivamente a 2 questões ela deve ser classificada como \"Suspeita\", entre 3 e 4 como \"Cúmplice\" e 5 como \"Assassino\". Caso contrário, ela será classificado como \"Inocente\"."
   ]
  },
  {
   "cell_type": "code",
   "execution_count": 5,
   "metadata": {},
   "outputs": [],
   "source": [
    "# Criando uma lista vazia\n",
    "perguntas = []"
   ]
  },
  {
   "cell_type": "code",
   "execution_count": 6,
   "metadata": {},
   "outputs": [
    {
     "name": "stdin",
     "output_type": "stream",
     "text": [
      "Telefonou para a vítima? - sim ou não: sim\n",
      "Esteve no local do crime? - sim ou não: sim\n",
      "Mora perto da vítima? - sim ou não: sim\n",
      "Devia dinheiro para a vítima? - sim ou não: não\n",
      "Já trabalhou com a vítima? - sim ou não: não\n"
     ]
    }
   ],
   "source": [
    "# Lendo as respostas a partir do teclado e inserindo na lista\n",
    "perguntas.append(input(\"Telefonou para a vítima? - sim ou não:\"))\n",
    "perguntas.append(input(\"Esteve no local do crime? - sim ou não:\"))\n",
    "perguntas.append(input(\"Mora perto da vítima? - sim ou não:\"))\n",
    "perguntas.append(input(\"Devia dinheiro para a vítima? - sim ou não:\"))\n",
    "perguntas.append(input(\"Já trabalhou com a vítima? - sim ou não:\"))"
   ]
  },
  {
   "cell_type": "code",
   "execution_count": 7,
   "metadata": {},
   "outputs": [],
   "source": [
    "# Contabilizando as respostas\n",
    "quantidadeSim = perguntas.count(\"sim\")"
   ]
  },
  {
   "cell_type": "code",
   "execution_count": 8,
   "metadata": {},
   "outputs": [
    {
     "name": "stdout",
     "output_type": "stream",
     "text": [
      "Cúmplice\n"
     ]
    }
   ],
   "source": [
    "# Estrutura Condicional\n",
    "if (quantidadeSim == 2):\n",
    "    print(\"Suspeita\")\n",
    "elif (quantidadeSim == 3 or quantidadeSim == 4):\n",
    "    print(\"Cúmplice\")\n",
    "elif (quantidadeSim == 5):\n",
    "    print(\"Assassino\")\n",
    "else:\n",
    "    print(\"Inocente\")"
   ]
  },
  {
   "cell_type": "code",
   "execution_count": null,
   "metadata": {},
   "outputs": [],
   "source": []
  }
 ],
 "metadata": {
  "kernelspec": {
   "display_name": "Python 3 (ipykernel)",
   "language": "python",
   "name": "python3"
  },
  "language_info": {
   "codemirror_mode": {
    "name": "ipython",
    "version": 3
   },
   "file_extension": ".py",
   "mimetype": "text/x-python",
   "name": "python",
   "nbconvert_exporter": "python",
   "pygments_lexer": "ipython3",
   "version": "3.9.13"
  }
 },
 "nbformat": 4,
 "nbformat_minor": 4
}
