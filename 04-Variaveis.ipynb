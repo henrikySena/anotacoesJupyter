{
 "cells": [
  {
   "cell_type": "markdown",
   "metadata": {},
   "source": [
    "# <font color='blue'>Python Fundamentos - Variáveis </font>"
   ]
  },
  {
   "cell_type": "code",
   "execution_count": null,
   "metadata": {},
   "outputs": [],
   "source": [
    "# Versão da Linguagem Python\n",
    "from platform import python_version\n",
    "print('Versão da Linguagem Python Usada Neste Jupyter Notebook:', python_version())"
   ]
  },
  {
   "cell_type": "markdown",
   "metadata": {},
   "source": [
    "### Variáveis\n",
    "<details>\n",
    "    <summary>\n",
    "        <a class=\"btnfire small stroke\"><em class=\"fas fa-chevron-circle-down\"></em>&nbsp;&nbsp;Clique para mais detalhes</a>\n",
    "    </summary>\n",
    "    <br>\n",
    "\n",
    "Variável é um espaço na memória RAM do computador destinado a um dado que pode ser manipulado durante a execução do algoritmo. <br>\n",
    "Variáveis podem ser de diversos tipos: números inteiros, números float, caracteres, matrizes, datas, booleanos entre outros. <br><br>\n",
    "Regras para nomes variáves: <br>\n",
    "* deve sempre iniciar com uma letra ou o caractere underline (_); \n",
    "* pode conter números;    \n",
    "* nunca iniciar por números;\n",
    "* símbolos proibidos: ' \" , ; < > / | \\ ( ) @ # $ % ^ & * - + !\n",
    "* nunca utilizar palavras reservadas\n",
    "\n",
    "<br>\n",
    "Uma boa prática para dar nomes a variáveis é iniciar com letra minúscula, alternando para maiúscula a primeira letra da próxima palavra. Por exemplo: nomeUsuario, totalMoedas, diaDaSemana, resultadoConsulta.\n",
    "\n",
    "</details>"
   ]
  },
  {
   "cell_type": "code",
   "execution_count": null,
   "metadata": {},
   "outputs": [],
   "source": [
    "# Lista com as palavras reservas\n",
    "help(\"keywords\")"
   ]
  },
  {
   "cell_type": "code",
   "execution_count": null,
   "metadata": {},
   "outputs": [],
   "source": [
    "# Não utilize palavras reservadas para criar variáveis\n",
    "global = 89"
   ]
  },
  {
   "cell_type": "code",
   "execution_count": null,
   "metadata": {},
   "outputs": [],
   "source": [
    "# Atribuição de valor\n",
    "totalAmigos = 3500"
   ]
  },
  {
   "cell_type": "code",
   "execution_count": null,
   "metadata": {},
   "outputs": [],
   "source": [
    "# Imprimindo o valor da variável\n",
    "totalAmigos"
   ]
  },
  {
   "cell_type": "code",
   "execution_count": null,
   "metadata": {},
   "outputs": [],
   "source": [
    "# Outra forma de imprimir o valor da variável\n",
    "print(totalAmigos)"
   ]
  },
  {
   "cell_type": "code",
   "execution_count": null,
   "metadata": {},
   "outputs": [],
   "source": [
    "# Não podemos utilizar uma variável que não foi definida. Observe a mensagem de erro.\n",
    "minhaVariavel"
   ]
  },
  {
   "cell_type": "code",
   "execution_count": null,
   "metadata": {},
   "outputs": [],
   "source": [
    "type(totalAmigos)"
   ]
  },
  {
   "cell_type": "code",
   "execution_count": null,
   "metadata": {},
   "outputs": [],
   "source": [
    "minhaVariavel = 9.5"
   ]
  },
  {
   "cell_type": "code",
   "execution_count": null,
   "metadata": {},
   "outputs": [],
   "source": [
    "type(minhaVariavel)"
   ]
  },
  {
   "cell_type": "markdown",
   "metadata": {
    "tags": []
   },
   "source": [
    "## Declaração Múltipla"
   ]
  },
  {
   "cell_type": "code",
   "execution_count": null,
   "metadata": {},
   "outputs": [],
   "source": [
    "tonhão = 3\n",
    "print(tonhão)"
   ]
  },
  {
   "cell_type": "code",
   "execution_count": null,
   "metadata": {},
   "outputs": [],
   "source": [
    "pessoa1, pessoa2, pessoa3 = \"Maria\", \"José\", \"Tobias\""
   ]
  },
  {
   "cell_type": "code",
   "execution_count": null,
   "metadata": {},
   "outputs": [],
   "source": [
    "pessoa1"
   ]
  },
  {
   "cell_type": "code",
   "execution_count": null,
   "metadata": {},
   "outputs": [],
   "source": [
    "pessoa2"
   ]
  },
  {
   "cell_type": "code",
   "execution_count": null,
   "metadata": {},
   "outputs": [],
   "source": [
    "pessoa3"
   ]
  },
  {
   "cell_type": "code",
   "execution_count": null,
   "metadata": {},
   "outputs": [],
   "source": [
    "fruta1 = fruta2 = fruta3 = \"Laranja\""
   ]
  },
  {
   "cell_type": "code",
   "execution_count": null,
   "metadata": {},
   "outputs": [],
   "source": [
    "fruta1"
   ]
  },
  {
   "cell_type": "code",
   "execution_count": null,
   "metadata": {},
   "outputs": [],
   "source": [
    "fruta2"
   ]
  },
  {
   "cell_type": "code",
   "execution_count": null,
   "metadata": {},
   "outputs": [],
   "source": [
    "fruta3"
   ]
  },
  {
   "cell_type": "code",
   "execution_count": null,
   "metadata": {},
   "outputs": [],
   "source": [
    "# Variável não foi definida\n",
    "fruta11 = fruta22 = fruta33"
   ]
  },
  {
   "cell_type": "code",
   "execution_count": null,
   "metadata": {},
   "outputs": [],
   "source": [
    "# Atenção! Python é case-sensitive. A variável criada foi fruta2 e não a variável Fruta2.\n",
    "# Letras maiúsculas e minúsculas tem diferença no nome da variável.\n",
    "Fruta2"
   ]
  },
  {
   "cell_type": "markdown",
   "metadata": {},
   "source": [
    "## Operações com variáveis"
   ]
  },
  {
   "cell_type": "code",
   "execution_count": null,
   "metadata": {},
   "outputs": [],
   "source": [
    "# Atribuição de variáveis\n",
    "papagaios = 30\n",
    "calopsitas = 18\n",
    "periquitos = 25\n",
    "papagaiosFugitivos = 3\n",
    "calopsitasFugitivas = 2\n",
    "periquitosFugitivos = 6"
   ]
  },
  {
   "cell_type": "code",
   "execution_count": null,
   "metadata": {},
   "outputs": [],
   "source": [
    "# Quantos pássaros viviam nesse zoológico antes da fuga? \n",
    "totalDePassaros = papagaios + calopsitas + periquitos\n",
    "print(\"O total de passáros que viviam no zoológico antes da fuga era: \", totalDePassaros)"
   ]
  },
  {
   "cell_type": "markdown",
   "metadata": {},
   "source": [
    "## Ordem dos operadores"
   ]
  },
  {
   "cell_type": "code",
   "execution_count": null,
   "metadata": {},
   "outputs": [],
   "source": [
    "# Declaração de variáveis\n",
    "x = 5\n",
    "y = 3"
   ]
  },
  {
   "cell_type": "code",
   "execution_count": null,
   "metadata": {},
   "outputs": [],
   "source": [
    "# Cálculo\n",
    "resultado = 2 * x + 2 * y \n",
    "print(\"O resultado da expressão é\", resultado)"
   ]
  },
  {
   "cell_type": "code",
   "execution_count": null,
   "metadata": {},
   "outputs": [],
   "source": [
    "# O resultado é diferente caso os parenteses sejam retirados\n",
    "resultado = 2 * (x + 2) * y \n",
    "print(\"O resultado da expressão é \", resultado)"
   ]
  },
  {
   "cell_type": "markdown",
   "metadata": {},
   "source": [
    "### Operadores de atribuição\n",
    "<details>\n",
    "    <summary>\n",
    "        <a class=\"btnfire small stroke\"><em class=\"fas fa-chevron-circle-down\"></em>&nbsp;&nbsp;Clique para mais detalhes</a>\n",
    "    </summary>\n",
    "    <br>\n",
    "    \n",
    "| Operador | Descrição | Exemplo |\n",
    "| :-: | :-- | --- |\n",
    "| = | Atribuição | minhaVariavel = 4 |\n",
    "| += | Atribuição de soma  | minhaVariavel += 4 (equivalente a minhaVariavel = minhaVariavel + 4)|\n",
    "| -= | Atribuição de subtração | minhaVariavel -= 4 (equivalente a minhaVariavel = minhaVariavel - 4)|\n",
    "| *= | Atribuição de multiplicação | minhaVariavel *= 4 (equivalente a minhaVariavel = minhaVariavel * 4)|    \n",
    "| /= | Atribuição de divisão | minhaVariavel /= 4 (equivalente a minhaVariavel = minhaVariavel / 4)|\n",
    "| //= | Atribuição de divisão inteira | minhaVariavel //= 4 (equivalente a minhaVariavel = minhaVariavel // 4)|\n",
    "| %= | Atribuição de módulo | minhaVariavel %= 4 (equivalente a minhaVariavel = minhaVariavel % 4)|\n",
    "</details>\n"
   ]
  },
  {
   "cell_type": "code",
   "execution_count": null,
   "metadata": {},
   "outputs": [],
   "source": [
    "# Operador atribuição de soma\n",
    "x = 20\n",
    "x += 5\n",
    "x"
   ]
  },
  {
   "cell_type": "code",
   "execution_count": null,
   "metadata": {},
   "outputs": [],
   "source": [
    "# Equivalente ao operador atribuição de soma\n",
    "x = 20\n",
    "x = x + 5\n",
    "x"
   ]
  },
  {
   "cell_type": "code",
   "execution_count": null,
   "metadata": {},
   "outputs": [],
   "source": [
    "# Atribuição das variáveis\n",
    "maisIgual = menosIgual = vezesIgual = divididoIgual = 9"
   ]
  },
  {
   "cell_type": "code",
   "execution_count": null,
   "metadata": {},
   "outputs": [],
   "source": [
    "# equivalente a maisIgual = maisIgual + 1\n",
    "maisIgual += 1\n",
    "maisIgual"
   ]
  },
  {
   "cell_type": "code",
   "execution_count": null,
   "metadata": {},
   "outputs": [],
   "source": [
    "# equivalente a menosIgual = menosIgual - 1\n",
    "menosIgual -= 1\n",
    "menosIgual"
   ]
  },
  {
   "cell_type": "code",
   "execution_count": null,
   "metadata": {},
   "outputs": [],
   "source": [
    "# equivalente a vezesIgual = vezesIgual * 2\n",
    "vezesIgual *= 2\n",
    "vezesIgual"
   ]
  },
  {
   "cell_type": "code",
   "execution_count": null,
   "metadata": {},
   "outputs": [],
   "source": [
    "# equivalente a divididoIgual = divididoIgual / 3\n",
    "divididoIgual /= 3\n",
    "divididoIgual"
   ]
  },
  {
   "cell_type": "markdown",
   "metadata": {
    "tags": []
   },
   "source": [
    "## Função input"
   ]
  },
  {
   "cell_type": "code",
   "execution_count": null,
   "metadata": {},
   "outputs": [],
   "source": [
    "# Recebe uma entrada de dados informada pelo usuário através do teclado\n",
    "numero = input(\"Informe um número: \")"
   ]
  },
  {
   "cell_type": "code",
   "execution_count": null,
   "metadata": {},
   "outputs": [],
   "source": [
    "# Visualizando o valor davariável\n",
    "numero"
   ]
  },
  {
   "cell_type": "code",
   "execution_count": null,
   "metadata": {},
   "outputs": [],
   "source": [
    "# A função input retorna uma string\n",
    "type(numero)"
   ]
  },
  {
   "cell_type": "code",
   "execution_count": null,
   "metadata": {},
   "outputs": [],
   "source": [
    "# É necessário atribuir o resultado da conversão a uma variável\n",
    "x = int(numero)"
   ]
  },
  {
   "cell_type": "code",
   "execution_count": null,
   "metadata": {},
   "outputs": [],
   "source": [
    "# Verificando o tipo de dado\n",
    "type(numero)"
   ]
  },
  {
   "cell_type": "code",
   "execution_count": null,
   "metadata": {},
   "outputs": [],
   "source": [
    "# Verificando o tipo de dado\n",
    "type(x)"
   ]
  },
  {
   "cell_type": "code",
   "execution_count": null,
   "metadata": {},
   "outputs": [],
   "source": [
    "# Não é possível somar uma string com um número inteiro.\n",
    "soma = numero + 2\n",
    "soma"
   ]
  },
  {
   "cell_type": "code",
   "execution_count": null,
   "metadata": {},
   "outputs": [],
   "source": [
    "# Antes de realizar qualquer operação deve-se converter e atribuir a uma nova variável\n",
    "soma = x + 2\n",
    "soma"
   ]
  },
  {
   "cell_type": "markdown",
   "metadata": {},
   "source": [
    "## Exercícios"
   ]
  },
  {
   "cell_type": "markdown",
   "metadata": {},
   "source": [
    "1 - Faça um programa para uma loja de tintas. O programa deverá pedir o tamanho em metros quadrados da área a ser pintada. Considere que a cobertura da tinta é de 1 litro para cada 3 metros quadrados e que a tinta é vendida em latas de 18 litros, que custam R$ 80,00. Informe ao usuário a quantidade de latas de tinta a serem compradas e o preço total. <br>\n",
    "Obs: considere o tamanho da área com 108 metros quadrados para testar o programa.\n",
    "\n",
    "2 - Faça um programa que peça o tamanho de um arquivo para download (em MB) e a velocidade de um link de Internet (em Mbps), calcule e informe o tempo aproximado de download do arquivo em minutos usando este link. <br>\n",
    "Fórmula para o cálculo: <br>\n",
    "Tamanho do arquivo em megabytes / (velocidade de download em megabits / 8) =  tempo em segundos. <br>\n",
    "Um arquivo de 15 MB, baixado a 10 Mb/s: 15 / (10/8) = 12 segundos."
   ]
  },
  {
   "cell_type": "code",
   "execution_count": 13,
   "metadata": {},
   "outputs": [
    {
     "name": "stdin",
     "output_type": "stream",
     "text": [
      "informe o tamanho em metros quadrados:  513\n"
     ]
    },
    {
     "name": "stdout",
     "output_type": "stream",
     "text": [
      "A quantidade de latas que você precisa é de: 9.5\n",
      "Você pagará um total de R$760.0\n"
     ]
    }
   ],
   "source": [
    "''' \n",
    "1 - Faça um programa para uma loja de tintas. O programa deverá pedir o tamanho em metros \n",
    "quadrados da área a ser pintada. Considere que a cobertura da tinta é de 1 litro para cada \n",
    "3 metros quadrados e que a tinta é vendida em latas de 18 litros, que custam R$ 80,00. Informe \n",
    "ao usuário a quantidade de latas de tinta a serem compradas e o preço total.\n",
    "\n",
    "Obs: considere o tamanho da área com 108 metros quadrados para testar o programa.\n",
    "'''\n",
    "\n",
    "metrosQuadrados = int(input('informe o tamanho em metros quadrados: '))\n",
    "precoLata = 80\n",
    "# 1L de tinta - 3m de parede\n",
    "# cada lata tem 18L e custa 80 reais\n",
    "\n",
    "quantLatas = (metrosQuadrados / 3) / 18\n",
    "print(f'''A quantidade de latas que você precisa é de: {quantLatas}\n",
    "Você pagará um total de R${quantLatas * precoLata}''')"
   ]
  },
  {
   "cell_type": "code",
   "execution_count": 14,
   "metadata": {},
   "outputs": [
    {
     "name": "stdin",
     "output_type": "stream",
     "text": [
      "Insira o tamanho do arquivo (em MB):  200\n",
      "Insira a velocidade da sua internet (em Mbps):  10\n"
     ]
    },
    {
     "name": "stdout",
     "output_type": "stream",
     "text": [
      "O tempo aproximado de download do arquivo em segundos é de: 160.0 segundos\n",
      "O tempo aproximado de download do arquivo em minutos é de: 2.67 minutos\n"
     ]
    }
   ],
   "source": [
    "'''\n",
    "2 - Faça um programa que peça o tamanho de um arquivo para download (em MB) e a velocidade de um \n",
    "link de Internet (em Mbps), calcule e informe o tempo aproximado de download do arquivo em minutos \n",
    "usando este link.\n",
    "\n",
    "Fórmula para o cálculo:\n",
    "Tamanho do arquivo em megabytes / (velocidade de download em megabits / 8) =  tempo em segundos.\n",
    "Um arquivo de 15 MB, baixado a 10 Mb/s: 15 / (10/8) = 12 segundos.\n",
    "'''\n",
    "\n",
    "# --------------------------------------------------------------------------------------------------\n",
    "\n",
    "tamanhoArquivoMB = int(input('Insira o tamanho do arquivo (em MB): '))\n",
    "velocidadeInternetMBPS = int(input('Insira a velocidade da sua internet (em Mbps): '))\n",
    "\n",
    "tempoDownloadEmSegundos = tamanhoArquivoMB / (velocidadeInternetMBPS / 8)\n",
    "tempoDownloadEmMinutos =  tempoDownloadEmSegundos / 60\n",
    "\n",
    "print(f'O tempo aproximado de download do arquivo em segundos é de: {tempoDownloadEmSegundos} segundos')\n",
    "print(f'O tempo aproximado de download do arquivo em minutos é de: {tempoDownloadEmMinutos:.2f} minutos')"
   ]
  },
  {
   "cell_type": "markdown",
   "metadata": {
    "jp-MarkdownHeadingCollapsed": true,
    "tags": []
   },
   "source": [
    "## Respostas"
   ]
  },
  {
   "cell_type": "markdown",
   "metadata": {},
   "source": [
    "Proposta de solução para o exercício 1"
   ]
  },
  {
   "cell_type": "code",
   "execution_count": null,
   "metadata": {},
   "outputs": [],
   "source": [
    "# Variáveis\n",
    "coberturaPorLitro = 3\n",
    "litrosPorLata = 18\n",
    "coberturaPorLata = coberturaPorLitro * litrosPorLata\n",
    "precoLata = 80"
   ]
  },
  {
   "cell_type": "code",
   "execution_count": null,
   "metadata": {},
   "outputs": [],
   "source": [
    "# Entrada do tamanho da área que será pintada\n",
    "x = input(\"Informe a área:\")"
   ]
  },
  {
   "cell_type": "code",
   "execution_count": null,
   "metadata": {},
   "outputs": [],
   "source": [
    "# Converte a variável x para inteiro\n",
    "area = int(x)\n",
    "type(area)"
   ]
  },
  {
   "cell_type": "code",
   "execution_count": null,
   "metadata": {},
   "outputs": [],
   "source": [
    "# Calcula a quantidade necessária de latas\n",
    "# É necessário arredondar a quantidade de latas, porque não é possível vender meia lata\n",
    "quantidadeLatas = round(area / coberturaPorLata)\n",
    "print(\"Quantidade necessária de latas: \", quantidadeLatas)"
   ]
  },
  {
   "cell_type": "code",
   "execution_count": null,
   "metadata": {},
   "outputs": [],
   "source": [
    "# Calcula o preço total \n",
    "precoTotal = precoLata * quantidadeLatas\n",
    "print(\"Preço total: R$\", precoTotal) "
   ]
  },
  {
   "cell_type": "markdown",
   "metadata": {},
   "source": [
    "Proposta de solução para o exercício 2"
   ]
  },
  {
   "cell_type": "code",
   "execution_count": null,
   "metadata": {},
   "outputs": [],
   "source": [
    "# Tamanho do arquivo\n",
    "x = input(\"Qual o tamanho do arquivo: \")"
   ]
  },
  {
   "cell_type": "code",
   "execution_count": null,
   "metadata": {},
   "outputs": [],
   "source": [
    "# Velocidade de internet\n",
    "y = input(\"Qual a velocidade da internet: \")"
   ]
  },
  {
   "cell_type": "code",
   "execution_count": null,
   "metadata": {},
   "outputs": [],
   "source": [
    "# Converte as variáveis para inteiro\n",
    "tamanhoArquivo = int(x)\n",
    "velocidade = int(y)"
   ]
  },
  {
   "cell_type": "code",
   "execution_count": null,
   "metadata": {},
   "outputs": [],
   "source": [
    "# Calcula o tempo de download em segundos\n",
    "tempoSegundos = tamanhoArquivo / (velocidade / 8)\n",
    "tempoSegundos"
   ]
  },
  {
   "cell_type": "code",
   "execution_count": null,
   "metadata": {},
   "outputs": [],
   "source": [
    "# Calcula o tempo de download em minutos\n",
    "tempoMinutos = tempoSegundos / 60\n",
    "print(\"O Tempo de download é de aproximadamente %.2f minutos\" %tempoMinutos)"
   ]
  },
  {
   "cell_type": "code",
   "execution_count": null,
   "metadata": {},
   "outputs": [],
   "source": []
  }
 ],
 "metadata": {
  "anaconda-cloud": {},
  "kernelspec": {
   "display_name": "Python 3 (ipykernel)",
   "language": "python",
   "name": "python3"
  },
  "language_info": {
   "codemirror_mode": {
    "name": "ipython",
    "version": 3
   },
   "file_extension": ".py",
   "mimetype": "text/x-python",
   "name": "python",
   "nbconvert_exporter": "python",
   "pygments_lexer": "ipython3",
   "version": "3.9.13"
  }
 },
 "nbformat": 4,
 "nbformat_minor": 4
}
