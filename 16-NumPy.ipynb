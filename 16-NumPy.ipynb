{
 "cells": [
  {
   "cell_type": "markdown",
   "metadata": {},
   "source": [
    "# <font color='orange'>Python Fundamentos - NumPy</font>"
   ]
  },
  {
   "cell_type": "code",
   "execution_count": null,
   "metadata": {},
   "outputs": [],
   "source": [
    "# Versão da Linguagem Python\n",
    "from platform import python_version\n",
    "print('Versão da Linguagem Python Usada Neste Jupyter Notebook:', python_version())"
   ]
  },
  {
   "cell_type": "markdown",
   "metadata": {
    "tags": []
   },
   "source": [
    "## NumPy\n",
    "<details>\n",
    "    <summary>\n",
    "        <a class=\"btnfire small stroke\"><em class=\"fas fa-chevron-circle-down\"></em>&nbsp;&nbsp;Clique para mais detalhes</a>\n",
    "    </summary>\n",
    "    <br>\n",
    "   \n",
    "NumPy é um pacote para computação científica em Python. <br>\n",
    "É uma biblioteca Python que fornece um objeto do tipo array. <br>\n",
    "Um array pode ter uma ou várias dimensões (vetores ou matrizes). <br>\n",
    "No núcleo do pacote NumPy, está o objeto ndarray. <br>\n",
    "Existem algumas diferenças importantes entre as matrizes NumPy e as sequências Python padrão: <br>\n",
    "\n",
    "- O array NumPy é criado com um tamanho fixo, ao contrário das listas Python, que podem crescer dinamicamente. Alterar o tamanho de um ndarray criará um novo array e excluirá o original. <br>\n",
    "- Os elementos em um array NumPy devem ser todos do mesmo tipo de dado e, portanto, terão o mesmo tamanho na memória. Um objeto do tipo lista pode ter elementos de qualquer tipo de dado. <br>\n",
    "- Os arrays NumPy facilitam operações matemáticas avançadas e outros tipos de operações em um grande número de dados. Normalmente, essas operações são executadas de forma mais eficiente, mais rápida e com menos código do que quando utilizando objetos do tipo lista. \n",
    "\n",
    "</details>"
   ]
  },
  {
   "cell_type": "code",
   "execution_count": 1,
   "metadata": {},
   "outputs": [],
   "source": [
    "# Importando o pacote NumPy\n",
    "import numpy as np"
   ]
  },
  {
   "cell_type": "markdown",
   "metadata": {
    "tags": []
   },
   "source": [
    "### Criando Arrays\n",
    "É possível criar um array a partir de uma lista ou uma tupla usando o método array."
   ]
  },
  {
   "cell_type": "code",
   "execution_count": 2,
   "metadata": {},
   "outputs": [
    {
     "data": {
      "text/plain": [
       "array([2, 3, 4, 5, 6, 7, 8, 9])"
      ]
     },
     "execution_count": 2,
     "metadata": {},
     "output_type": "execute_result"
    }
   ],
   "source": [
    "# Criando um array com uma dimensão (com um axis) a partir de uma lista\n",
    "vetor1 = np.array([2, 3, 4, 5, 6, 7, 8, 9])\n",
    "vetor1"
   ]
  },
  {
   "cell_type": "code",
   "execution_count": 3,
   "metadata": {},
   "outputs": [
    {
     "data": {
      "text/plain": [
       "array([10, 11, 12, 13, 14, 15, 16, 17, 18])"
      ]
     },
     "execution_count": 3,
     "metadata": {},
     "output_type": "execute_result"
    }
   ],
   "source": [
    "# Criando um array com uma dimensão (com um axis) a partir de uma tupla\n",
    "vetor2 = np.array((10, 11, 12, 13, 14, 15, 16, 17, 18))\n",
    "vetor2"
   ]
  },
  {
   "cell_type": "code",
   "execution_count": 4,
   "metadata": {},
   "outputs": [
    {
     "data": {
      "text/plain": [
       "array([[10, 20, 30],\n",
       "       [40, 50, 60]])"
      ]
     },
     "execution_count": 4,
     "metadata": {},
     "output_type": "execute_result"
    }
   ],
   "source": [
    "# Criando um array com duas dimensões (com dois axes) sendo 2 linhas e 3 colunas utilizando uma lista de listas\n",
    "# Cada lista é uma linha da matriz e a quantidade de elementos de uma lista, define o número de colunas\n",
    "# O primeiro axis (linhas) tem tamanho 2\n",
    "# O segundo axis (colunas) tem tamanho 3\n",
    "matriz1 = np.array([[10, 20, 30], [40, 50, 60]])\n",
    "matriz1"
   ]
  },
  {
   "cell_type": "code",
   "execution_count": 5,
   "metadata": {},
   "outputs": [
    {
     "data": {
      "text/plain": [
       "array([[15, 25],\n",
       "       [35, 45],\n",
       "       [55, 65]])"
      ]
     },
     "execution_count": 5,
     "metadata": {},
     "output_type": "execute_result"
    }
   ],
   "source": [
    "# Criando um array com duas dimensões (com dois axes) sendo 3 linhas e 2 colunas utilizando uma lista de tuplas\n",
    "# Cada tupla é uma linha e a quantidade de elementos das tuplas é o número de colunas.\n",
    "# O primeiro axis (linhas) tem tamanho 3\n",
    "# O segundo axis (colunas) tem tamanho 2\n",
    "matriz2 = np.array([(15, 25), (35, 45), (55, 65)])\n",
    "matriz2"
   ]
  },
  {
   "cell_type": "code",
   "execution_count": 6,
   "metadata": {},
   "outputs": [
    {
     "data": {
      "text/plain": [
       "numpy.ndarray"
      ]
     },
     "execution_count": 6,
     "metadata": {},
     "output_type": "execute_result"
    }
   ],
   "source": [
    "# Verificando o tipo de dado\n",
    "type(matriz2)"
   ]
  },
  {
   "cell_type": "markdown",
   "metadata": {},
   "source": [
    "### Slicing\n",
    "Os arrays com uma dimensão podem ser indexados e fatiados de maneira muito semelhante às listas e outras sequências Python. <br>\n",
    "Arrays multidimensionais possuem um índice por dimensão"
   ]
  },
  {
   "cell_type": "code",
   "execution_count": 7,
   "metadata": {},
   "outputs": [
    {
     "data": {
      "text/plain": [
       "array([2, 3, 4, 5, 6, 7, 8, 9])"
      ]
     },
     "execution_count": 7,
     "metadata": {},
     "output_type": "execute_result"
    }
   ],
   "source": [
    "# Imprimindo o array\n",
    "vetor1"
   ]
  },
  {
   "cell_type": "code",
   "execution_count": 8,
   "metadata": {},
   "outputs": [
    {
     "data": {
      "text/plain": [
       "2"
      ]
     },
     "execution_count": 8,
     "metadata": {},
     "output_type": "execute_result"
    }
   ],
   "source": [
    "# Recuperando o primeiro elemento do array\n",
    "vetor1[0]"
   ]
  },
  {
   "cell_type": "code",
   "execution_count": 9,
   "metadata": {},
   "outputs": [
    {
     "data": {
      "text/plain": [
       "array([2, 3, 4])"
      ]
     },
     "execution_count": 9,
     "metadata": {},
     "output_type": "execute_result"
    }
   ],
   "source": [
    "# Recuperando os elementos da posição 0 até a posição 3\n",
    "vetor1[0:3]"
   ]
  },
  {
   "cell_type": "code",
   "execution_count": 10,
   "metadata": {},
   "outputs": [
    {
     "data": {
      "text/plain": [
       "array([[10, 20, 30],\n",
       "       [40, 50, 60]])"
      ]
     },
     "execution_count": 10,
     "metadata": {},
     "output_type": "execute_result"
    }
   ],
   "source": [
    "# Imprimindo o array\n",
    "matriz1"
   ]
  },
  {
   "cell_type": "code",
   "execution_count": 11,
   "metadata": {},
   "outputs": [
    {
     "data": {
      "text/plain": [
       "10"
      ]
     },
     "execution_count": 11,
     "metadata": {},
     "output_type": "execute_result"
    }
   ],
   "source": [
    "# Recuperando o elemento que está na primeira linha e na primeira coluna\n",
    "matriz1[0, 0]"
   ]
  },
  {
   "cell_type": "code",
   "execution_count": 12,
   "metadata": {},
   "outputs": [
    {
     "data": {
      "text/plain": [
       "60"
      ]
     },
     "execution_count": 12,
     "metadata": {},
     "output_type": "execute_result"
    }
   ],
   "source": [
    "# Recuperando o elemento que está na segunda linha e na terceira coluna\n",
    "matriz1[1, 2]"
   ]
  },
  {
   "cell_type": "code",
   "execution_count": 13,
   "metadata": {},
   "outputs": [
    {
     "data": {
      "text/plain": [
       "array([[10, 88, 30],\n",
       "       [40, 50, 60]])"
      ]
     },
     "execution_count": 13,
     "metadata": {},
     "output_type": "execute_result"
    }
   ],
   "source": [
    "# Alterando o elemento que está na primeira linha e segunda coluna\n",
    "matriz1[0, 1] = 88\n",
    "matriz1"
   ]
  },
  {
   "cell_type": "code",
   "execution_count": 14,
   "metadata": {},
   "outputs": [
    {
     "data": {
      "text/plain": [
       "array([[15, 25],\n",
       "       [35, 45],\n",
       "       [55, 65]])"
      ]
     },
     "execution_count": 14,
     "metadata": {},
     "output_type": "execute_result"
    }
   ],
   "source": [
    "# Imprimindo o array\n",
    "matriz2"
   ]
  },
  {
   "cell_type": "code",
   "execution_count": 15,
   "metadata": {},
   "outputs": [
    {
     "data": {
      "text/plain": [
       "array([15, 35, 55])"
      ]
     },
     "execution_count": 15,
     "metadata": {},
     "output_type": "execute_result"
    }
   ],
   "source": [
    "# Recuperando as linhas 0, 1 e 2 da primeira coluna\n",
    "matriz2[0:3, 0]"
   ]
  },
  {
   "cell_type": "code",
   "execution_count": 16,
   "metadata": {},
   "outputs": [
    {
     "data": {
      "text/plain": [
       "array([[10, 88, 30],\n",
       "       [40, 50, 60]])"
      ]
     },
     "execution_count": 16,
     "metadata": {},
     "output_type": "execute_result"
    }
   ],
   "source": [
    "# Imprimindo o array\n",
    "matriz1"
   ]
  },
  {
   "cell_type": "code",
   "execution_count": 17,
   "metadata": {},
   "outputs": [
    {
     "data": {
      "text/plain": [
       "array([[88, 30],\n",
       "       [50, 60]])"
      ]
     },
     "execution_count": 17,
     "metadata": {},
     "output_type": "execute_result"
    }
   ],
   "source": [
    "# Recuperando todas as linhas da segunda e terceira coluna.\n",
    "# O número ao lado direito do sinal de dois pontos é exclusivo\n",
    "matriz1[:, 1:3]"
   ]
  },
  {
   "cell_type": "markdown",
   "metadata": {},
   "source": [
    "### Métodos e atributos de um array"
   ]
  },
  {
   "cell_type": "code",
   "execution_count": 18,
   "metadata": {},
   "outputs": [
    {
     "data": {
      "text/plain": [
       "1"
      ]
     },
     "execution_count": 18,
     "metadata": {},
     "output_type": "execute_result"
    }
   ],
   "source": [
    "# Verificando a quantidade de dimensões de um array\n",
    "vetor2.ndim"
   ]
  },
  {
   "cell_type": "code",
   "execution_count": 19,
   "metadata": {},
   "outputs": [
    {
     "data": {
      "text/plain": [
       "2"
      ]
     },
     "execution_count": 19,
     "metadata": {},
     "output_type": "execute_result"
    }
   ],
   "source": [
    "# Verificando a quantidade de dimensões de um array\n",
    "matriz1.ndim"
   ]
  },
  {
   "cell_type": "code",
   "execution_count": 20,
   "metadata": {},
   "outputs": [
    {
     "data": {
      "text/plain": [
       "array([10, 11, 12, 13, 14, 15, 16, 17, 18])"
      ]
     },
     "execution_count": 20,
     "metadata": {},
     "output_type": "execute_result"
    }
   ],
   "source": [
    "# Imprimindo um array\n",
    "vetor2"
   ]
  },
  {
   "cell_type": "code",
   "execution_count": 21,
   "metadata": {},
   "outputs": [
    {
     "data": {
      "text/plain": [
       "(9,)"
      ]
     },
     "execution_count": 21,
     "metadata": {},
     "output_type": "execute_result"
    }
   ],
   "source": [
    "# Verificando o formato de um array - retorna a quantidade de elementos na dimensão\n",
    "vetor2.shape"
   ]
  },
  {
   "cell_type": "code",
   "execution_count": 22,
   "metadata": {},
   "outputs": [
    {
     "data": {
      "text/plain": [
       "array([[10, 88, 30],\n",
       "       [40, 50, 60]])"
      ]
     },
     "execution_count": 22,
     "metadata": {},
     "output_type": "execute_result"
    }
   ],
   "source": [
    "# Imprimindo um array\n",
    "matriz1"
   ]
  },
  {
   "cell_type": "code",
   "execution_count": 23,
   "metadata": {},
   "outputs": [
    {
     "data": {
      "text/plain": [
       "(2, 3)"
      ]
     },
     "execution_count": 23,
     "metadata": {},
     "output_type": "execute_result"
    }
   ],
   "source": [
    "# Verificando o formato de um array - lembrando que a sequencia das dimensões são:\n",
    "# 1º linha | 2º coluna e por ai vai\n",
    "matriz1.shape"
   ]
  },
  {
   "cell_type": "code",
   "execution_count": 24,
   "metadata": {},
   "outputs": [
    {
     "data": {
      "text/plain": [
       "array([[15, 25],\n",
       "       [35, 45],\n",
       "       [55, 65]])"
      ]
     },
     "execution_count": 24,
     "metadata": {},
     "output_type": "execute_result"
    }
   ],
   "source": [
    "# Imprimindo um array\n",
    "matriz2"
   ]
  },
  {
   "cell_type": "code",
   "execution_count": 25,
   "metadata": {},
   "outputs": [
    {
     "data": {
      "text/plain": [
       "(3, 2)"
      ]
     },
     "execution_count": 25,
     "metadata": {},
     "output_type": "execute_result"
    }
   ],
   "source": [
    "# Verificando o formato de um array\n",
    "matriz2.shape"
   ]
  },
  {
   "cell_type": "code",
   "execution_count": 26,
   "metadata": {},
   "outputs": [
    {
     "data": {
      "text/plain": [
       "dtype('int32')"
      ]
     },
     "execution_count": 26,
     "metadata": {},
     "output_type": "execute_result"
    }
   ],
   "source": [
    "# Verificando o tipo de dado dos elementos de um array\n",
    "matriz2.dtype"
   ]
  },
  {
   "cell_type": "code",
   "execution_count": 27,
   "metadata": {},
   "outputs": [
    {
     "data": {
      "text/plain": [
       "6"
      ]
     },
     "execution_count": 27,
     "metadata": {},
     "output_type": "execute_result"
    }
   ],
   "source": [
    "# Retorna a quantidade de elementos de um array\n",
    "matriz2.size"
   ]
  },
  {
   "cell_type": "code",
   "execution_count": 28,
   "metadata": {},
   "outputs": [
    {
     "data": {
      "text/plain": [
       "240"
      ]
     },
     "execution_count": 28,
     "metadata": {},
     "output_type": "execute_result"
    }
   ],
   "source": [
    "# Retorna a soma dos elementos de um array\n",
    "matriz2.sum()"
   ]
  },
  {
   "cell_type": "code",
   "execution_count": 29,
   "metadata": {},
   "outputs": [
    {
     "data": {
      "text/plain": [
       "array([[10, 88, 30],\n",
       "       [40, 50, 60]])"
      ]
     },
     "execution_count": 29,
     "metadata": {},
     "output_type": "execute_result"
    }
   ],
   "source": [
    "# Imprimindo um array\n",
    "matriz1"
   ]
  },
  {
   "cell_type": "code",
   "execution_count": 32,
   "metadata": {},
   "outputs": [
    {
     "data": {
      "text/plain": [
       "array([ 50, 138,  90])"
      ]
     },
     "execution_count": 32,
     "metadata": {},
     "output_type": "execute_result"
    }
   ],
   "source": [
    "# Retorna a soma de cada COLUNA\n",
    "matriz1.sum(axis=0)    # sum(axis=0) - soma os elementos da COLUNA | por algum motivo quando ta no método o 0 vira coluna e o 1 vira linha"
   ]
  },
  {
   "cell_type": "code",
   "execution_count": 33,
   "metadata": {},
   "outputs": [
    {
     "data": {
      "text/plain": [
       "array([128, 150])"
      ]
     },
     "execution_count": 33,
     "metadata": {},
     "output_type": "execute_result"
    }
   ],
   "source": [
    "# Retorna a soma de cada LINHA\n",
    "matriz1.sum(axis=1)    # sum(axis=1) - soma os elementos da LINHA | por algum motivo quando ta no método o 0 vira coluna e o 1 vira linha"
   ]
  },
  {
   "cell_type": "code",
   "execution_count": 34,
   "metadata": {},
   "outputs": [
    {
     "data": {
      "text/plain": [
       "array([10, 11, 12, 13, 14, 15, 16, 17, 18])"
      ]
     },
     "execution_count": 34,
     "metadata": {},
     "output_type": "execute_result"
    }
   ],
   "source": [
    "# Imprimindo um array\n",
    "vetor2"
   ]
  },
  {
   "cell_type": "code",
   "execution_count": 35,
   "metadata": {},
   "outputs": [
    {
     "data": {
      "text/plain": [
       "array([ 10,  21,  33,  46,  60,  75,  91, 108, 126], dtype=int32)"
      ]
     },
     "execution_count": 35,
     "metadata": {},
     "output_type": "execute_result"
    }
   ],
   "source": [
    "# Retorna a soma acumulada dos elementos de um array\n",
    "vetor2.cumsum()"
   ]
  },
  {
   "cell_type": "code",
   "execution_count": 36,
   "metadata": {},
   "outputs": [
    {
     "data": {
      "text/plain": [
       "14.0"
      ]
     },
     "execution_count": 36,
     "metadata": {},
     "output_type": "execute_result"
    }
   ],
   "source": [
    "# Retorna a média dos elementos de um array\n",
    "vetor2.mean()"
   ]
  },
  {
   "cell_type": "code",
   "execution_count": 37,
   "metadata": {},
   "outputs": [
    {
     "data": {
      "text/plain": [
       "14.0"
      ]
     },
     "execution_count": 37,
     "metadata": {},
     "output_type": "execute_result"
    }
   ],
   "source": [
    "# Retorna a mediana dos elementos de um array\n",
    "np.median(vetor2)"
   ]
  },
  {
   "cell_type": "code",
   "execution_count": 38,
   "metadata": {},
   "outputs": [
    {
     "data": {
      "text/plain": [
       "6.666666666666667"
      ]
     },
     "execution_count": 38,
     "metadata": {},
     "output_type": "execute_result"
    }
   ],
   "source": [
    "# Retorna a variância dos elementos de um array.\n",
    "# A variância indica a distância que os valores se encontram em relação à média. \n",
    "vetor2.var()"
   ]
  },
  {
   "cell_type": "code",
   "execution_count": 39,
   "metadata": {},
   "outputs": [
    {
     "data": {
      "text/plain": [
       "2.581988897471611"
      ]
     },
     "execution_count": 39,
     "metadata": {},
     "output_type": "execute_result"
    }
   ],
   "source": [
    "# Retorna o desvio padrão dos elementos de um array.\n",
    "# O desvio padrão é a raiz quadrada da variância\n",
    "vetor2.std()"
   ]
  },
  {
   "cell_type": "code",
   "execution_count": 40,
   "metadata": {},
   "outputs": [
    {
     "name": "stdout",
     "output_type": "stream",
     "text": [
      "O maior valor é 18 e o menor valor é 10\n"
     ]
    }
   ],
   "source": [
    "# Retornando o valor máximo e mínimo dos elementos de um array\n",
    "print(\"O maior valor é\", vetor2.max(), \"e o menor valor é\", vetor2.min())"
   ]
  },
  {
   "cell_type": "code",
   "execution_count": 41,
   "metadata": {},
   "outputs": [
    {
     "data": {
      "text/plain": [
       "array([ 2,  4,  6,  8, 10, 12, 14, 16, 18])"
      ]
     },
     "execution_count": 41,
     "metadata": {},
     "output_type": "execute_result"
    }
   ],
   "source": [
    "# Criando um array com valores sequenciais. Parecido com a função buil-in range\n",
    "# [start: end: step]\n",
    "vetor3 = np.arange(2, 20, 2)\n",
    "vetor3"
   ]
  },
  {
   "cell_type": "code",
   "execution_count": 44,
   "metadata": {},
   "outputs": [
    {
     "data": {
      "text/plain": [
       "array([0, 1, 2, 3, 4, 5, 6, 7, 8, 9])"
      ]
     },
     "execution_count": 44,
     "metadata": {},
     "output_type": "execute_result"
    }
   ],
   "source": [
    "# Criando um array com valores sequenciais.\n",
    "vetor4 = np.arange(10)\n",
    "vetor4"
   ]
  },
  {
   "cell_type": "code",
   "execution_count": 95,
   "metadata": {},
   "outputs": [
    {
     "data": {
      "text/plain": [
       "array([[ 0,  1,  2,  3],\n",
       "       [ 4,  5,  6,  7],\n",
       "       [ 8,  9, 10, 11]])"
      ]
     },
     "execution_count": 95,
     "metadata": {},
     "output_type": "execute_result"
    }
   ],
   "source": [
    "# Criando um array de duas dimensões com valores sequenciais.\n",
    "matriz3 = np.arange(12).reshape(3, 4)\n",
    "matriz3"
   ]
  },
  {
   "cell_type": "code",
   "execution_count": 46,
   "metadata": {},
   "outputs": [
    {
     "data": {
      "text/plain": [
       "array([[ 0,  1],\n",
       "       [ 2,  3],\n",
       "       [ 4,  5],\n",
       "       [ 6,  7],\n",
       "       [ 8,  9],\n",
       "       [10, 11]])"
      ]
     },
     "execution_count": 46,
     "metadata": {},
     "output_type": "execute_result"
    }
   ],
   "source": [
    "# Mudando formato do array\n",
    "matriz3.reshape(6, 2)"
   ]
  },
  {
   "cell_type": "code",
   "execution_count": 47,
   "metadata": {},
   "outputs": [
    {
     "data": {
      "text/plain": [
       "array([[ 0,  1,  2,  3,  4,  5],\n",
       "       [ 6,  7,  8,  9, 10, 11]])"
      ]
     },
     "execution_count": 47,
     "metadata": {},
     "output_type": "execute_result"
    }
   ],
   "source": [
    "# Mudando formato do array informando apenas a quantidade de linhas\n",
    "matriz3.reshape(2, -1)"
   ]
  },
  {
   "cell_type": "code",
   "execution_count": 48,
   "metadata": {},
   "outputs": [
    {
     "data": {
      "text/plain": [
       "array([[ 0,  1,  2],\n",
       "       [ 3,  4,  5],\n",
       "       [ 6,  7,  8],\n",
       "       [ 9, 10, 11]])"
      ]
     },
     "execution_count": 48,
     "metadata": {},
     "output_type": "execute_result"
    }
   ],
   "source": [
    "# Mudando formato do array informando apenas a quantidade de colunas\n",
    "matriz3.reshape(-1, 3)"
   ]
  },
  {
   "cell_type": "code",
   "execution_count": 49,
   "metadata": {},
   "outputs": [
    {
     "data": {
      "text/plain": [
       "array([ 0,  1,  2,  3,  4,  5,  6,  7,  8,  9, 10, 11])"
      ]
     },
     "execution_count": 49,
     "metadata": {},
     "output_type": "execute_result"
    }
   ],
   "source": [
    "# Converte uma matriz em um vetor\n",
    "matriz3.flatten()"
   ]
  },
  {
   "cell_type": "code",
   "execution_count": 97,
   "metadata": {},
   "outputs": [
    {
     "data": {
      "text/plain": [
       "array([ 9, 41, 56, 32, 36,  7, 73, 43])"
      ]
     },
     "execution_count": 97,
     "metadata": {},
     "output_type": "execute_result"
    }
   ],
   "source": [
    "# Criando um vetor com números aleatórios\n",
    "# [start: end: size] = [começo, fim, quant valores gerados]\n",
    "vetor5 = np.random.randint(5, 100, size=8)\n",
    "vetor5"
   ]
  },
  {
   "cell_type": "code",
   "execution_count": 51,
   "metadata": {},
   "outputs": [
    {
     "data": {
      "text/plain": [
       "array([[822, 958, 240],\n",
       "       [423, 332, 997],\n",
       "       [815, 783, 669],\n",
       "       [ 13, 159,  80],\n",
       "       [303, 540, 474]])"
      ]
     },
     "execution_count": 51,
     "metadata": {},
     "output_type": "execute_result"
    }
   ],
   "source": [
    "# Criando um array de duas dimensões com valores aleatórios.\n",
    "matriz4 = np.random.randint(1, 1000, size=15).reshape(5, 3) # o resultado da multiplicação de reshape tem q ser = a size\n",
    "matriz4"
   ]
  },
  {
   "cell_type": "code",
   "execution_count": 52,
   "metadata": {},
   "outputs": [
    {
     "data": {
      "text/plain": [
       "array([  1.        ,   6.21052632,  11.42105263,  16.63157895,\n",
       "        21.84210526,  27.05263158,  32.26315789,  37.47368421,\n",
       "        42.68421053,  47.89473684,  53.10526316,  58.31578947,\n",
       "        63.52631579,  68.73684211,  73.94736842,  79.15789474,\n",
       "        84.36842105,  89.57894737,  94.78947368, 100.        ])"
      ]
     },
     "execution_count": 52,
     "metadata": {},
     "output_type": "execute_result"
    }
   ],
   "source": [
    "# Criando um vetor especificando a quantidade de elementos dentro de um intervalo.\n",
    "# O último elemento é inclusivo.\n",
    "# esse método tem a caracteristica de colocar o primeiro e o ultimo elemento dentro do vetor\n",
    "vetor6 = np.linspace(1, 100, 20)\n",
    "vetor6"
   ]
  },
  {
   "cell_type": "code",
   "execution_count": 53,
   "metadata": {},
   "outputs": [
    {
     "data": {
      "text/plain": [
       "array([[0., 0., 0., 0., 0., 0.],\n",
       "       [0., 0., 0., 0., 0., 0.],\n",
       "       [0., 0., 0., 0., 0., 0.],\n",
       "       [0., 0., 0., 0., 0., 0.]])"
      ]
     },
     "execution_count": 53,
     "metadata": {},
     "output_type": "execute_result"
    }
   ],
   "source": [
    "# Criando uma matriz de zeros\n",
    "matrizZeros = np.zeros((4, 6))\n",
    "matrizZeros"
   ]
  },
  {
   "cell_type": "code",
   "execution_count": 54,
   "metadata": {},
   "outputs": [
    {
     "data": {
      "text/plain": [
       "array([[1., 1., 1., 1.],\n",
       "       [1., 1., 1., 1.],\n",
       "       [1., 1., 1., 1.],\n",
       "       [1., 1., 1., 1.]])"
      ]
     },
     "execution_count": 54,
     "metadata": {},
     "output_type": "execute_result"
    }
   ],
   "source": [
    "# Criando uma matriz com todos os elementos iguais a 1\n",
    "matrizUm = np.ones([4, 4])\n",
    "matrizUm"
   ]
  },
  {
   "cell_type": "code",
   "execution_count": 55,
   "metadata": {},
   "outputs": [
    {
     "data": {
      "text/plain": [
       "(array([0.]), array([24], dtype=int64))"
      ]
     },
     "execution_count": 55,
     "metadata": {},
     "output_type": "execute_result"
    }
   ],
   "source": [
    "# Contar valores únicos no array NumPy\n",
    "np.unique(matrizZeros, return_counts=True)"
   ]
  },
  {
   "cell_type": "code",
   "execution_count": 56,
   "metadata": {},
   "outputs": [
    {
     "data": {
      "text/plain": [
       "array([[15, 25],\n",
       "       [35, 45],\n",
       "       [55, 65]])"
      ]
     },
     "execution_count": 56,
     "metadata": {},
     "output_type": "execute_result"
    }
   ],
   "source": [
    "# Imprimindo uma variável\n",
    "matriz2"
   ]
  },
  {
   "cell_type": "code",
   "execution_count": 57,
   "metadata": {},
   "outputs": [
    {
     "data": {
      "text/plain": [
       "array([[15, 25],\n",
       "       [35, 45],\n",
       "       [55, 65],\n",
       "       [ 1,  2]])"
      ]
     },
     "execution_count": 57,
     "metadata": {},
     "output_type": "execute_result"
    }
   ],
   "source": [
    "# Inserindo uma nova linha na matriz\n",
    "matriz2 = np.append(matriz2, [[1,2]], axis=0)\n",
    "matriz2"
   ]
  },
  {
   "cell_type": "code",
   "execution_count": 58,
   "metadata": {},
   "outputs": [
    {
     "data": {
      "text/plain": [
       "array([[15, 25,  1],\n",
       "       [35, 45,  2],\n",
       "       [55, 65,  3],\n",
       "       [ 1,  2,  4]])"
      ]
     },
     "execution_count": 58,
     "metadata": {},
     "output_type": "execute_result"
    }
   ],
   "source": [
    "# Inserindo uma nova coluna na matriz\n",
    "matriz2 = np.append(matriz2, [[1],[2],[3], [4]], axis=1)\n",
    "matriz2"
   ]
  },
  {
   "cell_type": "markdown",
   "metadata": {},
   "source": [
    "### Operações básicas"
   ]
  },
  {
   "cell_type": "code",
   "execution_count": 59,
   "metadata": {},
   "outputs": [
    {
     "name": "stdout",
     "output_type": "stream",
     "text": [
      "[20 30 40 50]\n",
      "[0 1 2 3]\n"
     ]
    }
   ],
   "source": [
    "# Criando dois arrays com uma dimensão\n",
    "v1 = np.array([20, 30, 40, 50])\n",
    "v2 = np.arange(4)\n",
    "print(v1)\n",
    "print(v2)"
   ]
  },
  {
   "cell_type": "code",
   "execution_count": 60,
   "metadata": {},
   "outputs": [
    {
     "data": {
      "text/plain": [
       "array([20, 31, 42, 53])"
      ]
     },
     "execution_count": 60,
     "metadata": {},
     "output_type": "execute_result"
    }
   ],
   "source": [
    "# Somando os arrays\n",
    "v1 + v2"
   ]
  },
  {
   "cell_type": "code",
   "execution_count": 61,
   "metadata": {},
   "outputs": [
    {
     "data": {
      "text/plain": [
       "array([20, 29, 38, 47])"
      ]
     },
     "execution_count": 61,
     "metadata": {},
     "output_type": "execute_result"
    }
   ],
   "source": [
    "# Subtraindo os arrays\n",
    "v1 - v2"
   ]
  },
  {
   "cell_type": "code",
   "execution_count": 62,
   "metadata": {},
   "outputs": [
    {
     "data": {
      "text/plain": [
       "array([False, False, False, False])"
      ]
     },
     "execution_count": 62,
     "metadata": {},
     "output_type": "execute_result"
    }
   ],
   "source": [
    "# Comparando arrays\n",
    "v1 == v2"
   ]
  },
  {
   "cell_type": "code",
   "execution_count": 63,
   "metadata": {},
   "outputs": [
    {
     "data": {
      "text/plain": [
       "array([0, 1, 4, 9], dtype=int32)"
      ]
     },
     "execution_count": 63,
     "metadata": {},
     "output_type": "execute_result"
    }
   ],
   "source": [
    "# Elevando cada elemento a uma determinada potência\n",
    "v2**2"
   ]
  },
  {
   "cell_type": "code",
   "execution_count": 64,
   "metadata": {},
   "outputs": [
    {
     "data": {
      "text/plain": [
       "array([  0,  30,  80, 150])"
      ]
     },
     "execution_count": 64,
     "metadata": {},
     "output_type": "execute_result"
    }
   ],
   "source": [
    "# Multiplicando elementos de dois arrays\n",
    "v1 * v2"
   ]
  },
  {
   "cell_type": "code",
   "execution_count": 65,
   "metadata": {},
   "outputs": [],
   "source": [
    "# Criando matrizes\n",
    "m1 = np.array([[5, 2],\n",
    "               [0, 1]])\n",
    "m2 = np.array([[2, 0],\n",
    "               [3, 4]])"
   ]
  },
  {
   "cell_type": "code",
   "execution_count": 66,
   "metadata": {},
   "outputs": [
    {
     "data": {
      "text/plain": [
       "array([[16,  8],\n",
       "       [ 3,  4]])"
      ]
     },
     "execution_count": 66,
     "metadata": {},
     "output_type": "execute_result"
    }
   ],
   "source": [
    "# Multiplicação de matrizes\n",
    "m1.dot(m2)"
   ]
  },
  {
   "cell_type": "markdown",
   "metadata": {
    "tags": []
   },
   "source": [
    "### Exercícios"
   ]
  },
  {
   "cell_type": "markdown",
   "metadata": {},
   "source": [
    "1 - Faça uma função chamada gera matriz que recebe como parâmetros de entrada (a, b, c, m) e que\n",
    "tem como retorno um array Numpy de formato m × m (matriz quadrada), onde os elementos são os c\n",
    "números igualmente espaçados obtidos ao se dividir o intervalo [a, b]. Caso não seja\n",
    "possível construir tal array, a função deve retornar a mensagem \"Não é possível\n",
    "construir a matriz\".\n"
   ]
  },
  {
   "cell_type": "code",
   "execution_count": 68,
   "metadata": {},
   "outputs": [],
   "source": [
    "import numpy as np\n",
    "\n",
    "def geraMatriz1(a, b, c, m):\n",
    "    \n",
    "    '''\n",
    "    tradução dos parâmetros:\n",
    "    a = onde começa\n",
    "    b = onde termina (se eu nao me engano é exclusivo)\n",
    "    c = quantidade de elementos (q tem q ser igual ao resultado da * do nº das linhas X o nº das colunas)\n",
    "    m = nº de linhas/colunas (aqui ele ta fazendo a msm quantidade de linhas e de colunas)\n",
    "    '''\n",
    "    \n",
    "    \n",
    "    if(m * m == c):    # o resultado da multiplicação do número de linhas pelo número de colunas deve ser igual a quantidade de elementos\n",
    "        return np.random.randint(a, b, size=c).reshape(m, m)\n",
    "    else:\n",
    "        print('Não é possível construir a matriz')"
   ]
  },
  {
   "cell_type": "code",
   "execution_count": 70,
   "metadata": {},
   "outputs": [
    {
     "data": {
      "text/plain": [
       "array([[9, 9, 5, 3],\n",
       "       [8, 6, 0, 6],\n",
       "       [9, 2, 0, 8],\n",
       "       [8, 8, 6, 6]])"
      ]
     },
     "execution_count": 70,
     "metadata": {},
     "output_type": "execute_result"
    }
   ],
   "source": [
    "geraMatriz1(0, 10, 16, 4)"
   ]
  },
  {
   "cell_type": "code",
   "execution_count": 71,
   "metadata": {},
   "outputs": [
    {
     "name": "stdout",
     "output_type": "stream",
     "text": [
      "Não é possível construir a matriz\n"
     ]
    }
   ],
   "source": [
    "geraMatriz1(0, 10, 20, 4)"
   ]
  },
  {
   "cell_type": "code",
   "execution_count": null,
   "metadata": {},
   "outputs": [],
   "source": [
    "# --------------------------------------------------------------------------------------------------------------- #"
   ]
  },
  {
   "cell_type": "code",
   "execution_count": 2,
   "metadata": {},
   "outputs": [],
   "source": [
    "# Importando o pacote NumPy\n",
    "import numpy as np"
   ]
  },
  {
   "cell_type": "code",
   "execution_count": 3,
   "metadata": {},
   "outputs": [],
   "source": [
    "# Definindo a função\n",
    "def geraMatriz1(a, b, c, m):\n",
    "    if (m * m == c):\n",
    "        return np.random.randint(a, b, size=c).reshape(m, m)\n",
    "    else:\n",
    "        print(\"Não é possível construir a matriz\")"
   ]
  },
  {
   "cell_type": "code",
   "execution_count": 4,
   "metadata": {},
   "outputs": [
    {
     "data": {
      "text/plain": [
       "array([[1, 7, 7, 8],\n",
       "       [2, 7, 8, 7],\n",
       "       [0, 6, 7, 3],\n",
       "       [6, 2, 6, 5]])"
      ]
     },
     "execution_count": 4,
     "metadata": {},
     "output_type": "execute_result"
    }
   ],
   "source": [
    "# Chamando a função\n",
    "geraMatriz1(0, 10, 16, 4)"
   ]
  },
  {
   "cell_type": "code",
   "execution_count": 5,
   "metadata": {},
   "outputs": [
    {
     "name": "stdout",
     "output_type": "stream",
     "text": [
      "Não é possível construir a matriz\n"
     ]
    }
   ],
   "source": [
    "# Chamando a função\n",
    "geraMatriz1(0, 10, 20, 4)"
   ]
  },
  {
   "cell_type": "markdown",
   "metadata": {
    "tags": []
   },
   "source": [
    "### Tratamento de Exceções\n",
    "Uma exceção ocorre quando o código está sendo executado.<br>\n",
    "O código está sintaticamente correto, mas apresenta erro durante a execução."
   ]
  },
  {
   "cell_type": "code",
   "execution_count": 74,
   "metadata": {},
   "outputs": [
    {
     "ename": "ValueError",
     "evalue": "cannot reshape array of size 20 into shape (4,4)",
     "output_type": "error",
     "traceback": [
      "\u001b[1;31m---------------------------------------------------------------------------\u001b[0m",
      "\u001b[1;31mValueError\u001b[0m                                Traceback (most recent call last)",
      "\u001b[1;32m~\\AppData\\Local\\Temp\\ipykernel_316\\1917380624.py\u001b[0m in \u001b[0;36m<module>\u001b[1;34m\u001b[0m\n\u001b[0;32m      1\u001b[0m \u001b[1;31m# Não é possível criar uma matriz com uma quantidade de elementos que não cabe no seu formato\u001b[0m\u001b[1;33m\u001b[0m\u001b[1;33m\u001b[0m\u001b[0m\n\u001b[1;32m----> 2\u001b[1;33m \u001b[0mnp\u001b[0m\u001b[1;33m.\u001b[0m\u001b[0mrandom\u001b[0m\u001b[1;33m.\u001b[0m\u001b[0mrandint\u001b[0m\u001b[1;33m(\u001b[0m\u001b[1;36m0\u001b[0m\u001b[1;33m,\u001b[0m \u001b[1;36m10\u001b[0m\u001b[1;33m,\u001b[0m \u001b[0msize\u001b[0m\u001b[1;33m=\u001b[0m\u001b[1;36m20\u001b[0m\u001b[1;33m)\u001b[0m\u001b[1;33m.\u001b[0m\u001b[0mreshape\u001b[0m\u001b[1;33m(\u001b[0m\u001b[1;36m4\u001b[0m\u001b[1;33m,\u001b[0m \u001b[1;36m4\u001b[0m\u001b[1;33m)\u001b[0m\u001b[1;33m\u001b[0m\u001b[1;33m\u001b[0m\u001b[0m\n\u001b[0m",
      "\u001b[1;31mValueError\u001b[0m: cannot reshape array of size 20 into shape (4,4)"
     ]
    }
   ],
   "source": [
    "# Não é possível criar uma matriz com uma quantidade de elementos que não cabe no seu formato\n",
    "np.random.randint(0, 10, size=20).reshape(4, 4)"
   ]
  },
  {
   "cell_type": "code",
   "execution_count": 75,
   "metadata": {},
   "outputs": [],
   "source": [
    "# Definindo a função\n",
    "def geraMatriz2(a, b, c, m):\n",
    "    try:\n",
    "        return np.random.randint(a, b, size=c).reshape(m, m)\n",
    "    except ValueError as mensagemValueError: # Erro de valor\n",
    "        print(mensagemValueError)\n",
    "    except IOError as mensagemIOError: # Erro de entrada e saída\n",
    "        print(mensagemIOError)\n",
    "    except ZeroDivisionError as mensagemZeroDivisionError: # divisão por zero\n",
    "        print(mensagemZeroDivisionError)\n",
    "    except NameError as mensagemNameError: # variável não foi definida: \n",
    "        print(mensagemNameError)\n",
    "    else:\n",
    "        print(\"Não é possível criar a matriz\")"
   ]
  },
  {
   "cell_type": "code",
   "execution_count": 81,
   "metadata": {},
   "outputs": [
    {
     "name": "stdout",
     "output_type": "stream",
     "text": [
      "cannot reshape array of size 20 into shape (4,4)\n"
     ]
    }
   ],
   "source": [
    "# Chamando a função\n",
    "geraMatriz2(1, 100, 20, 4)"
   ]
  },
  {
   "cell_type": "markdown",
   "metadata": {},
   "source": [
    "2 - Modifique a função do exercício anterior para imprimir:<br>\n",
    "- a matriz criada; <br>\n",
    "- a média e o desvio padrão das linhas; <br>\n",
    "- a média e desvio padrão das colunas."
   ]
  },
  {
   "cell_type": "code",
   "execution_count": 86,
   "metadata": {},
   "outputs": [],
   "source": [
    "# Definindo a função\n",
    "def geraMatriz3(a, b, c, m):\n",
    "    np.random.seed(5)    # garante q os nº gerados sejam sempre os msms\n",
    "    try:\n",
    "        matriz = np.random.randint(a, b, size=c).reshape(m, m)\n",
    "        print(matriz)\n",
    "        print(\"Média das linhas:\", matriz.mean(axis=1)) # calcula usando as colunas (axis=1)\n",
    "        print(\"Desvio padrão das linhas:\", matriz.std(axis=1)) # calcula usando as colunas (axis=1)\n",
    "        print(\"Média das colunas:\", matriz.mean(axis=0)) # calcula usando as linhas (axis=0)\n",
    "        print(\"Desvio padrão das colunas:\", matriz.std(axis=0)) # calcula usando as linhas (axis=0)\n",
    "    except ValueError as mensagemValueError:\n",
    "        print(mensagemValueError)"
   ]
  },
  {
   "cell_type": "code",
   "execution_count": 87,
   "metadata": {},
   "outputs": [
    {
     "name": "stdout",
     "output_type": "stream",
     "text": [
      "[[79 62 17 74]\n",
      " [ 9 63 28 31]\n",
      " [81  8 77 16]\n",
      " [54 81 28 45]]\n",
      "Média das linhas: [58.   32.75 45.5  52.  ]\n",
      "Desvio padrão das linhas: [24.46425965 19.39555361 33.64892272 19.17028951]\n",
      "Média das colunas: [55.75 53.5  37.5  41.5 ]\n",
      "Desvio padrão das colunas: [29.01185103 27.33587387 23.2432786  21.38340478]\n"
     ]
    }
   ],
   "source": [
    "# Chamando a função\n",
    "geraMatriz3(1, 100, 16, 4)"
   ]
  },
  {
   "cell_type": "markdown",
   "metadata": {},
   "source": [
    "3 - Modifique a função do exercício anterior para retornar uma matriz com a média e o desvio padrão das linhas e colunas."
   ]
  },
  {
   "cell_type": "code",
   "execution_count": 90,
   "metadata": {},
   "outputs": [],
   "source": [
    "# Definindo a função\n",
    "def geraMatriz4(a, b, c, m):\n",
    "    np.random.seed(5)\n",
    "    try:\n",
    "        matriz = np.random.randint(a, b, size=c).reshape(m, m)\n",
    "        print(matriz)\n",
    "        print(\"Média das linhas:\", matriz.mean(axis=1))\n",
    "        print(\"Desvio padrão das linhas:\", matriz.std(axis=1))\n",
    "        print(\"Média das colunas:\", matriz.mean(axis=0))\n",
    "        print(\"Desvio padrão das colunas:\", matriz.std(axis=0))\n",
    "        \n",
    "        return np.array([(matriz.mean(axis=1)), (matriz.std(axis=1)), (matriz.mean(axis=0)), (matriz.std(axis=0))])\n",
    "    except ValueError as mensagemValueError:\n",
    "        print(mensagemValueError)"
   ]
  },
  {
   "cell_type": "code",
   "execution_count": 93,
   "metadata": {},
   "outputs": [
    {
     "name": "stdout",
     "output_type": "stream",
     "text": [
      "[[79 62 17 74  9]\n",
      " [63 28 31 81  8]\n",
      " [77 16 54 81 28]\n",
      " [45 78 76 66 48]\n",
      " [31 85 87 19 10]]\n",
      "Média das linhas: [48.2 42.2 51.2 62.6 46.4]\n",
      "Desvio padrão das linhas: [29.37618083 26.20992179 25.84105261 13.79275172 33.01878253]\n",
      "Média das colunas: [59.  53.8 53.  64.2 20.6]\n",
      "Desvio padrão das colunas: [18.54723699 27.27929618 26.32869157 23.26714422 15.56406117]\n"
     ]
    },
    {
     "data": {
      "text/plain": [
       "array([[48.2       , 42.2       , 51.2       , 62.6       , 46.4       ],\n",
       "       [29.37618083, 26.20992179, 25.84105261, 13.79275172, 33.01878253],\n",
       "       [59.        , 53.8       , 53.        , 64.2       , 20.6       ],\n",
       "       [18.54723699, 27.27929618, 26.32869157, 23.26714422, 15.56406117]])"
      ]
     },
     "execution_count": 93,
     "metadata": {},
     "output_type": "execute_result"
    }
   ],
   "source": [
    "# Chamando a função\n",
    "geraMatriz4(1, 100, 25, 5)"
   ]
  },
  {
   "cell_type": "markdown",
   "metadata": {},
   "source": [
    "4 - Utilize a função do exercício anterior para gerar uma matriz. A partir dessa matriz gerada, utilize o conceito de fatiamento para criar uma nova matriz com os valores das duas últimas colunas."
   ]
  },
  {
   "cell_type": "code",
   "execution_count": 13,
   "metadata": {},
   "outputs": [
    {
     "name": "stdout",
     "output_type": "stream",
     "text": [
      "[[79 62 17 74  9]\n",
      " [63 28 31 81  8]\n",
      " [77 16 54 81 28]\n",
      " [45 78 76 66 48]\n",
      " [31 85 87 19 10]]\n",
      "Média das linhas: [48.2 42.2 51.2 62.6 46.4]\n",
      "Desvio padrão das linhas: [29.37618083 26.20992179 25.84105261 13.79275172 33.01878253]\n",
      "Média das colunas: [59.  53.8 53.  64.2 20.6]\n",
      "Desvio padrão das colunas: [18.54723699 27.27929618 26.32869157 23.26714422 15.56406117]\n"
     ]
    },
    {
     "data": {
      "text/plain": [
       "array([[48.2       , 42.2       , 51.2       , 62.6       , 46.4       ],\n",
       "       [29.37618083, 26.20992179, 25.84105261, 13.79275172, 33.01878253],\n",
       "       [59.        , 53.8       , 53.        , 64.2       , 20.6       ],\n",
       "       [18.54723699, 27.27929618, 26.32869157, 23.26714422, 15.56406117]])"
      ]
     },
     "execution_count": 13,
     "metadata": {},
     "output_type": "execute_result"
    }
   ],
   "source": [
    "# Chamando a função\n",
    "m = geraMatriz4(1, 100, 25, 5)\n",
    "m"
   ]
  },
  {
   "cell_type": "code",
   "execution_count": 14,
   "metadata": {},
   "outputs": [
    {
     "data": {
      "text/plain": [
       "array([[62.6       , 46.4       ],\n",
       "       [13.79275172, 33.01878253],\n",
       "       [64.2       , 20.6       ],\n",
       "       [23.26714422, 15.56406117]])"
      ]
     },
     "execution_count": 14,
     "metadata": {},
     "output_type": "execute_result"
    }
   ],
   "source": [
    "# Criando uma nova matriz utilizando fatiamento\n",
    "m2 = m[:, 3:5]\n",
    "m2"
   ]
  },
  {
   "cell_type": "code",
   "execution_count": null,
   "metadata": {},
   "outputs": [],
   "source": []
  }
 ],
 "metadata": {
  "kernelspec": {
   "display_name": "Python 3 (ipykernel)",
   "language": "python",
   "name": "python3"
  },
  "language_info": {
   "codemirror_mode": {
    "name": "ipython",
    "version": 3
   },
   "file_extension": ".py",
   "mimetype": "text/x-python",
   "name": "python",
   "nbconvert_exporter": "python",
   "pygments_lexer": "ipython3",
   "version": "3.9.13"
  }
 },
 "nbformat": 4,
 "nbformat_minor": 4
}
