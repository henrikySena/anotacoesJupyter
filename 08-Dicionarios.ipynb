{
 "cells": [
  {
   "cell_type": "markdown",
   "metadata": {},
   "source": [
    "# <font color='blue'>Python Fundamentos - Dicionários</font>"
   ]
  },
  {
   "cell_type": "code",
   "execution_count": 1,
   "metadata": {},
   "outputs": [
    {
     "name": "stdout",
     "output_type": "stream",
     "text": [
      "Versão da Linguagem Python Usada Neste Jupyter Notebook: 3.9.13\n"
     ]
    }
   ],
   "source": [
    "# Versão da Linguagem Python\n",
    "from platform import python_version\n",
    "print('Versão da Linguagem Python Usada Neste Jupyter Notebook:', python_version())"
   ]
  },
  {
   "cell_type": "markdown",
   "metadata": {},
   "source": [
    "## Dicionários\n",
    "<details>\n",
    "    <summary>\n",
    "        <a class=\"btnfire small stroke\"><em class=\"fas fa-chevron-circle-down\"></em>&nbsp;&nbsp;Clique para mais detalhes</a>\n",
    "    </summary>\n",
    "    <br>\n",
    "   \n",
    "Dicionários são estruturas de armazenamento de dados mapeados por um par de chave e valor. <br>\n",
    "Um dicionário Python consiste em uma chave e, em seguida, um ou diversos valores associados a ela. <br>\n",
    "Esse valor pode ser de qualquer tipo de dado. <br>\n",
    "Os valores podem ser modificados enquanto que as chaves não podem. <br>\n",
    "Em um dicionário os objetos são armazenados de acordo com sua chave. Já em uma lista ou uma tupla, os objetos são armazenados por sua posição relativa. <br>\n",
    "\n",
    "</details>\n"
   ]
  },
  {
   "cell_type": "markdown",
   "metadata": {},
   "source": [
    "### Criando um dicionário\n",
    "<details>\n",
    "    <summary>\n",
    "        <a class=\"btnfire small stroke\"><em class=\"fas fa-chevron-circle-down\"></em>&nbsp;&nbsp;Clique para mais detalhes</a>\n",
    "    </summary>\n",
    "    <br>\n",
    "   \n",
    "Para criar um dicionário em Python usa-se chaves { } e vírgulas para separar os elementos. <br>\n",
    "Cada elemento é formado por um par de chave e valor.<br>\n",
    "\n",
    "</details>"
   ]
  },
  {
   "cell_type": "code",
   "execution_count": 2,
   "metadata": {},
   "outputs": [
    {
     "data": {
      "text/plain": [
       "{'chave1': 'valor1', 'chave2': 'valor2', 'chave3': 'valor3'}"
      ]
     },
     "execution_count": 2,
     "metadata": {},
     "output_type": "execute_result"
    }
   ],
   "source": [
    "# Criando um dicionário\n",
    "dicionario = {\"chave1\": \"valor1\", \"chave2\": \"valor2\", \"chave3\": \"valor3\"}\n",
    "dicionario"
   ]
  },
  {
   "cell_type": "code",
   "execution_count": 3,
   "metadata": {},
   "outputs": [
    {
     "data": {
      "text/plain": [
       "{'chave1': 20.5, 'chave2': True, 'chave3': 56}"
      ]
     },
     "execution_count": 3,
     "metadata": {},
     "output_type": "execute_result"
    }
   ],
   "source": [
    "# Criando um dicionário com VALORES de tipos de dados diferentes\n",
    "dicionario2 = {'chave1': 20.5, \"chave2\": True, 'chave3': 56}\n",
    "dicionario2"
   ]
  },
  {
   "cell_type": "code",
   "execution_count": 4,
   "metadata": {},
   "outputs": [
    {
     "data": {
      "text/plain": [
       "{1: 'valor1', 2.0: 34, False: True, (1, 2, 3): 'valor3'}"
      ]
     },
     "execution_count": 4,
     "metadata": {},
     "output_type": "execute_result"
    }
   ],
   "source": [
    "# Criando um dicionário com CHAVES de tipos de dados diferentes\n",
    "# Não é uma boa prática\n",
    "dicionario3 = {1: 'valor1', 2.0: 34, False: True, (1,2,3): \"valor3\"}\n",
    "dicionario3"
   ]
  },
  {
   "cell_type": "code",
   "execution_count": 5,
   "metadata": {},
   "outputs": [
    {
     "data": {
      "text/plain": [
       "{'Regressão Logística': 65, 'KNN': 87, 'Naive Bayes': 90, 'SVM': 85}"
      ]
     },
     "execution_count": 5,
     "metadata": {},
     "output_type": "execute_result"
    }
   ],
   "source": [
    "# Python NÃO permite criar um dicionário com chaves duplicadas\n",
    "modelos = {\"Regressão Logística\":92, \"Regressão Logística\":65, \"KNN\":87, \"Naive Bayes\":90, \"SVM\":85}\n",
    "modelos"
   ]
  },
  {
   "cell_type": "code",
   "execution_count": 6,
   "metadata": {},
   "outputs": [
    {
     "data": {
      "text/plain": [
       "{'Algoritmos': ['Regressão Logística', 'KNN', 'Naive Bayes', 'SVM'],\n",
       " 'Scores': [92, 87, 90, 85]}"
      ]
     },
     "execution_count": 6,
     "metadata": {},
     "output_type": "execute_result"
    }
   ],
   "source": [
    "# Criando um dicionário com listas\n",
    "modelos2 = {\"Algoritmos\": [\"Regressão Logística\", \"KNN\", \"Naive Bayes\", \"SVM\"],\n",
    "            \"Scores\": [92, 87, 90, 85] }\n",
    "modelos2"
   ]
  },
  {
   "cell_type": "code",
   "execution_count": 7,
   "metadata": {},
   "outputs": [
    {
     "data": {
      "text/plain": [
       "{'Regressão Logística': 65, 'KNN': 87, 'Naive Bayes': 90, 'SVM': 85}"
      ]
     },
     "execution_count": 7,
     "metadata": {},
     "output_type": "execute_result"
    }
   ],
   "source": [
    "# Criando um dicionário utilizando a função Buit-in dict() \n",
    "dicionario4 = dict([(\"Regressão Logística\",65), (\"KNN\",87), (\"Naive Bayes\",90), (\"SVM\",85)])\n",
    "dicionario4"
   ]
  },
  {
   "cell_type": "code",
   "execution_count": 8,
   "metadata": {},
   "outputs": [
    {
     "data": {
      "text/plain": [
       "{'um': 1, 'dois': 2, 'três': 3}"
      ]
     },
     "execution_count": 8,
     "metadata": {},
     "output_type": "execute_result"
    }
   ],
   "source": [
    "# Criando um dicionário utilizando a função Built-in dict() \n",
    "dicionario5 =  dict(um=1, dois=2, três=3)\n",
    "dicionario5"
   ]
  },
  {
   "cell_type": "code",
   "execution_count": 9,
   "metadata": {},
   "outputs": [
    {
     "data": {
      "text/plain": [
       "{}"
      ]
     },
     "execution_count": 9,
     "metadata": {},
     "output_type": "execute_result"
    }
   ],
   "source": [
    "# Criando um dicionário vazio\n",
    "dicionarioVazio = {}\n",
    "dicionarioVazio"
   ]
  },
  {
   "cell_type": "markdown",
   "metadata": {},
   "source": [
    "### Inserindo e deletando um elemento de um dicionário"
   ]
  },
  {
   "cell_type": "code",
   "execution_count": 10,
   "metadata": {},
   "outputs": [
    {
     "data": {
      "text/plain": [
       "{'Regressão Logística': 65, 'KNN': 87, 'Naive Bayes': 90, 'SVM': 85}"
      ]
     },
     "execution_count": 10,
     "metadata": {},
     "output_type": "execute_result"
    }
   ],
   "source": [
    "# Imprimindo o dicionário\n",
    "modelos"
   ]
  },
  {
   "cell_type": "code",
   "execution_count": 11,
   "metadata": {},
   "outputs": [
    {
     "data": {
      "text/plain": [
       "{'Regressão Logística': 65,\n",
       " 'KNN': 87,\n",
       " 'Naive Bayes': 90,\n",
       " 'SVM': 85,\n",
       " 'Random Forest': 81}"
      ]
     },
     "execution_count": 11,
     "metadata": {},
     "output_type": "execute_result"
    }
   ],
   "source": [
    "# Inserindo um elemento no dicionário. O novo elemento é inserido no final\n",
    "modelos[\"Random Forest\"] = 81\n",
    "modelos"
   ]
  },
  {
   "cell_type": "code",
   "execution_count": 12,
   "metadata": {},
   "outputs": [
    {
     "data": {
      "text/plain": [
       "{'Algoritmos': ['Regressão Logística', 'KNN', 'Naive Bayes', 'SVM'],\n",
       " 'Scores': [92, 87, 90, 85]}"
      ]
     },
     "execution_count": 12,
     "metadata": {},
     "output_type": "execute_result"
    }
   ],
   "source": [
    "# Imprimindo o dicionário\n",
    "modelos2"
   ]
  },
  {
   "cell_type": "code",
   "execution_count": 13,
   "metadata": {},
   "outputs": [
    {
     "data": {
      "text/plain": [
       "{'Algoritmos': ['Regressão Logística',\n",
       "  'KNN',\n",
       "  'Naive Bayes',\n",
       "  'SVM',\n",
       "  'AdaBoost'],\n",
       " 'Scores': [92, 87, 90, 85]}"
      ]
     },
     "execution_count": 13,
     "metadata": {},
     "output_type": "execute_result"
    }
   ],
   "source": [
    "# Adicionando um valor para a chave \"Algoritmos\"\n",
    "modelos2[\"Algoritmos\"].append(\"AdaBoost\")\n",
    "modelos2"
   ]
  },
  {
   "cell_type": "code",
   "execution_count": 14,
   "metadata": {},
   "outputs": [
    {
     "data": {
      "text/plain": [
       "{'Algoritmos': ['Regressão Logística', 'KNN', 'Naive Bayes', 'SVM'],\n",
       " 'Scores': [92, 87, 90, 85]}"
      ]
     },
     "execution_count": 14,
     "metadata": {},
     "output_type": "execute_result"
    }
   ],
   "source": [
    "# Removendo um valor \"AdaBoost\" da chave \"Algoritmos\"\n",
    "modelos2[\"Algoritmos\"].remove(\"AdaBoost\")\n",
    "modelos2"
   ]
  },
  {
   "cell_type": "code",
   "execution_count": 15,
   "metadata": {},
   "outputs": [
    {
     "data": {
      "text/plain": [
       "{'Regressão Logística': 65,\n",
       " 'KNN': 87,\n",
       " 'Naive Bayes': 90,\n",
       " 'SVM': 85,\n",
       " 'Random Forest': 81}"
      ]
     },
     "execution_count": 15,
     "metadata": {},
     "output_type": "execute_result"
    }
   ],
   "source": [
    "# Imprimindo o dicionário\n",
    "modelos"
   ]
  },
  {
   "cell_type": "code",
   "execution_count": 16,
   "metadata": {},
   "outputs": [
    {
     "data": {
      "text/plain": [
       "{'Regressão Logística': 65, 'KNN': 87, 'Naive Bayes': 90, 'Random Forest': 81}"
      ]
     },
     "execution_count": 16,
     "metadata": {},
     "output_type": "execute_result"
    }
   ],
   "source": [
    "# Excluindo uma chave e seu valor\n",
    "del modelos[\"SVM\"]\n",
    "modelos"
   ]
  },
  {
   "cell_type": "code",
   "execution_count": 17,
   "metadata": {},
   "outputs": [
    {
     "data": {
      "text/plain": [
       "{}"
      ]
     },
     "execution_count": 17,
     "metadata": {},
     "output_type": "execute_result"
    }
   ],
   "source": [
    "# Removendo todos os itens do dicionário\n",
    "modelos.clear()\n",
    "modelos"
   ]
  },
  {
   "cell_type": "code",
   "execution_count": 18,
   "metadata": {},
   "outputs": [],
   "source": [
    "# Excluindo um dicionário\n",
    "del modelos"
   ]
  },
  {
   "cell_type": "code",
   "execution_count": 19,
   "metadata": {},
   "outputs": [
    {
     "ename": "NameError",
     "evalue": "name 'modelos' is not defined",
     "output_type": "error",
     "traceback": [
      "\u001b[1;31m---------------------------------------------------------------------------\u001b[0m",
      "\u001b[1;31mNameError\u001b[0m                                 Traceback (most recent call last)",
      "\u001b[1;32m~\\AppData\\Local\\Temp\\ipykernel_8656\\1513297410.py\u001b[0m in \u001b[0;36m<module>\u001b[1;34m\u001b[0m\n\u001b[0;32m      1\u001b[0m \u001b[1;31m# Imprimindo o dicionário\u001b[0m\u001b[1;33m\u001b[0m\u001b[1;33m\u001b[0m\u001b[0m\n\u001b[1;32m----> 2\u001b[1;33m \u001b[0mmodelos\u001b[0m\u001b[1;33m\u001b[0m\u001b[1;33m\u001b[0m\u001b[0m\n\u001b[0m",
      "\u001b[1;31mNameError\u001b[0m: name 'modelos' is not defined"
     ]
    }
   ],
   "source": [
    "# Imprimindo o dicionário\n",
    "modelos"
   ]
  },
  {
   "cell_type": "markdown",
   "metadata": {
    "tags": []
   },
   "source": [
    "### Slicing"
   ]
  },
  {
   "cell_type": "code",
   "execution_count": 54,
   "metadata": {},
   "outputs": [
    {
     "data": {
      "text/plain": [
       "{'Regressão Logística': 92, 'KNN': 87, 'Naive Bayes': 90, 'SVM': 85}"
      ]
     },
     "execution_count": 54,
     "metadata": {},
     "output_type": "execute_result"
    }
   ],
   "source": [
    "# Criando um dicionário\n",
    "modelos = {\"Regressão Logística\":92, \"KNN\":87, \"Naive Bayes\":90, \"SVM\":85}\n",
    "modelos"
   ]
  },
  {
   "cell_type": "code",
   "execution_count": 55,
   "metadata": {},
   "outputs": [
    {
     "data": {
      "text/plain": [
       "92"
      ]
     },
     "execution_count": 55,
     "metadata": {},
     "output_type": "execute_result"
    }
   ],
   "source": [
    "# Recuperando o valor de uma chave\n",
    "modelos[\"Regressão Logística\"]"
   ]
  },
  {
   "cell_type": "code",
   "execution_count": 56,
   "metadata": {},
   "outputs": [],
   "source": [
    "# Modificando o valor de uma chave\n",
    "modelos[\"KNN\"] = 71"
   ]
  },
  {
   "cell_type": "code",
   "execution_count": 57,
   "metadata": {},
   "outputs": [
    {
     "data": {
      "text/plain": [
       "71"
      ]
     },
     "execution_count": 57,
     "metadata": {},
     "output_type": "execute_result"
    }
   ],
   "source": [
    "# Recuperando o valor de uma chave\n",
    "modelos[\"KNN\"]"
   ]
  },
  {
   "cell_type": "code",
   "execution_count": 58,
   "metadata": {},
   "outputs": [],
   "source": [
    "# Atribuindo valores das chaves de um dicionário a variáveis\n",
    "a, b, c = modelos[\"Regressão Logística\"], modelos[\"KNN\"], modelos[\"SVM\"]"
   ]
  },
  {
   "cell_type": "code",
   "execution_count": 59,
   "metadata": {},
   "outputs": [
    {
     "data": {
      "text/plain": [
       "(92, 71, 85)"
      ]
     },
     "execution_count": 59,
     "metadata": {},
     "output_type": "execute_result"
    }
   ],
   "source": [
    "# Imprimindo as variáveis\n",
    "a, b, c"
   ]
  },
  {
   "cell_type": "code",
   "execution_count": 25,
   "metadata": {},
   "outputs": [
    {
     "data": {
      "text/plain": [
       "{'Algoritmos': ['Regressão Logística', 'KNN', 'Naive Bayes', 'SVM'],\n",
       " 'Scores': [92, 87, 90, 85]}"
      ]
     },
     "execution_count": 25,
     "metadata": {},
     "output_type": "execute_result"
    }
   ],
   "source": [
    "# Imprimindo um dicionário\n",
    "modelos2"
   ]
  },
  {
   "cell_type": "code",
   "execution_count": 26,
   "metadata": {},
   "outputs": [
    {
     "data": {
      "text/plain": [
       "'KNN'"
      ]
     },
     "execution_count": 26,
     "metadata": {},
     "output_type": "execute_result"
    }
   ],
   "source": [
    "# Recuperando um item da lista pertecente a uma chave\n",
    "modelos2[\"Algoritmos\"][1]"
   ]
  },
  {
   "cell_type": "code",
   "execution_count": 62,
   "metadata": {},
   "outputs": [
    {
     "data": {
      "text/plain": [
       "[92, 87]"
      ]
     },
     "execution_count": 62,
     "metadata": {},
     "output_type": "execute_result"
    }
   ],
   "source": [
    "# Recuperando alguns itens da lista pertecente a uma chave\n",
    "modelos2[\"Scores\"][0:2]"
   ]
  },
  {
   "cell_type": "code",
   "execution_count": 61,
   "metadata": {},
   "outputs": [
    {
     "data": {
      "text/plain": [
       "[92, 87, 90, 83]"
      ]
     },
     "execution_count": 61,
     "metadata": {},
     "output_type": "execute_result"
    }
   ],
   "source": [
    "# Atribuindo os valores de uma chave a uma variável.\n",
    "# A variável se torna do tipo lista\n",
    "w = modelos2[\"Scores\"]\n",
    "w"
   ]
  },
  {
   "cell_type": "code",
   "execution_count": 29,
   "metadata": {},
   "outputs": [
    {
     "data": {
      "text/plain": [
       "list"
      ]
     },
     "execution_count": 29,
     "metadata": {},
     "output_type": "execute_result"
    }
   ],
   "source": [
    "# Verificando o tipo de dado\n",
    "type(w)"
   ]
  },
  {
   "cell_type": "code",
   "execution_count": 30,
   "metadata": {},
   "outputs": [
    {
     "data": {
      "text/plain": [
       "['Regressão Logística', 'KNN', 'Naive Bayes', 'SVM']"
      ]
     },
     "execution_count": 30,
     "metadata": {},
     "output_type": "execute_result"
    }
   ],
   "source": [
    "# Recuperando valores utilizando o método get()\n",
    "modelos2.get(\"Algoritmos\")"
   ]
  },
  {
   "cell_type": "markdown",
   "metadata": {},
   "source": [
    "### Operações com dicionários"
   ]
  },
  {
   "cell_type": "code",
   "execution_count": 31,
   "metadata": {},
   "outputs": [
    {
     "data": {
      "text/plain": [
       "{'Algoritmos': ['Regressão Logística', 'KNN', 'Naive Bayes', 'SVM'],\n",
       " 'Scores': [92, 87, 90, 85]}"
      ]
     },
     "execution_count": 31,
     "metadata": {},
     "output_type": "execute_result"
    }
   ],
   "source": [
    "# Imprimindo um dicionário\n",
    "modelos2"
   ]
  },
  {
   "cell_type": "code",
   "execution_count": 32,
   "metadata": {},
   "outputs": [
    {
     "data": {
      "text/plain": [
       "192"
      ]
     },
     "execution_count": 32,
     "metadata": {},
     "output_type": "execute_result"
    }
   ],
   "source": [
    "# Somando um valor a um determinado elemento\n",
    "resultado = modelos2[\"Scores\"][0] + 100\n",
    "resultado"
   ]
  },
  {
   "cell_type": "code",
   "execution_count": 33,
   "metadata": {},
   "outputs": [
    {
     "data": {
      "text/plain": [
       "7830"
      ]
     },
     "execution_count": 33,
     "metadata": {},
     "output_type": "execute_result"
    }
   ],
   "source": [
    "# Multiplando um elemento por outro elemento\n",
    "x = modelos2[\"Scores\"][1] * modelos2[\"Scores\"][2]\n",
    "x"
   ]
  },
  {
   "cell_type": "code",
   "execution_count": 34,
   "metadata": {},
   "outputs": [
    {
     "data": {
      "text/plain": [
       "83"
      ]
     },
     "execution_count": 34,
     "metadata": {},
     "output_type": "execute_result"
    }
   ],
   "source": [
    "# Subtraindo utilizando o operador de atribuição subtração\n",
    "modelos2[\"Scores\"][3] -= 2\n",
    "\n",
    "# Recuperando o valor de uma chave\n",
    "modelos2[\"Scores\"][3]"
   ]
  },
  {
   "cell_type": "markdown",
   "metadata": {},
   "source": [
    "### Verificando se um elemento pertence ao dicionário"
   ]
  },
  {
   "cell_type": "code",
   "execution_count": 35,
   "metadata": {},
   "outputs": [
    {
     "data": {
      "text/plain": [
       "{'Algoritmos': ['Regressão Logística', 'KNN', 'Naive Bayes', 'SVM'],\n",
       " 'Scores': [92, 87, 90, 83]}"
      ]
     },
     "execution_count": 35,
     "metadata": {},
     "output_type": "execute_result"
    }
   ],
   "source": [
    "# Imprimindo o dicionário\n",
    "modelos2"
   ]
  },
  {
   "cell_type": "code",
   "execution_count": 36,
   "metadata": {},
   "outputs": [
    {
     "data": {
      "text/plain": [
       "True"
      ]
     },
     "execution_count": 36,
     "metadata": {},
     "output_type": "execute_result"
    }
   ],
   "source": [
    "# Verificando se a chave 'Algoritmos' pertence ao dicionário\n",
    "'Algoritmos' in modelos2"
   ]
  },
  {
   "cell_type": "code",
   "execution_count": 37,
   "metadata": {},
   "outputs": [
    {
     "data": {
      "text/plain": [
       "True"
      ]
     },
     "execution_count": 37,
     "metadata": {},
     "output_type": "execute_result"
    }
   ],
   "source": [
    "# Verificando se o valor '92' está presente na lista da chave \"Scores\"\n",
    "92 in modelos2[\"Scores\"]"
   ]
  },
  {
   "cell_type": "markdown",
   "metadata": {},
   "source": [
    "### Utilizando Funções Built-in com dicionários"
   ]
  },
  {
   "cell_type": "code",
   "execution_count": 38,
   "metadata": {},
   "outputs": [
    {
     "data": {
      "text/plain": [
       "{'Algoritmos': ['Regressão Logística', 'KNN', 'Naive Bayes', 'SVM'],\n",
       " 'Scores': [92, 87, 90, 83]}"
      ]
     },
     "execution_count": 38,
     "metadata": {},
     "output_type": "execute_result"
    }
   ],
   "source": [
    "# Imprimindo o dicionário\n",
    "modelos2"
   ]
  },
  {
   "cell_type": "code",
   "execution_count": 39,
   "metadata": {},
   "outputs": [
    {
     "data": {
      "text/plain": [
       "dict"
      ]
     },
     "execution_count": 39,
     "metadata": {},
     "output_type": "execute_result"
    }
   ],
   "source": [
    "# Verificando o tipo de dado\n",
    "type(modelos2)"
   ]
  },
  {
   "cell_type": "code",
   "execution_count": 40,
   "metadata": {},
   "outputs": [
    {
     "data": {
      "text/plain": [
       "2"
      ]
     },
     "execution_count": 40,
     "metadata": {},
     "output_type": "execute_result"
    }
   ],
   "source": [
    "# Retorna o tamanho do dicionário. O tamanho de um dicionário é a quantidade de chaves\n",
    "len(modelos2)"
   ]
  },
  {
   "cell_type": "code",
   "execution_count": 41,
   "metadata": {},
   "outputs": [
    {
     "data": {
      "text/plain": [
       "92"
      ]
     },
     "execution_count": 41,
     "metadata": {},
     "output_type": "execute_result"
    }
   ],
   "source": [
    "# Retorna o valor máximo da lista de valores de uma chave\n",
    "max(modelos2[\"Scores\"])"
   ]
  },
  {
   "cell_type": "code",
   "execution_count": 42,
   "metadata": {},
   "outputs": [
    {
     "data": {
      "text/plain": [
       "83"
      ]
     },
     "execution_count": 42,
     "metadata": {},
     "output_type": "execute_result"
    }
   ],
   "source": [
    "# Retorna o valor mínimo da lista de valores de uma chave\n",
    "min(modelos2[\"Scores\"])"
   ]
  },
  {
   "cell_type": "code",
   "execution_count": 43,
   "metadata": {},
   "outputs": [
    {
     "data": {
      "text/plain": [
       "352"
      ]
     },
     "execution_count": 43,
     "metadata": {},
     "output_type": "execute_result"
    }
   ],
   "source": [
    "# Somando os valores dos elementos da lista de uma chave\n",
    "sum(modelos2[\"Scores\"])"
   ]
  },
  {
   "cell_type": "markdown",
   "metadata": {},
   "source": [
    "### Métodos de dicionários"
   ]
  },
  {
   "cell_type": "code",
   "execution_count": 44,
   "metadata": {},
   "outputs": [
    {
     "data": {
      "text/plain": [
       "{'Algoritmos': ['Regressão Logística', 'KNN', 'Naive Bayes', 'SVM'],\n",
       " 'Scores': [92, 87, 90, 83]}"
      ]
     },
     "execution_count": 44,
     "metadata": {},
     "output_type": "execute_result"
    }
   ],
   "source": [
    "# Imprimindo o dicionário\n",
    "modelos2"
   ]
  },
  {
   "cell_type": "code",
   "execution_count": 45,
   "metadata": {},
   "outputs": [
    {
     "data": {
      "text/plain": [
       "dict_keys(['Algoritmos', 'Scores'])"
      ]
     },
     "execution_count": 45,
     "metadata": {},
     "output_type": "execute_result"
    }
   ],
   "source": [
    "# Retorna as chaves do dicionário\n",
    "modelos2.keys()"
   ]
  },
  {
   "cell_type": "code",
   "execution_count": 46,
   "metadata": {},
   "outputs": [
    {
     "data": {
      "text/plain": [
       "dict_values([['Regressão Logística', 'KNN', 'Naive Bayes', 'SVM'], [92, 87, 90, 83]])"
      ]
     },
     "execution_count": 46,
     "metadata": {},
     "output_type": "execute_result"
    }
   ],
   "source": [
    "# Retornando os valores do dicionários\n",
    "modelos2.values()"
   ]
  },
  {
   "cell_type": "code",
   "execution_count": 47,
   "metadata": {},
   "outputs": [
    {
     "data": {
      "text/plain": [
       "dict_items([('Algoritmos', ['Regressão Logística', 'KNN', 'Naive Bayes', 'SVM']), ('Scores', [92, 87, 90, 83])])"
      ]
     },
     "execution_count": 47,
     "metadata": {},
     "output_type": "execute_result"
    }
   ],
   "source": [
    "# Retorna os itens/elementos do dicionário\n",
    "modelos2.items()"
   ]
  },
  {
   "cell_type": "code",
   "execution_count": 48,
   "metadata": {},
   "outputs": [
    {
     "data": {
      "text/plain": [
       "1"
      ]
     },
     "execution_count": 48,
     "metadata": {},
     "output_type": "execute_result"
    }
   ],
   "source": [
    "# Retorna a quantidade de um determinado elemento\n",
    "modelos2[\"Algoritmos\"].count(\"KNN\")"
   ]
  },
  {
   "cell_type": "code",
   "execution_count": 63,
   "metadata": {},
   "outputs": [
    {
     "data": {
      "text/plain": [
       "{'Regressão Logística': 92, 'KNN': 71, 'Naive Bayes': 90, 'SVM': 85}"
      ]
     },
     "execution_count": 63,
     "metadata": {},
     "output_type": "execute_result"
    }
   ],
   "source": [
    "# Imprimindo um dicionário\n",
    "modelos"
   ]
  },
  {
   "cell_type": "code",
   "execution_count": 64,
   "metadata": {},
   "outputs": [
    {
     "data": {
      "text/plain": [
       "{'Regressão Logística': 100, 'Adaboost': 98, 'ExtraTrees': 94}"
      ]
     },
     "execution_count": 64,
     "metadata": {},
     "output_type": "execute_result"
    }
   ],
   "source": [
    "# Criando um dicionário\n",
    "modelos3 = {'Regressão Logística': 100, \"Adaboost\": 98, \"ExtraTrees\": 94}\n",
    "modelos3"
   ]
  },
  {
   "cell_type": "code",
   "execution_count": 65,
   "metadata": {},
   "outputs": [
    {
     "data": {
      "text/plain": [
       "{'Regressão Logística': 100,\n",
       " 'KNN': 71,\n",
       " 'Naive Bayes': 90,\n",
       " 'SVM': 85,\n",
       " 'Adaboost': 98,\n",
       " 'ExtraTrees': 94}"
      ]
     },
     "execution_count": 65,
     "metadata": {},
     "output_type": "execute_result"
    }
   ],
   "source": [
    "# Juntando dois dicionários em apenas um.\n",
    "modelos.update(modelos3)\n",
    "modelos"
   ]
  },
  {
   "cell_type": "code",
   "execution_count": 52,
   "metadata": {},
   "outputs": [
    {
     "data": {
      "text/plain": [
       "{'Algoritmos': ['Regressão Logística', 'KNN', 'Naive Bayes', 'SVM'],\n",
       " 'Scores': [92, 87, 90, 83]}"
      ]
     },
     "execution_count": 52,
     "metadata": {},
     "output_type": "execute_result"
    }
   ],
   "source": [
    "# Imprimindo um dicionário\n",
    "modelos2"
   ]
  },
  {
   "cell_type": "code",
   "execution_count": 53,
   "metadata": {},
   "outputs": [
    {
     "data": {
      "text/plain": [
       "'REGRESSÃO LOGÍSTICA'"
      ]
     },
     "execution_count": 53,
     "metadata": {},
     "output_type": "execute_result"
    }
   ],
   "source": [
    "# Métodos de um determidado item do dicionário\n",
    "modelos2[\"Algoritmos\"][0].upper()"
   ]
  },
  {
   "cell_type": "markdown",
   "metadata": {
    "tags": []
   },
   "source": [
    "### Exercícios"
   ]
  },
  {
   "cell_type": "markdown",
   "metadata": {
    "tags": []
   },
   "source": [
    "1 -  Crie um programa que leia o nome, gênero e idade de quatro pessoas, guardando os dados dessas pessoas em um dicionário. No final, mostre: <br>\n",
    "a) a maior idade; <br>\n",
    "b) a média de idade; <br>\n",
    "c) quantas pessoas são do gênero masculino e quantas são do gênero feminino. <br>\n",
    "d) qual o percentual de pessoas do gênero feminino."
   ]
  },
  {
   "cell_type": "code",
   "execution_count": 1,
   "metadata": {},
   "outputs": [],
   "source": [
    "# Criando as variáveis do tipo lista\n",
    "listaNomes = []; listaGenero = []; listaIdade = []"
   ]
  },
  {
   "cell_type": "code",
   "execution_count": 2,
   "metadata": {},
   "outputs": [
    {
     "name": "stdin",
     "output_type": "stream",
     "text": [
      "Nome da primeira pessoa: João Paulo\n",
      "Gênero 'M'ou 'F': M\n",
      "Idade: 18\n"
     ]
    }
   ],
   "source": [
    "# Lendo do teclado os dados da primeira pessoa\n",
    "listaNomes.append(input(\"Nome da primeira pessoa:\"))\n",
    "listaGenero.append(input(\"Gênero 'M'ou 'F':\"))\n",
    "listaIdade.append(int(input(\"Idade:\")))"
   ]
  },
  {
   "cell_type": "code",
   "execution_count": 3,
   "metadata": {},
   "outputs": [
    {
     "name": "stdin",
     "output_type": "stream",
     "text": [
      "Nome da segunda pessoa: Maria Clara\n",
      "Gênero 'M' ou 'F': F\n",
      "Idade: 22\n"
     ]
    }
   ],
   "source": [
    "# Lendo do teclado os dados da segunda pessoa\n",
    "listaNomes.append(input(\"Nome da segunda pessoa:\"))\n",
    "listaGenero.append(input(\"Gênero 'M' ou 'F':\"))\n",
    "listaIdade.append(int(input(\"Idade:\")))"
   ]
  },
  {
   "cell_type": "code",
   "execution_count": 4,
   "metadata": {},
   "outputs": [
    {
     "name": "stdin",
     "output_type": "stream",
     "text": [
      "Nome da terceira pessoa: Pedro Paulo\n",
      "Gênero 'M' ou 'F': M\n",
      "Idade: 26\n"
     ]
    }
   ],
   "source": [
    "# Lendo do teclado os dados da terceira pessoa\n",
    "listaNomes.append(input(\"Nome da terceira pessoa:\"))\n",
    "listaGenero.append(input(\"Gênero 'M' ou 'F':\"))\n",
    "listaIdade.append(int(input(\"Idade:\")))"
   ]
  },
  {
   "cell_type": "code",
   "execution_count": 5,
   "metadata": {},
   "outputs": [
    {
     "name": "stdin",
     "output_type": "stream",
     "text": [
      "Nome da quarta pessoa: Ana Rita\n",
      "Gênero 'M' ou 'F': F\n",
      "Idade: 33\n"
     ]
    }
   ],
   "source": [
    "# Lendo do teclado os dados da quarta pessoa\n",
    "listaNomes.append(input(\"Nome da quarta pessoa:\"))\n",
    "listaGenero.append(input(\"Gênero 'M' ou 'F':\"))\n",
    "listaIdade.append(int(input(\"Idade:\")))"
   ]
  },
  {
   "cell_type": "code",
   "execution_count": 6,
   "metadata": {},
   "outputs": [
    {
     "name": "stdout",
     "output_type": "stream",
     "text": [
      "Lista com o nome das pessoas: ['João Paulo', 'Maria Clara', 'Pedro Paulo', 'Ana Rita']\n",
      "Lista com o gênero das pessoas: ['M', 'F', 'M', 'F']\n",
      "Lista com a idade das pessoas: [18, 22, 26, 33]\n"
     ]
    }
   ],
   "source": [
    "# Imprimindo os dados\n",
    "print(\"Lista com o nome das pessoas:\", listaNomes)\n",
    "print(\"Lista com o gênero das pessoas:\", listaGenero)\n",
    "print(\"Lista com a idade das pessoas:\", listaIdade)"
   ]
  },
  {
   "cell_type": "code",
   "execution_count": 7,
   "metadata": {},
   "outputs": [
    {
     "data": {
      "text/plain": [
       "{'Nome': ['João Paulo', 'Maria Clara', 'Pedro Paulo', 'Ana Rita'],\n",
       " 'Genero': ['M', 'F', 'M', 'F'],\n",
       " 'Idade': [18, 22, 26, 33]}"
      ]
     },
     "execution_count": 7,
     "metadata": {},
     "output_type": "execute_result"
    }
   ],
   "source": [
    "# Criando o dicionário\n",
    "pessoas = {\"Nome\": listaNomes,\n",
    "           \"Genero\": listaGenero,\n",
    "           \"Idade\": listaIdade}\n",
    "pessoas"
   ]
  },
  {
   "cell_type": "code",
   "execution_count": 8,
   "metadata": {},
   "outputs": [
    {
     "name": "stdout",
     "output_type": "stream",
     "text": [
      "A maior idade é 33 anos\n"
     ]
    }
   ],
   "source": [
    "# Retornando a maior idade\n",
    "maiorIdade = max(pessoas[\"Idade\"])\n",
    "print(\"A maior idade é %d anos\" %maiorIdade) "
   ]
  },
  {
   "cell_type": "code",
   "execution_count": 9,
   "metadata": {},
   "outputs": [
    {
     "name": "stdout",
     "output_type": "stream",
     "text": [
      "A média de idade é de 24 anos\n"
     ]
    }
   ],
   "source": [
    "# Calculando a média de idade\n",
    "print(\"A média de idade é de %d anos\" %(sum(pessoas[\"Idade\"])/len(pessoas[\"Idade\"])))"
   ]
  },
  {
   "cell_type": "code",
   "execution_count": 10,
   "metadata": {},
   "outputs": [
    {
     "name": "stdout",
     "output_type": "stream",
     "text": [
      "2 pessoas são do gênero masculino e 2 pessoas são do gênero feminino\n"
     ]
    }
   ],
   "source": [
    "# Calculando quantas pessoas são do gênero masculino e quantas são do gênero feminino\n",
    "print(\"%d pessoas são do gênero masculino e %d pessoas são do gênero feminino\" %(pessoas[\"Genero\"].count('M'), pessoas[\"Genero\"].count('F')))"
   ]
  },
  {
   "cell_type": "code",
   "execution_count": 11,
   "metadata": {},
   "outputs": [
    {
     "name": "stdout",
     "output_type": "stream",
     "text": [
      "As pessoas do gênero feminino equivalem a 50%\n"
     ]
    }
   ],
   "source": [
    "# Calculando o percentual de pessoas do gênero feminino.\n",
    "print(\"As pessoas do gênero feminino equivalem a %d\" %((pessoas[\"Genero\"].count('F')/len(pessoas[\"Genero\"]))*100) + \"%\")"
   ]
  },
  {
   "cell_type": "code",
   "execution_count": null,
   "metadata": {},
   "outputs": [],
   "source": []
  }
 ],
 "metadata": {
  "anaconda-cloud": {},
  "kernelspec": {
   "display_name": "Python 3 (ipykernel)",
   "language": "python",
   "name": "python3"
  },
  "language_info": {
   "codemirror_mode": {
    "name": "ipython",
    "version": 3
   },
   "file_extension": ".py",
   "mimetype": "text/x-python",
   "name": "python",
   "nbconvert_exporter": "python",
   "pygments_lexer": "ipython3",
   "version": "3.9.13"
  }
 },
 "nbformat": 4,
 "nbformat_minor": 4
}
