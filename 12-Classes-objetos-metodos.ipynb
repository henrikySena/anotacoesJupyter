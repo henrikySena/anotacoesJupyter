{
 "cells": [
  {
   "cell_type": "markdown",
   "metadata": {},
   "source": [
    "# <font color='cyan'>Python Fundamentos - Classes, Objetos e Métodos</font>"
   ]
  },
  {
   "cell_type": "code",
   "execution_count": null,
   "metadata": {},
   "outputs": [],
   "source": [
    "# Versão da Linguagem Python\n",
    "from platform import python_version\n",
    "print('Versão da Linguagem Python Usada Neste Jupyter Notebook:', python_version())"
   ]
  },
  {
   "cell_type": "markdown",
   "metadata": {},
   "source": [
    "## Programação Orientada a Objetos\n",
    "<details>\n",
    "    <summary>\n",
    "        <a class=\"btnfire small stroke\"><em class=\"fas fa-chevron-circle-down\"></em>&nbsp;&nbsp;Clique para mais detalhes</a>\n",
    "    </summary>\n",
    "    <br>\n",
    "\n",
    "A Programação Orientada a Objetos (POO) é um padrão de desenvolvimento de softwares largamente utilizado em muitas linguagens de programação atuais, como Python, Java, C#, PHP, C++, entre outras. Nesse padrão de programação, são criadas coleções de **Classes** e **Objetos** com **estrutura e comportamentos próprios**.\n",
    "    \n",
    "</details>\n"
   ]
  },
  {
   "cell_type": "markdown",
   "metadata": {
    "jp-MarkdownHeadingCollapsed": true,
    "tags": []
   },
   "source": [
    "## Classe\n",
    "<details>\n",
    "    <summary>\n",
    "        <a class=\"btnfire small stroke\"><em class=\"fas fa-chevron-circle-down\"></em>&nbsp;&nbsp;Clique para mais detalhes</a>\n",
    "    </summary>\n",
    "    <br>\n",
    "\n",
    "Uma Classe é uma forma de definir um **tipo de dado** em uma Linguagem Orientada a Objetos. Uma classe é formada por dados e comportamentos.\n",
    "Para definir os dados são utilizados os **atributos**, e para definir o comportamento são utilizados **métodos**.\n",
    "    \n",
    "</details>"
   ]
  },
  {
   "cell_type": "markdown",
   "metadata": {},
   "source": [
    "## Objetos\n",
    "<details>\n",
    "    <summary>\n",
    "        <a class=\"btnfire small stroke\"><em class=\"fas fa-chevron-circle-down\"></em>&nbsp;&nbsp;Clique para mais detalhes</a>\n",
    "    </summary>\n",
    "    <br>\n",
    "\n",
    "Um Objeto é uma **instância de uma Classe**. Ou seja, depois que uma classe é definida podem ser criados vários objetos de uma classe.\n",
    "    \n",
    "</details>"
   ]
  },
  {
   "cell_type": "markdown",
   "metadata": {},
   "source": [
    "## Métodos\n",
    "<details>\n",
    "    <summary>\n",
    "        <a class=\"btnfire small stroke\"><em class=\"fas fa-chevron-circle-down\"></em>&nbsp;&nbsp;Clique para mais detalhes</a>\n",
    "    </summary>\n",
    "    <br>\n",
    "\n",
    "Um método é o equivalente a um procedimento ou função, que **manipula apenas os atributos que foram definidos para a classe**. <br>\n",
    "Um método pode ter ou não parâmetros. <br>\n",
    "O termo **parâmetro** muitas vezes é utilizado como sinônimo de **argumento**, mas geralmente utiliza-se \"parâmetros\" quando se faz referência às variáveis situadas entre os parênteses de um método ou função e \"argumentos\" são os valores atribuídos a esses parâmetros.    \n",
    "    \n",
    "</details>"
   ]
  },
  {
   "cell_type": "markdown",
   "metadata": {},
   "source": [
    "### Exemplos"
   ]
  },
  {
   "cell_type": "code",
   "execution_count": 2,
   "metadata": {},
   "outputs": [
    {
     "data": {
      "text/plain": [
       "[1, 2, 3, 4, 5]"
      ]
     },
     "execution_count": 2,
     "metadata": {},
     "output_type": "execute_result"
    }
   ],
   "source": [
    "# List é uma Classe da Linguagem Python\n",
    "# Criando um Objeto do tipo List\n",
    "umaLista = [1, 2, 3, 4, 5]\n",
    "umaLista"
   ]
  },
  {
   "cell_type": "code",
   "execution_count": 3,
   "metadata": {},
   "outputs": [
    {
     "data": {
      "text/plain": [
       "[1, 2, 3, 4, 5, 33]"
      ]
     },
     "execution_count": 3,
     "metadata": {},
     "output_type": "execute_result"
    }
   ],
   "source": [
    "# Utilizando um método do objeto lista\n",
    "umaLista.append(33)\n",
    "umaLista"
   ]
  },
  {
   "cell_type": "code",
   "execution_count": 4,
   "metadata": {},
   "outputs": [
    {
     "data": {
      "text/plain": [
       "[]"
      ]
     },
     "execution_count": 4,
     "metadata": {},
     "output_type": "execute_result"
    }
   ],
   "source": [
    "# Método clear do objeto lista\n",
    "umaLista.clear()\n",
    "umaLista"
   ]
  },
  {
   "cell_type": "code",
   "execution_count": 5,
   "metadata": {},
   "outputs": [
    {
     "name": "stdout",
     "output_type": "stream",
     "text": [
      "Help on built-in function clear:\n",
      "\n",
      "clear() method of builtins.list instance\n",
      "    Remove all items from list.\n",
      "\n"
     ]
    }
   ],
   "source": [
    "# A função help() exibe um manual sobre como utilizar cada método de um objeto\n",
    "help(umaLista.clear)"
   ]
  },
  {
   "cell_type": "markdown",
   "metadata": {
    "tags": []
   },
   "source": [
    "### Criando sua própria Classe"
   ]
  },
  {
   "cell_type": "code",
   "execution_count": 6,
   "metadata": {},
   "outputs": [],
   "source": [
    "# Criando uma classe\n",
    "class Pessoa:\n",
    "    # Construtor da Classe. Método executado quando um objeto é criado.\n",
    "    def __init__(self, umNome, umaIdade, umaProfissao):\n",
    "        # Atributos da classe\n",
    "        self.nome = umNome\n",
    "        self.idade = umaIdade\n",
    "        self.profissao = umaProfissao\n",
    "        self.endereco = \"\"\n",
    "    \n",
    "    # Método que atribui um valor para o atributo nome\n",
    "    def alteraNome(self, novoNome):\n",
    "        self.nome = novoNome\n",
    "    \n",
    "    # Método que atribui um valor para o atributo idade\n",
    "    def alteraIdade(self, novaIdade):\n",
    "        self.idade = novaIdade\n",
    "    \n",
    "    # Método que atribui um valor para o atributo profissão\n",
    "    def alteraProfissao(self, novaProfissao):\n",
    "        self.profissao = novaProfissao  \n",
    "    \n",
    "    # Método que atribui um valor para o atributo endereço\n",
    "    def alteraEndereco(self, novoEndereco):\n",
    "        self.endereco = novoEndereco    \n",
    "    \n",
    "    # Método que imprime o valor dos atributos do objeto\n",
    "    def imprimirAtributos(self):\n",
    "        print(\"Esse objeto tem os seguintes dados:\", \"\\nNome:\", self.nome, \"\\nIdade:\", self.idade, \"\\nProfissão:\", self.profissao, \"\\nEndereço:\", self.endereco)"
   ]
  },
  {
   "cell_type": "code",
   "execution_count": 7,
   "metadata": {},
   "outputs": [],
   "source": [
    "# Criando um objeto da classe Pessoa\n",
    "fulano = Pessoa(\"João\", 45, \"Cientista de Dados\")"
   ]
  },
  {
   "cell_type": "code",
   "execution_count": 8,
   "metadata": {},
   "outputs": [
    {
     "data": {
      "text/plain": [
       "__main__.Pessoa"
      ]
     },
     "execution_count": 8,
     "metadata": {},
     "output_type": "execute_result"
    }
   ],
   "source": [
    "# Verificando o tipo de dado do objeto criado\n",
    "type(fulano)"
   ]
  },
  {
   "cell_type": "code",
   "execution_count": 9,
   "metadata": {},
   "outputs": [
    {
     "data": {
      "text/plain": [
       "'João'"
      ]
     },
     "execution_count": 9,
     "metadata": {},
     "output_type": "execute_result"
    }
   ],
   "source": [
    "# Retornando o atributo nome do objeto criado\n",
    "fulano.nome"
   ]
  },
  {
   "cell_type": "code",
   "execution_count": 10,
   "metadata": {},
   "outputs": [
    {
     "data": {
      "text/plain": [
       "45"
      ]
     },
     "execution_count": 10,
     "metadata": {},
     "output_type": "execute_result"
    }
   ],
   "source": [
    "# Retorna o atributo idade do objeto criado\n",
    "fulano.idade"
   ]
  },
  {
   "cell_type": "code",
   "execution_count": 11,
   "metadata": {},
   "outputs": [
    {
     "data": {
      "text/plain": [
       "'Cientista de Dados'"
      ]
     },
     "execution_count": 11,
     "metadata": {},
     "output_type": "execute_result"
    }
   ],
   "source": [
    "# Retorna o atributo profissão do objeto criado\n",
    "fulano.profissao"
   ]
  },
  {
   "cell_type": "code",
   "execution_count": 12,
   "metadata": {},
   "outputs": [
    {
     "data": {
      "text/plain": [
       "''"
      ]
     },
     "execution_count": 12,
     "metadata": {},
     "output_type": "execute_result"
    }
   ],
   "source": [
    "# Retorna o atributo endereço do objeto criado\n",
    "fulano.endereco"
   ]
  },
  {
   "cell_type": "code",
   "execution_count": 16,
   "metadata": {},
   "outputs": [
    {
     "name": "stdout",
     "output_type": "stream",
     "text": [
      "Esse objeto tem os seguintes dados: \n",
      "Nome: Pedro \n",
      "Idade: 45 \n",
      "Profissão: Cientista de Dados \n",
      "Endereço: \n"
     ]
    }
   ],
   "source": [
    "# Utilizando um método de uma classe\n",
    "fulano.imprimirAtributos()"
   ]
  },
  {
   "cell_type": "code",
   "execution_count": 14,
   "metadata": {},
   "outputs": [],
   "source": [
    "# Alterando o atributo nome do objeto criado\n",
    "fulano.alteraNome(\"Pedro\")"
   ]
  },
  {
   "cell_type": "code",
   "execution_count": 18,
   "metadata": {},
   "outputs": [
    {
     "data": {
      "text/plain": [
       "'Pedro'"
      ]
     },
     "execution_count": 18,
     "metadata": {},
     "output_type": "execute_result"
    }
   ],
   "source": [
    "# Retorna o atributo nome do objeto criado\n",
    "fulano.nome"
   ]
  },
  {
   "cell_type": "code",
   "execution_count": 19,
   "metadata": {},
   "outputs": [],
   "source": [
    "# Alterando o atributo endereço do objeto criado\n",
    "fulano.alteraEndereco(\"Rua 1 casa 02\")"
   ]
  },
  {
   "cell_type": "code",
   "execution_count": 21,
   "metadata": {},
   "outputs": [
    {
     "name": "stdout",
     "output_type": "stream",
     "text": [
      "Esse objeto tem os seguintes dados: \n",
      "Nome: Pedro \n",
      "Idade: 45 \n",
      "Profissão: Cientista de Dados \n",
      "Endereço: Rua 1 casa 02\n"
     ]
    }
   ],
   "source": [
    "fulano.imprimirAtributos()"
   ]
  },
  {
   "cell_type": "code",
   "execution_count": 22,
   "metadata": {},
   "outputs": [],
   "source": [
    "# Criando outro objeto\n",
    "pessoa01 = Pessoa(\"Maria\", 25, \"Engenheiro de Dados\")"
   ]
  },
  {
   "cell_type": "code",
   "execution_count": 23,
   "metadata": {},
   "outputs": [
    {
     "data": {
      "text/plain": [
       "__main__.Pessoa"
      ]
     },
     "execution_count": 23,
     "metadata": {},
     "output_type": "execute_result"
    }
   ],
   "source": [
    "# Verificando o tipo de dado\n",
    "type(pessoa01)"
   ]
  },
  {
   "cell_type": "code",
   "execution_count": 24,
   "metadata": {},
   "outputs": [
    {
     "name": "stdout",
     "output_type": "stream",
     "text": [
      "Esse objeto tem os seguintes dados: \n",
      "Nome: Maria \n",
      "Idade: 25 \n",
      "Profissão: Engenheiro de Dados \n",
      "Endereço: \n"
     ]
    }
   ],
   "source": [
    "# Retorna o atributo nome do objeto criado\n",
    "pessoa01.imprimirAtributos()"
   ]
  },
  {
   "cell_type": "markdown",
   "metadata": {
    "tags": []
   },
   "source": [
    "### Exercícios"
   ]
  },
  {
   "cell_type": "markdown",
   "metadata": {},
   "source": [
    "1 - Crie uma classe para implementar uma conta corrente. A classe deve possuir os seguintes atributos: número da conta, nome do correntista e saldo. Os métodos são os seguintes: alterarNome, depósito e saque. No construtor, o saldo deve iniciar com valor zero e os demais atributos devem ser informados como parâmetros. <br> O método depósito aumenta o saldo. E o método saque só poderá ser realizado se o valor solicitado for menor ou igual ao saldo atual."
   ]
  },
  {
   "cell_type": "code",
   "execution_count": 35,
   "metadata": {},
   "outputs": [],
   "source": [
    "class ContaCorrente:\n",
    "    \n",
    "    # construtor\n",
    "    def __init__(self, numeroConta, nomeCorrentista, saldoConta):\n",
    "        self.numero = numeroConta\n",
    "        self.nome = nomeCorrentista\n",
    "        self.saldo = 0\n",
    "    \n",
    "    # métodos\n",
    "    def alterarNome(self, novoNome):\n",
    "        self.nome = novoNome\n",
    "\n",
    "    def deposito(self, novoDeposito):\n",
    "        self.saldo += novoDeposito\n",
    "            \n",
    "    def saque(self, novoSaque):\n",
    "        if self.saldo >= novoSaque:\n",
    "            self.saldo -= novoSaque\n",
    "        else:\n",
    "            print('Saldo indisponível')\n",
    "            \n",
    "    def imprimirAtributos(self):\n",
    "        print('Os dados da conta são:', '\\nNúmero da conta:', self.numero, '\\nNome: ', self.nome, '\\nSaldo:', self.saldo)\n",
    "\n",
    "\n",
    "\n",
    "\n",
    "\n",
    "\n",
    "\n",
    "\n",
    "\n",
    "\n",
    "\n",
    "\n",
    "\n"
   ]
  },
  {
   "cell_type": "code",
   "execution_count": 36,
   "metadata": {},
   "outputs": [],
   "source": [
    "conta01 = ContaCorrente(1234, 'Alberto', 0)"
   ]
  },
  {
   "cell_type": "code",
   "execution_count": 37,
   "metadata": {},
   "outputs": [
    {
     "name": "stdout",
     "output_type": "stream",
     "text": [
      "Os dados da conta são: \n",
      "Número da conta: 1234 \n",
      "Nome:  Alberto \n",
      "Saldo: 0\n"
     ]
    }
   ],
   "source": [
    "conta01.imprimirAtributos()"
   ]
  },
  {
   "cell_type": "code",
   "execution_count": 39,
   "metadata": {},
   "outputs": [],
   "source": [
    "conta01.deposito(600)"
   ]
  },
  {
   "cell_type": "code",
   "execution_count": 40,
   "metadata": {},
   "outputs": [
    {
     "name": "stdout",
     "output_type": "stream",
     "text": [
      "Os dados da conta são: \n",
      "Número da conta: 1234 \n",
      "Nome:  Alberto \n",
      "Saldo: 600\n"
     ]
    }
   ],
   "source": [
    "conta01.imprimirAtributos()"
   ]
  },
  {
   "cell_type": "code",
   "execution_count": 41,
   "metadata": {},
   "outputs": [],
   "source": [
    "conta01.saque(200)"
   ]
  },
  {
   "cell_type": "code",
   "execution_count": 42,
   "metadata": {},
   "outputs": [
    {
     "data": {
      "text/plain": [
       "400"
      ]
     },
     "execution_count": 42,
     "metadata": {},
     "output_type": "execute_result"
    }
   ],
   "source": [
    "conta01.saldo"
   ]
  },
  {
   "cell_type": "code",
   "execution_count": 43,
   "metadata": {},
   "outputs": [
    {
     "name": "stdout",
     "output_type": "stream",
     "text": [
      "Os dados da conta são: \n",
      "Número da conta: 1234 \n",
      "Nome:  Alberto \n",
      "Saldo: 400\n"
     ]
    }
   ],
   "source": [
    "conta01.imprimirAtributos()"
   ]
  },
  {
   "cell_type": "code",
   "execution_count": 44,
   "metadata": {},
   "outputs": [
    {
     "name": "stdout",
     "output_type": "stream",
     "text": [
      "Saldo indisponível\n"
     ]
    }
   ],
   "source": [
    "conta01.saque(600)"
   ]
  },
  {
   "cell_type": "code",
   "execution_count": 45,
   "metadata": {},
   "outputs": [],
   "source": [
    "conta01.saque(400)"
   ]
  },
  {
   "cell_type": "code",
   "execution_count": 46,
   "metadata": {},
   "outputs": [
    {
     "data": {
      "text/plain": [
       "0"
      ]
     },
     "execution_count": 46,
     "metadata": {},
     "output_type": "execute_result"
    }
   ],
   "source": [
    "conta01.saldo"
   ]
  },
  {
   "cell_type": "code",
   "execution_count": 48,
   "metadata": {},
   "outputs": [],
   "source": [
    "conta01.alterarNome('Pietro')"
   ]
  },
  {
   "cell_type": "code",
   "execution_count": 49,
   "metadata": {},
   "outputs": [
    {
     "name": "stdout",
     "output_type": "stream",
     "text": [
      "Os dados da conta são: \n",
      "Número da conta: 1234 \n",
      "Nome:  Pietro \n",
      "Saldo: 0\n"
     ]
    }
   ],
   "source": [
    "conta01.imprimirAtributos()"
   ]
  },
  {
   "cell_type": "code",
   "execution_count": 1,
   "metadata": {},
   "outputs": [],
   "source": [
    "# Criando a classe\n",
    "class ContaCorrente:\n",
    "    # Construtor\n",
    "    def __init__(self, umNumeroConta, umNomeCorrentista):\n",
    "        self.numeroConta = umNumeroConta\n",
    "        self.nomeCorrentista = umNomeCorrentista\n",
    "        self.saldo = 0\n",
    "        \n",
    "    # Método que altera o atributo nome do correntista\n",
    "    def alterarNome(self, novoNome):\n",
    "        self.nomeCorrentista = novoNome\n",
    "    \n",
    "    # Método depósito\n",
    "    def deposito(self, valorDeposito):\n",
    "        self.saldo += valorDeposito\n",
    "        \n",
    "    # Método saque\n",
    "    def saque(self, valorSaque):\n",
    "        if (valorSaque <= self.saldo):\n",
    "            self.saldo -= valorSaque"
   ]
  },
  {
   "cell_type": "code",
   "execution_count": 2,
   "metadata": {},
   "outputs": [],
   "source": [
    "# Criando um objeto\n",
    "conta = ContaCorrente(123, \"Jorge Fabrício\")"
   ]
  },
  {
   "cell_type": "code",
   "execution_count": 3,
   "metadata": {},
   "outputs": [
    {
     "data": {
      "text/plain": [
       "123"
      ]
     },
     "execution_count": 3,
     "metadata": {},
     "output_type": "execute_result"
    }
   ],
   "source": [
    "# Retornando o número da conta corrente\n",
    "conta.numeroConta"
   ]
  },
  {
   "cell_type": "code",
   "execution_count": 4,
   "metadata": {},
   "outputs": [
    {
     "data": {
      "text/plain": [
       "'Jorge Fabrício'"
      ]
     },
     "execution_count": 4,
     "metadata": {},
     "output_type": "execute_result"
    }
   ],
   "source": [
    "# Retornando o nome do correntista\n",
    "conta.nomeCorrentista"
   ]
  },
  {
   "cell_type": "code",
   "execution_count": 5,
   "metadata": {},
   "outputs": [
    {
     "data": {
      "text/plain": [
       "0"
      ]
     },
     "execution_count": 5,
     "metadata": {},
     "output_type": "execute_result"
    }
   ],
   "source": [
    "# Retornando o saldo da conta\n",
    "conta.saldo"
   ]
  },
  {
   "cell_type": "code",
   "execution_count": 6,
   "metadata": {},
   "outputs": [
    {
     "data": {
      "text/plain": [
       "'Daniel Costa'"
      ]
     },
     "execution_count": 6,
     "metadata": {},
     "output_type": "execute_result"
    }
   ],
   "source": [
    "# Alterando o nome do correntista\n",
    "conta.alterarNome(\"Daniel Costa\")\n",
    "conta.nomeCorrentista"
   ]
  },
  {
   "cell_type": "code",
   "execution_count": 7,
   "metadata": {},
   "outputs": [
    {
     "data": {
      "text/plain": [
       "90"
      ]
     },
     "execution_count": 7,
     "metadata": {},
     "output_type": "execute_result"
    }
   ],
   "source": [
    "# Chamando o método depósito\n",
    "conta.deposito(90)\n",
    "conta.saldo"
   ]
  },
  {
   "cell_type": "code",
   "execution_count": 8,
   "metadata": {},
   "outputs": [
    {
     "data": {
      "text/plain": [
       "60"
      ]
     },
     "execution_count": 8,
     "metadata": {},
     "output_type": "execute_result"
    }
   ],
   "source": [
    "# Chamando o método saque\n",
    "conta.saque(30)\n",
    "conta.saldo"
   ]
  },
  {
   "cell_type": "markdown",
   "metadata": {},
   "source": [
    "2 - Crie uma classe que modele um retângulo: <br>\n",
    "Atributos: base, altura, área e perímetro; <br>\n",
    "Métodos: Mudar valor da base, mudar valor da altura, calcula área e calcula perímetro; <br>\n",
    "O construtor deve ter dois parâmetros: um para base e outro para altura; os atributos área e perímetro devem receber o valor zero. <br> \n",
    "Crie um programa que utilize esta classe. Ele deve pedir ao usuário que informe as medidas de uma área. Em seguida, o programa deve criar um objeto com as medidas e calcular a área e o perímetro."
   ]
  },
  {
   "cell_type": "code",
   "execution_count": 93,
   "metadata": {},
   "outputs": [],
   "source": [
    "# classe\n",
    "class Retangulo:\n",
    "    \n",
    "    # construtor\n",
    "    def __init__(self, umaBase, umaAltura):\n",
    "        self.base = umaBase\n",
    "        self.altura = umaAltura\n",
    "        self.area = 0\n",
    "        self.perimetro = 0\n",
    "        \n",
    "        \n",
    "    # métodos\n",
    "    def alteraBase(self, novaBase):\n",
    "        self.base = novaBase\n",
    "        \n",
    "    def alteraAltura(self, novaAltura):\n",
    "        self.altura = novaAltura\n",
    "        \n",
    "    def calculaArea(self):\n",
    "        self.area = self.base * self.altura\n",
    "        \n",
    "    def calculaPerimetro(self):\n",
    "        self.perimetro = (self.base * 2) + (self.altura * 2) "
   ]
  },
  {
   "cell_type": "code",
   "execution_count": 94,
   "metadata": {},
   "outputs": [],
   "source": [
    "r = Retangulo(3, 10)"
   ]
  },
  {
   "cell_type": "code",
   "execution_count": 95,
   "metadata": {},
   "outputs": [
    {
     "data": {
      "text/plain": [
       "10"
      ]
     },
     "execution_count": 95,
     "metadata": {},
     "output_type": "execute_result"
    }
   ],
   "source": [
    "r.altura"
   ]
  },
  {
   "cell_type": "code",
   "execution_count": 96,
   "metadata": {},
   "outputs": [
    {
     "data": {
      "text/plain": [
       "3"
      ]
     },
     "execution_count": 96,
     "metadata": {},
     "output_type": "execute_result"
    }
   ],
   "source": [
    "r.base"
   ]
  },
  {
   "cell_type": "code",
   "execution_count": 97,
   "metadata": {},
   "outputs": [],
   "source": [
    "r.calculaArea()"
   ]
  },
  {
   "cell_type": "code",
   "execution_count": 98,
   "metadata": {},
   "outputs": [
    {
     "data": {
      "text/plain": [
       "30"
      ]
     },
     "execution_count": 98,
     "metadata": {},
     "output_type": "execute_result"
    }
   ],
   "source": [
    "r.area"
   ]
  },
  {
   "cell_type": "code",
   "execution_count": 99,
   "metadata": {},
   "outputs": [],
   "source": [
    "r.calculaPerimetro()"
   ]
  },
  {
   "cell_type": "code",
   "execution_count": 100,
   "metadata": {},
   "outputs": [
    {
     "data": {
      "text/plain": [
       "26"
      ]
     },
     "execution_count": 100,
     "metadata": {},
     "output_type": "execute_result"
    }
   ],
   "source": [
    "r.perimetro"
   ]
  },
  {
   "cell_type": "code",
   "execution_count": 9,
   "metadata": {},
   "outputs": [],
   "source": [
    "class Retangulo:\n",
    "    # Construtor\n",
    "    def __init__(self, umaBase, umaAltura):\n",
    "        self.base = umaBase\n",
    "        self.altura = umaAltura\n",
    "        self.area = 0\n",
    "        self.perimetro = 0\n",
    "    \n",
    "    # Método que altera o valor do atributo base\n",
    "    def alteraBase(self, novaBase):\n",
    "        self.base = novaBase\n",
    "    \n",
    "    # Método que altera o valor do atributo altura\n",
    "    def alteraAltura(self, novaAltura):\n",
    "        self.altura = novaAltura    \n",
    "    \n",
    "    # Método que calcula a área\n",
    "    def calculaArea(self):\n",
    "        self.area = self.base * self.altura\n",
    "    \n",
    "    # Método que calcula o perímetro\n",
    "    def calculaPerimetro(self):\n",
    "        self.perimetro = (self.base * 2) + (self.altura * 2)"
   ]
  },
  {
   "cell_type": "code",
   "execution_count": 10,
   "metadata": {},
   "outputs": [
    {
     "name": "stdin",
     "output_type": "stream",
     "text": [
      "Informe o valor da base: 5\n"
     ]
    }
   ],
   "source": [
    "# Recebendo o valor da base a partir do teclado do usuário\n",
    "b = int(input(\"Informe o valor da base:\"))"
   ]
  },
  {
   "cell_type": "code",
   "execution_count": 11,
   "metadata": {},
   "outputs": [
    {
     "name": "stdin",
     "output_type": "stream",
     "text": [
      "Informe o valor da altura: 2\n"
     ]
    }
   ],
   "source": [
    "# Recebendo o valor da altura a partir do teclado do usuário\n",
    "a = int(input(\"Informe o valor da altura:\"))"
   ]
  },
  {
   "cell_type": "code",
   "execution_count": 12,
   "metadata": {},
   "outputs": [],
   "source": [
    "# Criando objeto do tipo retângulo\n",
    "local = Retangulo(b, a)"
   ]
  },
  {
   "cell_type": "code",
   "execution_count": 13,
   "metadata": {},
   "outputs": [
    {
     "name": "stdout",
     "output_type": "stream",
     "text": [
      "A área do objeto é 10\n"
     ]
    }
   ],
   "source": [
    "# Calculando a área do retângulo\n",
    "local.calculaArea()\n",
    "print(\"A área do objeto é\", local.area)"
   ]
  },
  {
   "cell_type": "code",
   "execution_count": 14,
   "metadata": {},
   "outputs": [
    {
     "name": "stdout",
     "output_type": "stream",
     "text": [
      "O perímetro do objeto é 14\n"
     ]
    }
   ],
   "source": [
    "# Calculando o perímetro do retângulo\n",
    "local.calculaPerimetro()\n",
    "print(\"O perímetro do objeto é\", local.perimetro)"
   ]
  },
  {
   "cell_type": "code",
   "execution_count": null,
   "metadata": {},
   "outputs": [],
   "source": []
  }
 ],
 "metadata": {
  "kernelspec": {
   "display_name": "Python 3 (ipykernel)",
   "language": "python",
   "name": "python3"
  },
  "language_info": {
   "codemirror_mode": {
    "name": "ipython",
    "version": 3
   },
   "file_extension": ".py",
   "mimetype": "text/x-python",
   "name": "python",
   "nbconvert_exporter": "python",
   "pygments_lexer": "ipython3",
   "version": "3.9.13"
  }
 },
 "nbformat": 4,
 "nbformat_minor": 4
}
