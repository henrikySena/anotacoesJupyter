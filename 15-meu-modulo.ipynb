{
 "cells": [
  {
   "cell_type": "code",
   "execution_count": null,
   "metadata": {},
   "outputs": [],
   "source": [
    "# Função que soma dois números\n",
    "def soma(a, b):\n",
    "    print(\"A soma dos números é igual a\", a + b)"
   ]
  },
  {
   "cell_type": "code",
   "execution_count": null,
   "metadata": {},
   "outputs": [],
   "source": [
    "# Função que subtrai um número por outro\n",
    "def subtrair(num1, num2):\n",
    "    return num1 - num2, num1, num2"
   ]
  },
  {
   "cell_type": "code",
   "execution_count": null,
   "metadata": {},
   "outputs": [],
   "source": [
    "# Função que multiplica dois números\n",
    "def multiplica(numero1, numero2):\n",
    "    return numero1 * numero2"
   ]
  },
  {
   "cell_type": "code",
   "execution_count": null,
   "metadata": {},
   "outputs": [],
   "source": [
    "# Função que divide um número por outro\n",
    "def divisao(parametro1, parametro2):\n",
    "    if (parametro2 != 0):\n",
    "        variavelLocal = parametro1 / parametro2\n",
    "        return variavelLocal\n",
    "    else:\n",
    "        print(\"Não é possível realizar divisão por zero\")"
   ]
  },
  {
   "cell_type": "code",
   "execution_count": null,
   "metadata": {},
   "outputs": [],
   "source": [
    "# Classe Pessoa\n",
    "class Pessoa:\n",
    "    # Construtor da Classe. Método executado quando um objeto é criado.\n",
    "    def __init__(self, umNome, umaIdade, umaProfissao):\n",
    "        # Atributos da classe\n",
    "        self.nome = umNome\n",
    "        self.idade = umaIdade\n",
    "        self.profissao = umaProfissao\n",
    "        self.endereco = \"\"\n",
    "    \n",
    "    # Método que atribui um valor para o atributo nome\n",
    "    def alteraNome(self, novoNome):\n",
    "        self.nome = novoNome\n",
    "    \n",
    "    # Método que atribui um valor para o atributo idade\n",
    "    def alteraIdade(self, novaIdade):\n",
    "        self.idade = novaIdade\n",
    "    \n",
    "    # Método que atribui um valor para o atributo profissão\n",
    "    def alteraProfissao(self, novaProfissao):\n",
    "        self.profissao = novaProfissao  \n",
    "    \n",
    "    # Método que atribui um valor para o atributo endereço\n",
    "    def alteraEndereco(self, novoEndereco):\n",
    "        self.endereco = novoEndereco    \n",
    "    \n",
    "    # Método que imprime o valor dos atributos do objeto\n",
    "    def imprimirAtributos(self):\n",
    "        print(\"Esse objeto tem os seguintes dados:\", \"\\nNome:\", self.nome, \"\\nIdade:\", self.idade, \"\\nProfissão:\", self.profissao, \"\\nEndereço:\", self.endereco)"
   ]
  }
 ],
 "metadata": {
  "kernelspec": {
   "display_name": "Python 3 (ipykernel)",
   "language": "python",
   "name": "python3"
  },
  "language_info": {
   "codemirror_mode": {
    "name": "ipython",
    "version": 3
   },
   "file_extension": ".py",
   "mimetype": "text/x-python",
   "name": "python",
   "nbconvert_exporter": "python",
   "pygments_lexer": "ipython3",
   "version": "3.9.13"
  }
 },
 "nbformat": 4,
 "nbformat_minor": 4
}
